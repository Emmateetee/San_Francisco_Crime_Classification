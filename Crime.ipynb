{
 "cells": [
  {
   "cell_type": "code",
   "execution_count": null,
   "metadata": {
    "colab": {},
    "colab_type": "code",
    "id": "9O7z2yJbVQ2h"
   },
   "outputs": [],
   "source": []
  },
  {
   "cell_type": "markdown",
   "metadata": {
    "colab_type": "text",
    "id": "Q0zTcFmXVQ26"
   },
   "source": [
    "#### Import relevant libraries for the analysis"
   ]
  },
  {
   "cell_type": "code",
   "execution_count": null,
   "metadata": {
    "colab": {
     "base_uri": "https://localhost:8080/",
     "height": 74
    },
    "colab_type": "code",
    "id": "15DbRxbVVQ29",
    "outputId": "bd6f2403-e338-4482-e900-deda69a25c25"
   },
   "outputs": [
    {
     "name": "stderr",
     "output_type": "stream",
     "text": [
      "/usr/local/lib/python3.6/dist-packages/statsmodels/tools/_testing.py:19: FutureWarning: pandas.util.testing is deprecated. Use the functions in the public API at pandas.testing instead.\n",
      "  import pandas.util.testing as tm\n"
     ]
    }
   ],
   "source": [
    "import numpy as np\n",
    "import pandas as pd\n",
    "import seaborn as sns\n",
    "import matplotlib.pyplot as plt\n",
    "%matplotlib inline"
   ]
  },
  {
   "cell_type": "markdown",
   "metadata": {
    "colab_type": "text",
    "id": "NVepejixVQ3Z"
   },
   "source": [
    "#### Read in the data"
   ]
  },
  {
   "cell_type": "code",
   "execution_count": null,
   "metadata": {
    "colab": {},
    "colab_type": "code",
    "id": "Z75EFoG6VQ3c"
   },
   "outputs": [],
   "source": [
    "train = pd.read_csv('train.csv')"
   ]
  },
  {
   "cell_type": "code",
   "execution_count": null,
   "metadata": {
    "colab": {},
    "colab_type": "code",
    "id": "12jfUX1nVQ3p",
    "outputId": "ca10f11e-3843-476b-852a-8477f33c3701"
   },
   "outputs": [
    {
     "data": {
      "text/html": [
       "<div>\n",
       "<style scoped>\n",
       "    .dataframe tbody tr th:only-of-type {\n",
       "        vertical-align: middle;\n",
       "    }\n",
       "\n",
       "    .dataframe tbody tr th {\n",
       "        vertical-align: top;\n",
       "    }\n",
       "\n",
       "    .dataframe thead th {\n",
       "        text-align: right;\n",
       "    }\n",
       "</style>\n",
       "<table border=\"1\" class=\"dataframe\">\n",
       "  <thead>\n",
       "    <tr style=\"text-align: right;\">\n",
       "      <th></th>\n",
       "      <th>Dates</th>\n",
       "      <th>Category</th>\n",
       "      <th>Descript</th>\n",
       "      <th>DayOfWeek</th>\n",
       "      <th>PdDistrict</th>\n",
       "      <th>Resolution</th>\n",
       "      <th>Address</th>\n",
       "      <th>X</th>\n",
       "      <th>Y</th>\n",
       "    </tr>\n",
       "  </thead>\n",
       "  <tbody>\n",
       "    <tr>\n",
       "      <th>0</th>\n",
       "      <td>2015-05-13 23:53:00</td>\n",
       "      <td>WARRANTS</td>\n",
       "      <td>WARRANT ARREST</td>\n",
       "      <td>Wednesday</td>\n",
       "      <td>NORTHERN</td>\n",
       "      <td>ARREST, BOOKED</td>\n",
       "      <td>OAK ST / LAGUNA ST</td>\n",
       "      <td>-122.425892</td>\n",
       "      <td>37.774599</td>\n",
       "    </tr>\n",
       "    <tr>\n",
       "      <th>1</th>\n",
       "      <td>2015-05-13 23:53:00</td>\n",
       "      <td>OTHER OFFENSES</td>\n",
       "      <td>TRAFFIC VIOLATION ARREST</td>\n",
       "      <td>Wednesday</td>\n",
       "      <td>NORTHERN</td>\n",
       "      <td>ARREST, BOOKED</td>\n",
       "      <td>OAK ST / LAGUNA ST</td>\n",
       "      <td>-122.425892</td>\n",
       "      <td>37.774599</td>\n",
       "    </tr>\n",
       "    <tr>\n",
       "      <th>2</th>\n",
       "      <td>2015-05-13 23:33:00</td>\n",
       "      <td>OTHER OFFENSES</td>\n",
       "      <td>TRAFFIC VIOLATION ARREST</td>\n",
       "      <td>Wednesday</td>\n",
       "      <td>NORTHERN</td>\n",
       "      <td>ARREST, BOOKED</td>\n",
       "      <td>VANNESS AV / GREENWICH ST</td>\n",
       "      <td>-122.424363</td>\n",
       "      <td>37.800414</td>\n",
       "    </tr>\n",
       "    <tr>\n",
       "      <th>3</th>\n",
       "      <td>2015-05-13 23:30:00</td>\n",
       "      <td>LARCENY/THEFT</td>\n",
       "      <td>GRAND THEFT FROM LOCKED AUTO</td>\n",
       "      <td>Wednesday</td>\n",
       "      <td>NORTHERN</td>\n",
       "      <td>NONE</td>\n",
       "      <td>1500 Block of LOMBARD ST</td>\n",
       "      <td>-122.426995</td>\n",
       "      <td>37.800873</td>\n",
       "    </tr>\n",
       "    <tr>\n",
       "      <th>4</th>\n",
       "      <td>2015-05-13 23:30:00</td>\n",
       "      <td>LARCENY/THEFT</td>\n",
       "      <td>GRAND THEFT FROM LOCKED AUTO</td>\n",
       "      <td>Wednesday</td>\n",
       "      <td>PARK</td>\n",
       "      <td>NONE</td>\n",
       "      <td>100 Block of BRODERICK ST</td>\n",
       "      <td>-122.438738</td>\n",
       "      <td>37.771541</td>\n",
       "    </tr>\n",
       "  </tbody>\n",
       "</table>\n",
       "</div>"
      ],
      "text/plain": [
       "                 Dates        Category                      Descript  \\\n",
       "0  2015-05-13 23:53:00        WARRANTS                WARRANT ARREST   \n",
       "1  2015-05-13 23:53:00  OTHER OFFENSES      TRAFFIC VIOLATION ARREST   \n",
       "2  2015-05-13 23:33:00  OTHER OFFENSES      TRAFFIC VIOLATION ARREST   \n",
       "3  2015-05-13 23:30:00   LARCENY/THEFT  GRAND THEFT FROM LOCKED AUTO   \n",
       "4  2015-05-13 23:30:00   LARCENY/THEFT  GRAND THEFT FROM LOCKED AUTO   \n",
       "\n",
       "   DayOfWeek PdDistrict      Resolution                    Address  \\\n",
       "0  Wednesday   NORTHERN  ARREST, BOOKED         OAK ST / LAGUNA ST   \n",
       "1  Wednesday   NORTHERN  ARREST, BOOKED         OAK ST / LAGUNA ST   \n",
       "2  Wednesday   NORTHERN  ARREST, BOOKED  VANNESS AV / GREENWICH ST   \n",
       "3  Wednesday   NORTHERN            NONE   1500 Block of LOMBARD ST   \n",
       "4  Wednesday       PARK            NONE  100 Block of BRODERICK ST   \n",
       "\n",
       "            X          Y  \n",
       "0 -122.425892  37.774599  \n",
       "1 -122.425892  37.774599  \n",
       "2 -122.424363  37.800414  \n",
       "3 -122.426995  37.800873  \n",
       "4 -122.438738  37.771541  "
      ]
     },
     "execution_count": 3,
     "metadata": {
      "tags": []
     },
     "output_type": "execute_result"
    }
   ],
   "source": [
    "# FETCH THE FIRST FIVE ROWS IN THE DATA\n",
    "train.head()"
   ]
  },
  {
   "cell_type": "code",
   "execution_count": null,
   "metadata": {
    "colab": {},
    "colab_type": "code",
    "id": "xq37fa1kVQ34",
    "outputId": "181930ff-4210-451e-b7ae-b4484cc55420"
   },
   "outputs": [
    {
     "data": {
      "text/plain": [
       "(878049, 9)"
      ]
     },
     "execution_count": 4,
     "metadata": {
      "tags": []
     },
     "output_type": "execute_result"
    }
   ],
   "source": [
    "# THE TOTAL NUMBER OF ROWS AND COLUMNS\n",
    "train.shape"
   ]
  },
  {
   "cell_type": "markdown",
   "metadata": {
    "colab_type": "text",
    "id": "3zsaIC7wVQ4I"
   },
   "source": [
    "#### Getting additional information about the data"
   ]
  },
  {
   "cell_type": "code",
   "execution_count": null,
   "metadata": {
    "colab": {},
    "colab_type": "code",
    "id": "3EN739dvVQ4L",
    "outputId": "651ca692-d4ee-4784-a466-c9258fed6c62"
   },
   "outputs": [
    {
     "name": "stdout",
     "output_type": "stream",
     "text": [
      "<class 'pandas.core.frame.DataFrame'>\n",
      "RangeIndex: 878049 entries, 0 to 878048\n",
      "Data columns (total 9 columns):\n",
      " #   Column      Non-Null Count   Dtype  \n",
      "---  ------      --------------   -----  \n",
      " 0   Dates       878049 non-null  object \n",
      " 1   Category    878049 non-null  object \n",
      " 2   Descript    878049 non-null  object \n",
      " 3   DayOfWeek   878049 non-null  object \n",
      " 4   PdDistrict  878049 non-null  object \n",
      " 5   Resolution  878049 non-null  object \n",
      " 6   Address     878049 non-null  object \n",
      " 7   X           878049 non-null  float64\n",
      " 8   Y           878049 non-null  float64\n",
      "dtypes: float64(2), object(7)\n",
      "memory usage: 60.3+ MB\n"
     ]
    }
   ],
   "source": [
    "train.info()"
   ]
  },
  {
   "cell_type": "markdown",
   "metadata": {
    "colab_type": "text",
    "id": "OWKJBSCAVQ4Y"
   },
   "source": [
    "###### The data has no missing values. Majority of the columns are of the datatype \"Object\" of which I would convert to numeric format for the purpose of modelling."
   ]
  },
  {
   "cell_type": "markdown",
   "metadata": {
    "colab_type": "text",
    "id": "-qV6DvHbVQ4Z"
   },
   "source": [
    "#### The Dates column is converted to datetime format so as to generate additional columns for the analysis"
   ]
  },
  {
   "cell_type": "code",
   "execution_count": null,
   "metadata": {
    "colab": {},
    "colab_type": "code",
    "id": "BN2e17aJVQ4c"
   },
   "outputs": [],
   "source": [
    "train['Dates']= pd.to_datetime(train['Dates'])"
   ]
  },
  {
   "cell_type": "markdown",
   "metadata": {
    "colab_type": "text",
    "id": "szRXyadhVQ4k"
   },
   "source": [
    "#### From the Dates column, four additional columns are generated which indicate the Year, Month, Day of the month and Hour of the crime."
   ]
  },
  {
   "cell_type": "code",
   "execution_count": null,
   "metadata": {
    "colab": {},
    "colab_type": "code",
    "id": "_Ve-Gl46VQ4m"
   },
   "outputs": [],
   "source": [
    "train['Year'] = train.Dates.dt.year\n",
    "train['Month'] = train.Dates.dt.month\n",
    "train['Day'] = train.Dates.dt.day\n",
    "train['Hour'] = train.Dates.dt.hour"
   ]
  },
  {
   "cell_type": "code",
   "execution_count": null,
   "metadata": {
    "colab": {},
    "colab_type": "code",
    "id": "sJhVVcz7VQ42",
    "outputId": "1980b8da-02b3-431d-9cd7-f312e02e65d5"
   },
   "outputs": [
    {
     "data": {
      "text/plain": [
       "<matplotlib.axes._subplots.AxesSubplot at 0x1e3abc8eb48>"
      ]
     },
     "execution_count": 8,
     "metadata": {
      "tags": []
     },
     "output_type": "execute_result"
    },
    {
     "data": {
      "image/png": "[encoded data removed]",
      "text/plain": [
       "<Figure size 432x288 with 1 Axes>"
      ]
     },
     "metadata": {
      "needs_background": "light",
      "tags": []
     },
     "output_type": "display_data"
    }
   ],
   "source": [
    "sns.countplot(train['Year'])"
   ]
  },
  {
   "cell_type": "markdown",
   "metadata": {
    "colab_type": "text",
    "id": "xI1fi5erVQ5G"
   },
   "source": [
    "#### From the above plot, we can infer that year 2015 had the least number of crimes committed while 2013 had the highest number of crime"
   ]
  },
  {
   "cell_type": "code",
   "execution_count": null,
   "metadata": {
    "colab": {},
    "colab_type": "code",
    "id": "No3uxj_UVQ5J",
    "outputId": "d5822bd3-f692-4680-b291-f548231484db"
   },
   "outputs": [
    {
     "data": {
      "text/plain": [
       "2013    75606\n",
       "2014    74766\n",
       "2003    73902\n",
       "2004    73422\n",
       "2012    71731\n",
       "2005    70779\n",
       "2008    70174\n",
       "2006    69909\n",
       "2009    69000\n",
       "2007    68015\n",
       "2011    66619\n",
       "2010    66542\n",
       "2015    27584\n",
       "Name: Year, dtype: int64"
      ]
     },
     "execution_count": 9,
     "metadata": {
      "tags": []
     },
     "output_type": "execute_result"
    }
   ],
   "source": [
    "train['Year'].value_counts()"
   ]
  },
  {
   "cell_type": "code",
   "execution_count": null,
   "metadata": {
    "colab": {},
    "colab_type": "code",
    "id": "wX92omerVQ5W",
    "outputId": "4c1007a0-4598-4921-c9f0-0b272aaec9d0"
   },
   "outputs": [
    {
     "data": {
      "text/plain": [
       "<matplotlib.axes._subplots.AxesSubplot at 0x1e3b2be5408>"
      ]
     },
     "execution_count": 10,
     "metadata": {
      "tags": []
     },
     "output_type": "execute_result"
    },
    {
     "data": {
      "image/png": "[encoded data removed]",
      "text/plain": [
       "<Figure size 432x288 with 1 Axes>"
      ]
     },
     "metadata": {
      "needs_background": "light",
      "tags": []
     },
     "output_type": "display_data"
    }
   ],
   "source": [
    "sns.countplot(train['Month'])"
   ]
  },
  {
   "cell_type": "markdown",
   "metadata": {
    "colab_type": "text",
    "id": "Gk8bRxWXVQ5q"
   },
   "source": [
    "#### From the plot, we can see a decline in the number of crimes committed between the month of June and September. Most of the crimes are committed in October followed by May."
   ]
  },
  {
   "cell_type": "code",
   "execution_count": null,
   "metadata": {
    "colab": {},
    "colab_type": "code",
    "id": "rWxAgmcjVQ5s",
    "outputId": "622aa800-d749-483c-e62c-73dfdf8e0a29"
   },
   "outputs": [
    {
     "data": {
      "text/plain": [
       "10    80274\n",
       "5     79644\n",
       "4     78096\n",
       "3     76320\n",
       "1     73536\n",
       "11    72975\n",
       "9     71982\n",
       "6     70892\n",
       "2     70813\n",
       "7     69971\n",
       "8     68540\n",
       "12    65006\n",
       "Name: Month, dtype: int64"
      ]
     },
     "execution_count": 11,
     "metadata": {
      "tags": []
     },
     "output_type": "execute_result"
    }
   ],
   "source": [
    "train.Month.value_counts()"
   ]
  },
  {
   "cell_type": "code",
   "execution_count": null,
   "metadata": {
    "colab": {},
    "colab_type": "code",
    "id": "LAz-NY3XVQ54",
    "outputId": "0b791004-d34f-42e9-8921-d38e773a71fc"
   },
   "outputs": [
    {
     "data": {
      "text/plain": [
       "<matplotlib.axes._subplots.AxesSubplot at 0x1e3b2bf5e48>"
      ]
     },
     "execution_count": 12,
     "metadata": {
      "tags": []
     },
     "output_type": "execute_result"
    },
    {
     "data": {
      "image/png": "[encoded data removed]",
      "text/plain": [
       "<Figure size 432x288 with 1 Axes>"
      ]
     },
     "metadata": {
      "needs_background": "light",
      "tags": []
     },
     "output_type": "display_data"
    }
   ],
   "source": [
    "sns.countplot(train['Day'])"
   ]
  },
  {
   "cell_type": "code",
   "execution_count": null,
   "metadata": {
    "colab": {},
    "colab_type": "code",
    "id": "GQizBVHAVQ6H",
    "outputId": "981d07a9-ab7e-403c-de94-d8f856ad16ea"
   },
   "outputs": [
    {
     "data": {
      "text/plain": [
       "<matplotlib.axes._subplots.AxesSubplot at 0x1e3b2da7b08>"
      ]
     },
     "execution_count": 13,
     "metadata": {
      "tags": []
     },
     "output_type": "execute_result"
    },
    {
     "data": {
      "image/png": "[encoded data removed]",
      "text/plain": [
       "<Figure size 432x288 with 1 Axes>"
      ]
     },
     "metadata": {
      "needs_background": "light",
      "tags": []
     },
     "output_type": "display_data"
    }
   ],
   "source": [
    "sns.countplot(train['Hour'])"
   ]
  },
  {
   "cell_type": "markdown",
   "metadata": {
    "colab_type": "text",
    "id": "VcwC1Je7VQ6X"
   },
   "source": [
    "#### From the above plot, we can infer that less crime are committed at the early hours of the day while more crime are committed towards the evening time."
   ]
  },
  {
   "cell_type": "markdown",
   "metadata": {
    "colab_type": "text",
    "id": "rfCxOh3WVQ6Z"
   },
   "source": [
    "#### The \"Resolution\" and \"Descript\" columns are redundant columns. I would drop them so as to ensure no data leakage when building the machine learning model."
   ]
  },
  {
   "cell_type": "code",
   "execution_count": null,
   "metadata": {
    "colab": {},
    "colab_type": "code",
    "id": "q6uOrGDSVQ6h"
   },
   "outputs": [],
   "source": [
    "train.drop(['Resolution','Descript'], 1, inplace = True)"
   ]
  },
  {
   "cell_type": "markdown",
   "metadata": {
    "colab_type": "text",
    "id": "h87Asj1QVQ7v"
   },
   "source": [
    "#### Converting the DayOfWeek column to numeric format by mapping each category to an integer."
   ]
  },
  {
   "cell_type": "code",
   "execution_count": null,
   "metadata": {
    "colab": {},
    "colab_type": "code",
    "id": "fMo25HiXVQ7z",
    "outputId": "f5329d7d-b1e3-41d1-b275-e2f13abe3cee"
   },
   "outputs": [
    {
     "data": {
      "text/plain": [
       "array(['Wednesday', 'Tuesday', 'Monday', 'Sunday', 'Saturday', 'Friday',\n",
       "       'Thursday'], dtype=object)"
      ]
     },
     "execution_count": 15,
     "metadata": {
      "tags": []
     },
     "output_type": "execute_result"
    }
   ],
   "source": [
    "train['DayOfWeek'].unique()"
   ]
  },
  {
   "cell_type": "code",
   "execution_count": null,
   "metadata": {
    "colab": {},
    "colab_type": "code",
    "id": "5vJtYKOEVQ7-"
   },
   "outputs": [],
   "source": [
    "dow = {'Wednesday':4, 'Tuesday':3, 'Monday':2, 'Sunday':1, 'Saturday':7, 'Friday':6, 'Thursday':5}"
   ]
  },
  {
   "cell_type": "code",
   "execution_count": null,
   "metadata": {
    "colab": {},
    "colab_type": "code",
    "id": "B6opyttCVQ8T"
   },
   "outputs": [],
   "source": [
    "train['DayOfWeek'] = train['DayOfWeek'].map(dow)"
   ]
  },
  {
   "cell_type": "code",
   "execution_count": null,
   "metadata": {
    "colab": {},
    "colab_type": "code",
    "id": "z8wsutaEVQ8n",
    "outputId": "7819c7bc-e06c-4773-b5d8-96d3dd43e0e1"
   },
   "outputs": [
    {
     "data": {
      "text/plain": [
       "<matplotlib.axes._subplots.AxesSubplot at 0x1e3b2e85548>"
      ]
     },
     "execution_count": 18,
     "metadata": {
      "tags": []
     },
     "output_type": "execute_result"
    },
    {
     "data": {
      "image/png": "[encoded data removed]",
      "text/plain": [
       "<Figure size 432x288 with 1 Axes>"
      ]
     },
     "metadata": {
      "needs_background": "light",
      "tags": []
     },
     "output_type": "display_data"
    }
   ],
   "source": [
    "sns.countplot(train['DayOfWeek'])"
   ]
  },
  {
   "cell_type": "markdown",
   "metadata": {
    "colab_type": "text",
    "id": "Ak6sOeylVQ8_"
   },
   "source": [
    "#### Explore the PdDistrict column for more information in the data"
   ]
  },
  {
   "cell_type": "code",
   "execution_count": null,
   "metadata": {
    "colab": {},
    "colab_type": "code",
    "id": "FHf3_dWuVQ9A"
   },
   "outputs": [],
   "source": [
    "dist = {'NORTHERN':1, 'PARK':2, 'INGLESIDE':3, 'BAYVIEW':4, 'RICHMOND':5, 'CENTRAL':6,\n",
    "       'TARAVAL':7, 'TENDERLOIN':8, 'MISSION':9, 'SOUTHERN':10}"
   ]
  },
  {
   "cell_type": "markdown",
   "metadata": {
    "colab_type": "text",
    "id": "0g4Dv8SGVQ9M"
   },
   "source": [
    "##### I created a copy of the PdDistrict column for my analysis I would drop this new column later. There are ten police districts contained in this data."
   ]
  },
  {
   "cell_type": "code",
   "execution_count": null,
   "metadata": {
    "colab": {},
    "colab_type": "code",
    "id": "ZXRkb5qbVQ9N"
   },
   "outputs": [],
   "source": [
    "train['PdDist'] = train['PdDistrict'].map(dist)"
   ]
  },
  {
   "cell_type": "code",
   "execution_count": null,
   "metadata": {
    "colab": {},
    "colab_type": "code",
    "id": "tx-mSf8wVQ9g",
    "outputId": "e0a1a50e-f0aa-4550-ef66-1e9885b71849"
   },
   "outputs": [
    {
     "data": {
      "text/plain": [
       "<matplotlib.axes._subplots.AxesSubplot at 0x1e3b1d6b7c8>"
      ]
     },
     "execution_count": 21,
     "metadata": {
      "tags": []
     },
     "output_type": "execute_result"
    },
    {
     "data": {
      "image/png": "[encoded data removed]",
      "text/plain": [
       "<Figure size 432x288 with 1 Axes>"
      ]
     },
     "metadata": {
      "needs_background": "light",
      "tags": []
     },
     "output_type": "display_data"
    }
   ],
   "source": [
    "sns.countplot(train['PdDist'])"
   ]
  },
  {
   "cell_type": "markdown",
   "metadata": {
    "colab_type": "text",
    "id": "9pSemmrYVQ9u"
   },
   "source": [
    "#### From the above plot, we can infer that the Southern Police District recorded the largest number of crime followed by the Mission Police District."
   ]
  },
  {
   "cell_type": "code",
   "execution_count": null,
   "metadata": {
    "colab": {},
    "colab_type": "code",
    "id": "az6vPcFfVQ9w"
   },
   "outputs": [],
   "source": [
    "# DROP THE NEW POLICE DISTRICT COLUMN\n",
    "train.drop('PdDist', 1, inplace = True)"
   ]
  },
  {
   "cell_type": "markdown",
   "metadata": {
    "colab_type": "text",
    "id": "IF2o19mAVQ94"
   },
   "source": [
    "#### For the purpose of modelling, I OneHot Encoded the Police District column using the Pandas Get_Dummies() method and then concatenated it with the Train Dataframe. Meanwhile I dropped the original PdDistrict column since it's no longer needed."
   ]
  },
  {
   "cell_type": "code",
   "execution_count": null,
   "metadata": {
    "colab": {},
    "colab_type": "code",
    "id": "d2jY6NjUVQ98"
   },
   "outputs": [],
   "source": [
    "dummy1 = pd.get_dummies(train['PdDistrict'],prefix = 'PdDist', prefix_sep = '_')"
   ]
  },
  {
   "cell_type": "code",
   "execution_count": null,
   "metadata": {
    "colab": {},
    "colab_type": "code",
    "id": "QzpKzUo7VQ-D"
   },
   "outputs": [],
   "source": [
    "train = pd.concat([train, dummy1], axis = 1)\n",
    "train.drop('PdDistrict', 1, inplace = True)"
   ]
  },
  {
   "cell_type": "markdown",
   "metadata": {
    "colab_type": "text",
    "id": "m_7z9XseVQ-P"
   },
   "source": [
    "#### Exploring the Address, X and Y columns"
   ]
  },
  {
   "cell_type": "code",
   "execution_count": null,
   "metadata": {
    "colab": {},
    "colab_type": "code",
    "id": "FaqOGlifVQ-U",
    "outputId": "d2a15415-2f65-4a0a-d189-996e11b4c253"
   },
   "outputs": [
    {
     "data": {
      "text/plain": [
       "23228"
      ]
     },
     "execution_count": 25,
     "metadata": {
      "tags": []
     },
     "output_type": "execute_result"
    }
   ],
   "source": [
    "train['Address'].nunique()"
   ]
  },
  {
   "cell_type": "code",
   "execution_count": null,
   "metadata": {
    "colab": {},
    "colab_type": "code",
    "id": "NkQPh5kLVQ-d",
    "outputId": "235ee863-a947-4523-88f7-744dc4c89a3a"
   },
   "outputs": [
    {
     "data": {
      "text/plain": [
       "34243"
      ]
     },
     "execution_count": 26,
     "metadata": {
      "tags": []
     },
     "output_type": "execute_result"
    }
   ],
   "source": [
    "train['X'].nunique()"
   ]
  },
  {
   "cell_type": "code",
   "execution_count": null,
   "metadata": {
    "colab": {},
    "colab_type": "code",
    "id": "iq8HtvWsVQ-k",
    "outputId": "15d24d4e-b91e-496f-bc68-db3765bc1bb4"
   },
   "outputs": [
    {
     "data": {
      "text/plain": [
       "34243"
      ]
     },
     "execution_count": 27,
     "metadata": {
      "tags": []
     },
     "output_type": "execute_result"
    }
   ],
   "source": [
    "train['Y'].nunique()"
   ]
  },
  {
   "cell_type": "code",
   "execution_count": null,
   "metadata": {
    "colab": {},
    "colab_type": "code",
    "id": "_h4vF39TVQ-w",
    "outputId": "9e9aaa78-4100-44a2-caae-74d120f1fbbc"
   },
   "outputs": [
    {
     "data": {
      "text/plain": [
       "Address                  X            Y        \n",
       "0 Block of  HARRISON ST  -122.389008  37.789247     1\n",
       "0 Block of 10TH AV       -122.469055  37.786629     3\n",
       "                         -122.468917  37.786638     2\n",
       "0 Block of 10TH ST       -122.417258  37.776270    21\n",
       "                         -122.417160  37.776347     1\n",
       "                                                   ..\n",
       "ZOE ST / BRANNAN ST      -122.395309  37.779297     8\n",
       "ZOE ST / BRYANT ST       -122.396849  37.780528     1\n",
       "                                      37.780528     9\n",
       "ZOE ST / FREELON ST      -122.395839  37.779720     4\n",
       "ZOE ST / WELSH ST        -122.396308  37.780097     3\n",
       "Name: Address, Length: 44009, dtype: int64"
      ]
     },
     "execution_count": 28,
     "metadata": {
      "tags": []
     },
     "output_type": "execute_result"
    }
   ],
   "source": [
    "train.groupby(['Address', 'X', 'Y'])['Address'].count()"
   ]
  },
  {
   "cell_type": "markdown",
   "metadata": {
    "colab_type": "text",
    "id": "vr6r8L3QVQ-1"
   },
   "source": [
    "#### Since the Coordinates (X and Y columns) represent the respective location, the Address column is assumed to be a redundant column. We thereby drop the column together with the Dates column."
   ]
  },
  {
   "cell_type": "code",
   "execution_count": null,
   "metadata": {
    "colab": {},
    "colab_type": "code",
    "id": "KFPhmn2uVQ-7"
   },
   "outputs": [],
   "source": [
    "train.drop(['Dates', 'Address'], 1, inplace = True)"
   ]
  },
  {
   "cell_type": "markdown",
   "metadata": {
    "colab_type": "text",
    "id": "gmteN2QuVQ_D"
   },
   "source": [
    "#### Explore the Category column which is the TARGET."
   ]
  },
  {
   "cell_type": "code",
   "execution_count": null,
   "metadata": {
    "colab": {},
    "colab_type": "code",
    "id": "rRqZcPIlVQ_E"
   },
   "outputs": [],
   "source": [
    "def func(*args):\n",
    "    lst =[]\n",
    "    cat = ['LARCENY/THEFT', 'OTHER OFFENSES', 'NON-CRIMINAL', 'ASSAULT']\n",
    "    for dat in args:\n",
    "        if dat not in cat:\n",
    "            lst.append('OTHER CRIMES')\n",
    "        else:\n",
    "            lst.append(dat)\n",
    "#     lst = np.asarray(lst)\n",
    "#     for n in lst:\n",
    "#         print(n)\n",
    "    return lst"
   ]
  },
  {
   "cell_type": "code",
   "execution_count": null,
   "metadata": {
    "colab": {},
    "colab_type": "code",
    "id": "zpgmgVuBVQ_j"
   },
   "outputs": [],
   "source": [
    "tar= train['Category'].apply(func,convert_dtype=False, args=())"
   ]
  },
  {
   "cell_type": "code",
   "execution_count": null,
   "metadata": {
    "colab": {},
    "colab_type": "code",
    "id": "6va9SphQVQ_o"
   },
   "outputs": [],
   "source": [
    "tar2 = tar.astype(str)"
   ]
  },
  {
   "cell_type": "code",
   "execution_count": null,
   "metadata": {
    "colab": {},
    "colab_type": "code",
    "id": "67U0fka6VQ_x",
    "outputId": "2b5f1251-6338-47d4-d66a-a8dfd6ec9e93"
   },
   "outputs": [
    {
     "data": {
      "text/plain": [
       "['OTHER CRIMES']      407787\n",
       "['LARCENY/THEFT']     174900\n",
       "['OTHER OFFENSES']    126182\n",
       "['NON-CRIMINAL']       92304\n",
       "['ASSAULT']            76876\n",
       "Name: Category, dtype: int64"
      ]
     },
     "execution_count": 108,
     "metadata": {
      "tags": []
     },
     "output_type": "execute_result"
    }
   ],
   "source": [
    "tar2.value_counts()"
   ]
  },
  {
   "cell_type": "code",
   "execution_count": null,
   "metadata": {
    "colab": {},
    "colab_type": "code",
    "id": "YYQI_3dTVQ_2",
    "outputId": "3504b2df-2e07-43a6-a701-3fe2bd04bc2a"
   },
   "outputs": [
    {
     "data": {
      "text/plain": [
       "array([\"['OTHER CRIMES']\", \"['OTHER OFFENSES']\", \"['LARCENY/THEFT']\",\n",
       "       \"['NON-CRIMINAL']\", \"['ASSAULT']\"], dtype=object)"
      ]
     },
     "execution_count": 109,
     "metadata": {
      "tags": []
     },
     "output_type": "execute_result"
    }
   ],
   "source": [
    "tar2.unique()"
   ]
  },
  {
   "cell_type": "code",
   "execution_count": null,
   "metadata": {
    "colab": {},
    "colab_type": "code",
    "id": "mPRVSBywVQ_8"
   },
   "outputs": [],
   "source": [
    "var1 = tar2.str.replace(\"['\", \"\", regex = False)"
   ]
  },
  {
   "cell_type": "code",
   "execution_count": null,
   "metadata": {
    "colab": {},
    "colab_type": "code",
    "id": "dTWhy1UaVRAD"
   },
   "outputs": [],
   "source": [
    "var1 = var1.str.replace(\"']\", \"\", regex = False)"
   ]
  },
  {
   "cell_type": "code",
   "execution_count": null,
   "metadata": {
    "colab": {},
    "colab_type": "code",
    "id": "EDeZ7acaVRAG",
    "outputId": "a01f07b6-d536-47e6-891e-e4932cae32bf"
   },
   "outputs": [
    {
     "data": {
      "text/plain": [
       "array(['OTHER CRIMES', 'OTHER OFFENSES', 'LARCENY/THEFT', 'NON-CRIMINAL',\n",
       "       'ASSAULT'], dtype=object)"
      ]
     },
     "execution_count": 125,
     "metadata": {
      "tags": []
     },
     "output_type": "execute_result"
    }
   ],
   "source": [
    "var1.unique()"
   ]
  },
  {
   "cell_type": "code",
   "execution_count": null,
   "metadata": {
    "colab": {},
    "colab_type": "code",
    "id": "5DGYPZB1VRAN"
   },
   "outputs": [],
   "source": [
    "train['Target'] = var1"
   ]
  },
  {
   "cell_type": "code",
   "execution_count": null,
   "metadata": {
    "colab": {},
    "colab_type": "code",
    "id": "smXLy3-SVRAT"
   },
   "outputs": [],
   "source": [
    "train.drop('Category', 1, inplace = True)"
   ]
  },
  {
   "cell_type": "code",
   "execution_count": null,
   "metadata": {
    "colab": {},
    "colab_type": "code",
    "id": "DhRS1Mm_VRAY"
   },
   "outputs": [],
   "source": [
    "train.to_csv('trainset.csv',index = False)"
   ]
  },
  {
   "cell_type": "markdown",
   "metadata": {
    "colab_type": "text",
    "id": "tjtQTgYgXtu8"
   },
   "source": [
    "#### Separating the features from the target"
   ]
  },
  {
   "cell_type": "code",
   "execution_count": null,
   "metadata": {
    "colab": {},
    "colab_type": "code",
    "id": "iR2wG4aaVRAd"
   },
   "outputs": [],
   "source": [
    "from sklearn.preprocessing import LabelEncoder\n",
    "le = LabelEncoder()\n",
    "train['Target'] = le.fit_transform(train['Target'])"
   ]
  },
  {
   "cell_type": "code",
   "execution_count": null,
   "metadata": {
    "colab": {
     "base_uri": "https://localhost:8080/",
     "height": 36
    },
    "colab_type": "code",
    "id": "pEWmrkNPVRAl",
    "outputId": "842b8c76-792b-436d-88b0-e632a6543138"
   },
   "outputs": [
    {
     "data": {
      "text/plain": [
       "array([3, 4, 1, 2, 0])"
      ]
     },
     "execution_count": 5,
     "metadata": {
      "tags": []
     },
     "output_type": "execute_result"
    }
   ],
   "source": [
    "train.Target.unique()"
   ]
  },
  {
   "cell_type": "code",
   "execution_count": null,
   "metadata": {
    "colab": {},
    "colab_type": "code",
    "id": "LIXxoxDVVRAq"
   },
   "outputs": [],
   "source": [
    "data = train.drop('Target', axis = 1)\n",
    "target = train.Target"
   ]
  },
  {
   "cell_type": "code",
   "execution_count": null,
   "metadata": {
    "colab": {
     "base_uri": "https://localhost:8080/",
     "height": 54
    },
    "colab_type": "code",
    "id": "lb8AV8tNVRAv",
    "outputId": "b88f4f76-54ea-4346-cacd-a47654ac4685"
   },
   "outputs": [
    {
     "name": "stdout",
     "output_type": "stream",
     "text": [
      "(878049, 17)\n",
      "(878049,)\n"
     ]
    }
   ],
   "source": [
    "print(data.shape)\n",
    "print(target.shape)"
   ]
  },
  {
   "cell_type": "code",
   "execution_count": null,
   "metadata": {
    "colab": {},
    "colab_type": "code",
    "id": "0rKlkclrVRA2"
   },
   "outputs": [],
   "source": [
    "from sklearn.neighbors import KNeighborsClassifier\n",
    "from sklearn.svm import SVC\n",
    "from sklearn.metrics import accuracy_score, confusion_matrix, log_loss\n",
    "from numpy import mean, std\n",
    "from sklearn.model_selection import train_test_split"
   ]
  },
  {
   "cell_type": "code",
   "execution_count": null,
   "metadata": {
    "colab": {},
    "colab_type": "code",
    "id": "WCkXqYHWVRA8"
   },
   "outputs": [],
   "source": [
    "X_train, X_test, y_train, y_test = train_test_split(data, target, test_size=0.2, random_state=42)"
   ]
  },
  {
   "cell_type": "code",
   "execution_count": null,
   "metadata": {
    "colab": {},
    "colab_type": "code",
    "id": "Pi3uIRVaVRBE"
   },
   "outputs": [],
   "source": [
    "knn = KNeighborsClassifier()"
   ]
  },
  {
   "cell_type": "code",
   "execution_count": null,
   "metadata": {
    "colab": {
     "base_uri": "https://localhost:8080/",
     "height": 73
    },
    "colab_type": "code",
    "id": "GyAwgufCVRBJ",
    "outputId": "048bd6d9-29b0-445f-a7b7-242e8c2b99f4"
   },
   "outputs": [
    {
     "data": {
      "text/plain": [
       "KNeighborsClassifier(algorithm='auto', leaf_size=30, metric='minkowski',\n",
       "                     metric_params=None, n_jobs=None, n_neighbors=5, p=2,\n",
       "                     weights='uniform')"
      ]
     },
     "execution_count": 11,
     "metadata": {
      "tags": []
     },
     "output_type": "execute_result"
    }
   ],
   "source": [
    "knn.fit(X_train, y_train)"
   ]
  },
  {
   "cell_type": "code",
   "execution_count": null,
   "metadata": {
    "colab": {},
    "colab_type": "code",
    "id": "5UBBQL3LVRBN"
   },
   "outputs": [],
   "source": [
    "pred = knn.predict(X_test)"
   ]
  },
  {
   "cell_type": "code",
   "execution_count": null,
   "metadata": {
    "colab": {
     "base_uri": "https://localhost:8080/",
     "height": 36
    },
    "colab_type": "code",
    "id": "HFXB9XYDVRBT",
    "outputId": "33a024de-da9c-4948-deec-dbd90b2e1c7a"
   },
   "outputs": [
    {
     "name": "stdout",
     "output_type": "stream",
     "text": [
      "ACCURACY:  0.3897670975456978\n"
     ]
    }
   ],
   "source": [
    "print('ACCURACY: ', accuracy_score(y_test, pred))"
   ]
  },
  {
   "cell_type": "code",
   "execution_count": null,
   "metadata": {
    "colab": {
     "base_uri": "https://localhost:8080/",
     "height": 110
    },
    "colab_type": "code",
    "id": "Tq8WmHIcVRBZ",
    "outputId": "4bf6f287-ff4c-438b-c902-fc8790f3c85a"
   },
   "outputs": [
    {
     "data": {
      "text/plain": [
       "array([[ 1877,  2756,   932,  8916,   883],\n",
       "       [ 2457, 11123,  2502, 17407,  1610],\n",
       "       [ 1476,  4463,  1719,  9847,   995],\n",
       "       [ 6014, 14634,  4828, 51456,  4689],\n",
       "       [ 1894,  4165,  1539, 15156,  2272]])"
      ]
     },
     "execution_count": 14,
     "metadata": {
      "tags": []
     },
     "output_type": "execute_result"
    }
   ],
   "source": [
    "confusion_matrix(y_test, pred)"
   ]
  },
  {
   "cell_type": "code",
   "execution_count": null,
   "metadata": {
    "colab": {},
    "colab_type": "code",
    "id": "qvLsE8-iVRBj"
   },
   "outputs": [],
   "source": [
    "# svm = SVC()\n",
    "# svm.fit(X_train, y_train)"
   ]
  },
  {
   "cell_type": "code",
   "execution_count": 1,
   "metadata": {
    "colab": {
     "base_uri": "https://localhost:8080/",
     "height": 192
    },
    "colab_type": "code",
    "id": "_C7waYVHVRBn",
    "outputId": "f01e7491-534f-4397-b88c-bef85d02bf55"
   },
   "outputs": [],
   "source": [
    "# pred2 = svm.predict(X_test)\n",
    "# print('ACCURACY: ', accuracy_score(y_test, pred2))"
   ]
  },
  {
   "cell_type": "code",
   "execution_count": null,
   "metadata": {
    "colab": {},
    "colab_type": "code",
    "id": "uHskB2kWVRBs"
   },
   "outputs": [],
   "source": [
    "# confusion_matrix(y_test, pred2)"
   ]
  },
  {
   "cell_type": "code",
   "execution_count": 2,
   "metadata": {
    "colab": {
     "base_uri": "https://localhost:8080/",
     "height": 518
    },
    "colab_type": "code",
    "id": "neRVh1xtVRBv",
    "outputId": "70c570af-c636-4c5a-be7b-7693602cf06e"
   },
   "outputs": [],
   "source": [
    "# !pip install catboost\n",
    "# !pip install xgboost\n",
    "# !pip install lightgbm"
   ]
  },
  {
   "cell_type": "code",
   "execution_count": null,
   "metadata": {
    "colab": {},
    "colab_type": "code",
    "id": "fo-Bdf7QVRB0"
   },
   "outputs": [],
   "source": [
    "# IMPORT THE BOOSTING CLASSIFIER ALGORITHMS\n",
    "from catboost import CatBoostClassifier\n",
    "from xgboost import XGBClassifier\n",
    "from lightgbm import LGBMClassifier\n",
    "from sklearn.model_selection import StratifiedKFold"
   ]
  },
  {
   "cell_type": "code",
   "execution_count": null,
   "metadata": {
    "colab": {},
    "colab_type": "code",
    "id": "CZY04DA2VRB5"
   },
   "outputs": [],
   "source": [
    "kf = StratifiedKFold(n_splits=10, shuffle = False)"
   ]
  },
  {
   "cell_type": "code",
   "execution_count": null,
   "metadata": {
    "colab": {},
    "colab_type": "code",
    "id": "Gr-J3HTpVRB9"
   },
   "outputs": [],
   "source": [
    "# # INITIALIZE THE MODEL\n",
    "cat = CatBoostClassifier(learning_rate = 0.05, max_depth = 5, n_estimators = 5000, \n",
    "                         eval_metric = 'Accuracy',reg_lambda=50,random_state=42)"
   ]
  },
  {
   "cell_type": "code",
   "execution_count": null,
   "metadata": {
    "colab": {
     "base_uri": "https://localhost:8080/",
     "height": 1000
    },
    "colab_type": "code",
    "id": "7tS7oEJEVRCD",
    "outputId": "5c75aa3b-e7fe-4d56-bc25-0139084d31c3"
   },
   "outputs": [
    {
     "name": "stdout",
     "output_type": "stream",
     "text": [
      "================================Fold0====================================\n",
      "0:\tlearn: 0.4757138\ttest: 0.4757138\ttest1: 0.2039064\tbest: 0.2039064 (0)\ttotal: 663ms\tremaining: 55m 16s\n",
      "1:\tlearn: 0.4762694\ttest: 0.4762694\ttest1: 0.2038608\tbest: 0.2039064 (0)\ttotal: 1.19s\tremaining: 49m 40s\n",
      "2:\tlearn: 0.4768211\ttest: 0.4768211\ttest1: 0.2038722\tbest: 0.2039064 (0)\ttotal: 1.74s\tremaining: 48m 15s\n",
      "3:\tlearn: 0.4771286\ttest: 0.4771286\ttest1: 0.2038381\tbest: 0.2039064 (0)\ttotal: 2.29s\tremaining: 47m 35s\n",
      "4:\tlearn: 0.4768211\ttest: 0.4768211\ttest1: 0.2038722\tbest: 0.2039064 (0)\ttotal: 2.86s\tremaining: 47m 37s\n",
      "5:\tlearn: 0.4773779\ttest: 0.4773779\ttest1: 0.2038153\tbest: 0.2039064 (0)\ttotal: 3.39s\tremaining: 47m 3s\n",
      "6:\tlearn: 0.4771779\ttest: 0.4771779\ttest1: 0.2038381\tbest: 0.2039064 (0)\ttotal: 3.95s\tremaining: 46m 58s\n",
      "7:\tlearn: 0.4769426\ttest: 0.4769426\ttest1: 0.2038381\tbest: 0.2039064 (0)\ttotal: 4.48s\tremaining: 46m 34s\n",
      "8:\tlearn: 0.4769502\ttest: 0.4769502\ttest1: 0.2038608\tbest: 0.2039064 (0)\ttotal: 5s\tremaining: 46m 13s\n",
      "9:\tlearn: 0.4772703\ttest: 0.4772703\ttest1: 0.2038381\tbest: 0.2039064 (0)\ttotal: 5.54s\tremaining: 46m 2s\n",
      "10:\tlearn: 0.4769198\ttest: 0.4769198\ttest1: 0.2038494\tbest: 0.2039064 (0)\ttotal: 6.05s\tremaining: 45m 43s\n",
      "11:\tlearn: 0.4769881\ttest: 0.4769881\ttest1: 0.2038608\tbest: 0.2039064 (0)\ttotal: 6.58s\tremaining: 45m 35s\n",
      "12:\tlearn: 0.4770046\ttest: 0.4770046\ttest1: 0.2038608\tbest: 0.2039064 (0)\ttotal: 7.12s\tremaining: 45m 29s\n",
      "13:\tlearn: 0.4772096\ttest: 0.4772096\ttest1: 0.2038381\tbest: 0.2039064 (0)\ttotal: 7.67s\tremaining: 45m 32s\n",
      "14:\tlearn: 0.4773602\ttest: 0.4773602\ttest1: 0.2038039\tbest: 0.2039064 (0)\ttotal: 8.22s\tremaining: 45m 32s\n",
      "15:\tlearn: 0.4778056\ttest: 0.4778056\ttest1: 0.2038039\tbest: 0.2039064 (0)\ttotal: 8.77s\tremaining: 45m 32s\n",
      "16:\tlearn: 0.4776563\ttest: 0.4776563\ttest1: 0.2037925\tbest: 0.2039064 (0)\ttotal: 9.29s\tremaining: 45m 22s\n",
      "17:\tlearn: 0.4778473\ttest: 0.4778473\ttest1: 0.2037242\tbest: 0.2039064 (0)\ttotal: 9.85s\tremaining: 45m 25s\n",
      "18:\tlearn: 0.4775993\ttest: 0.4775993\ttest1: 0.2037356\tbest: 0.2039064 (0)\ttotal: 10.4s\tremaining: 45m 21s\n",
      "19:\tlearn: 0.4783662\ttest: 0.4783662\ttest1: 0.2037242\tbest: 0.2039064 (0)\ttotal: 10.9s\tremaining: 45m 11s\n",
      "20:\tlearn: 0.4785522\ttest: 0.4785522\ttest1: 0.2037242\tbest: 0.2039064 (0)\ttotal: 11.4s\tremaining: 45m 7s\n",
      "21:\tlearn: 0.4784421\ttest: 0.4784421\ttest1: 0.2037242\tbest: 0.2039064 (0)\ttotal: 11.9s\tremaining: 45m 3s\n",
      "22:\tlearn: 0.4785661\ttest: 0.4785661\ttest1: 0.2037242\tbest: 0.2039064 (0)\ttotal: 12.5s\tremaining: 45m 6s\n",
      "23:\tlearn: 0.4786066\ttest: 0.4786066\ttest1: 0.2037242\tbest: 0.2039064 (0)\ttotal: 13s\tremaining: 45m 2s\n",
      "24:\tlearn: 0.4784105\ttest: 0.4784105\ttest1: 0.2037242\tbest: 0.2039064 (0)\ttotal: 13.6s\tremaining: 45m 3s\n",
      "25:\tlearn: 0.4786370\ttest: 0.4786370\ttest1: 0.2036900\tbest: 0.2039064 (0)\ttotal: 14.2s\tremaining: 45m 8s\n",
      "26:\tlearn: 0.4785623\ttest: 0.4785623\ttest1: 0.2037469\tbest: 0.2039064 (0)\ttotal: 14.7s\tremaining: 45m 5s\n",
      "27:\tlearn: 0.4786408\ttest: 0.4786408\ttest1: 0.2037469\tbest: 0.2039064 (0)\ttotal: 15.2s\tremaining: 45m 6s\n",
      "28:\tlearn: 0.4788268\ttest: 0.4788268\ttest1: 0.2037811\tbest: 0.2039064 (0)\ttotal: 15.8s\tremaining: 45m 10s\n",
      "29:\tlearn: 0.4788711\ttest: 0.4788711\ttest1: 0.2038494\tbest: 0.2039064 (0)\ttotal: 16.4s\tremaining: 45m 8s\n",
      "30:\tlearn: 0.4788432\ttest: 0.4788432\ttest1: 0.2038722\tbest: 0.2039064 (0)\ttotal: 16.9s\tremaining: 45m 9s\n",
      "31:\tlearn: 0.4788648\ttest: 0.4788648\ttest1: 0.2038494\tbest: 0.2039064 (0)\ttotal: 17.4s\tremaining: 45m 5s\n",
      "32:\tlearn: 0.4787901\ttest: 0.4787901\ttest1: 0.2038494\tbest: 0.2039064 (0)\ttotal: 18s\tremaining: 45m 8s\n",
      "33:\tlearn: 0.4788939\ttest: 0.4788939\ttest1: 0.2038494\tbest: 0.2039064 (0)\ttotal: 18.6s\tremaining: 45m 11s\n",
      "34:\tlearn: 0.4789824\ttest: 0.4789824\ttest1: 0.2038836\tbest: 0.2039064 (0)\ttotal: 19.1s\tremaining: 45m 11s\n",
      "35:\tlearn: 0.4792279\ttest: 0.4792279\ttest1: 0.2038950\tbest: 0.2039064 (0)\ttotal: 19.7s\tremaining: 45m 14s\n",
      "36:\tlearn: 0.4792052\ttest: 0.4792052\ttest1: 0.2038950\tbest: 0.2039064 (0)\ttotal: 20.2s\tremaining: 45m 10s\n",
      "37:\tlearn: 0.4793811\ttest: 0.4793811\ttest1: 0.2038950\tbest: 0.2039064 (0)\ttotal: 20.7s\tremaining: 45m 5s\n",
      "38:\tlearn: 0.4793456\ttest: 0.4793456\ttest1: 0.2039406\tbest: 0.2039406 (38)\ttotal: 21.2s\tremaining: 45m 1s\n",
      "39:\tlearn: 0.4792798\ttest: 0.4792798\ttest1: 0.2039064\tbest: 0.2039406 (38)\ttotal: 21.8s\tremaining: 44m 57s\n",
      "40:\tlearn: 0.4792646\ttest: 0.4792646\ttest1: 0.2039292\tbest: 0.2039406 (38)\ttotal: 22.3s\tremaining: 44m 55s\n",
      "41:\tlearn: 0.4793507\ttest: 0.4793507\ttest1: 0.2039292\tbest: 0.2039406 (38)\ttotal: 22.9s\tremaining: 44m 57s\n",
      "42:\tlearn: 0.4793684\ttest: 0.4793684\ttest1: 0.2039178\tbest: 0.2039406 (38)\ttotal: 23.3s\tremaining: 44m 50s\n",
      "43:\tlearn: 0.4794418\ttest: 0.4794418\ttest1: 0.2039178\tbest: 0.2039406 (38)\ttotal: 23.9s\tremaining: 44m 51s\n",
      "44:\tlearn: 0.4796139\ttest: 0.4796139\ttest1: 0.2039064\tbest: 0.2039406 (38)\ttotal: 24.5s\tremaining: 44m 54s\n",
      "45:\tlearn: 0.4796455\ttest: 0.4796455\ttest1: 0.2039178\tbest: 0.2039406 (38)\ttotal: 25s\tremaining: 44m 55s\n",
      "46:\tlearn: 0.4797683\ttest: 0.4797683\ttest1: 0.2038950\tbest: 0.2039406 (38)\ttotal: 25.6s\tremaining: 44m 53s\n",
      "47:\tlearn: 0.4799277\ttest: 0.4799277\ttest1: 0.2039064\tbest: 0.2039406 (38)\ttotal: 26.1s\tremaining: 44m 54s\n",
      "48:\tlearn: 0.4800707\ttest: 0.4800707\ttest1: 0.2039292\tbest: 0.2039406 (38)\ttotal: 26.7s\tremaining: 44m 56s\n",
      "49:\tlearn: 0.4800669\ttest: 0.4800669\ttest1: 0.2039064\tbest: 0.2039406 (38)\ttotal: 27.2s\tremaining: 44m 56s\n",
      "50:\tlearn: 0.4802011\ttest: 0.4802011\ttest1: 0.2039178\tbest: 0.2039406 (38)\ttotal: 27.8s\tremaining: 44m 55s\n",
      "51:\tlearn: 0.4802542\ttest: 0.4802542\ttest1: 0.2038950\tbest: 0.2039406 (38)\ttotal: 28.3s\tremaining: 44m 56s\n",
      "52:\tlearn: 0.4804731\ttest: 0.4804731\ttest1: 0.2039064\tbest: 0.2039406 (38)\ttotal: 28.9s\tremaining: 44m 56s\n",
      "53:\tlearn: 0.4804529\ttest: 0.4804529\ttest1: 0.2038950\tbest: 0.2039406 (38)\ttotal: 29.5s\tremaining: 44m 59s\n",
      "54:\tlearn: 0.4805946\ttest: 0.4805946\ttest1: 0.2038722\tbest: 0.2039406 (38)\ttotal: 30s\tremaining: 45m 1s\n",
      "55:\tlearn: 0.4805756\ttest: 0.4805756\ttest1: 0.2038494\tbest: 0.2039406 (38)\ttotal: 30.6s\tremaining: 44m 59s\n",
      "56:\tlearn: 0.4805528\ttest: 0.4805528\ttest1: 0.2038267\tbest: 0.2039406 (38)\ttotal: 31.1s\tremaining: 44m 56s\n",
      "57:\tlearn: 0.4806288\ttest: 0.4806288\ttest1: 0.2038381\tbest: 0.2039406 (38)\ttotal: 31.7s\tremaining: 44m 57s\n",
      "58:\tlearn: 0.4806174\ttest: 0.4806174\ttest1: 0.2038267\tbest: 0.2039406 (38)\ttotal: 32.2s\tremaining: 44m 58s\n",
      "59:\tlearn: 0.4806958\ttest: 0.4806958\ttest1: 0.2038039\tbest: 0.2039406 (38)\ttotal: 32.7s\tremaining: 44m 56s\n",
      "60:\tlearn: 0.4807705\ttest: 0.4807705\ttest1: 0.2038039\tbest: 0.2039406 (38)\ttotal: 33.3s\tremaining: 44m 56s\n",
      "61:\tlearn: 0.4810185\ttest: 0.4810185\ttest1: 0.2037811\tbest: 0.2039406 (38)\ttotal: 33.9s\tremaining: 44m 57s\n",
      "62:\tlearn: 0.4811906\ttest: 0.4811906\ttest1: 0.2037925\tbest: 0.2039406 (38)\ttotal: 34.4s\tremaining: 44m 57s\n",
      "63:\tlearn: 0.4811995\ttest: 0.4811995\ttest1: 0.2038039\tbest: 0.2039406 (38)\ttotal: 35s\tremaining: 44m 56s\n",
      "64:\tlearn: 0.4811982\ttest: 0.4811982\ttest1: 0.2037925\tbest: 0.2039406 (38)\ttotal: 35.5s\tremaining: 44m 52s\n",
      "65:\tlearn: 0.4812691\ttest: 0.4812691\ttest1: 0.2038153\tbest: 0.2039406 (38)\ttotal: 36s\tremaining: 44m 52s\n",
      "66:\tlearn: 0.4812703\ttest: 0.4812703\ttest1: 0.2038153\tbest: 0.2039406 (38)\ttotal: 36.6s\tremaining: 44m 53s\n",
      "67:\tlearn: 0.4813893\ttest: 0.4813893\ttest1: 0.2038836\tbest: 0.2039406 (38)\ttotal: 37.1s\tremaining: 44m 51s\n",
      "68:\tlearn: 0.4814007\ttest: 0.4814007\ttest1: 0.2039178\tbest: 0.2039406 (38)\ttotal: 37.7s\tremaining: 44m 51s\n",
      "69:\tlearn: 0.4814488\ttest: 0.4814488\ttest1: 0.2039292\tbest: 0.2039406 (38)\ttotal: 38.2s\tremaining: 44m 52s\n",
      "70:\tlearn: 0.4816449\ttest: 0.4816449\ttest1: 0.2038836\tbest: 0.2039406 (38)\ttotal: 38.8s\tremaining: 44m 52s\n",
      "71:\tlearn: 0.4817284\ttest: 0.4817284\ttest1: 0.2039747\tbest: 0.2039747 (71)\ttotal: 39.3s\tremaining: 44m 52s\n",
      "72:\tlearn: 0.4819296\ttest: 0.4819296\ttest1: 0.2039178\tbest: 0.2039747 (71)\ttotal: 39.9s\tremaining: 44m 53s\n",
      "73:\tlearn: 0.4819233\ttest: 0.4819233\ttest1: 0.2039292\tbest: 0.2039747 (71)\ttotal: 40.4s\tremaining: 44m 52s\n",
      "74:\tlearn: 0.4819727\ttest: 0.4819727\ttest1: 0.2038722\tbest: 0.2039747 (71)\ttotal: 41s\tremaining: 44m 51s\n",
      "75:\tlearn: 0.4819676\ttest: 0.4819676\ttest1: 0.2039406\tbest: 0.2039747 (71)\ttotal: 41.5s\tremaining: 44m 51s\n",
      "76:\tlearn: 0.4821043\ttest: 0.4821043\ttest1: 0.2039178\tbest: 0.2039747 (71)\ttotal: 42.1s\tremaining: 44m 50s\n",
      "77:\tlearn: 0.4820840\ttest: 0.4820840\ttest1: 0.2039292\tbest: 0.2039747 (71)\ttotal: 42.6s\tremaining: 44m 48s\n",
      "78:\tlearn: 0.4822131\ttest: 0.4822131\ttest1: 0.2039178\tbest: 0.2039747 (71)\ttotal: 43.1s\tremaining: 44m 47s\n",
      "79:\tlearn: 0.4823738\ttest: 0.4823738\ttest1: 0.2039178\tbest: 0.2039747 (71)\ttotal: 43.7s\tremaining: 44m 46s\n",
      "80:\tlearn: 0.4823966\ttest: 0.4823966\ttest1: 0.2039292\tbest: 0.2039747 (71)\ttotal: 44.3s\tremaining: 44m 49s\n",
      "81:\tlearn: 0.4824067\ttest: 0.4824067\ttest1: 0.2038608\tbest: 0.2039747 (71)\ttotal: 44.8s\tremaining: 44m 48s\n",
      "82:\tlearn: 0.4824143\ttest: 0.4824143\ttest1: 0.2038267\tbest: 0.2039747 (71)\ttotal: 45.4s\tremaining: 44m 47s\n",
      "83:\tlearn: 0.4824396\ttest: 0.4824396\ttest1: 0.2038608\tbest: 0.2039747 (71)\ttotal: 45.9s\tremaining: 44m 46s\n",
      "84:\tlearn: 0.4824320\ttest: 0.4824320\ttest1: 0.2038381\tbest: 0.2039747 (71)\ttotal: 46.5s\tremaining: 44m 48s\n",
      "85:\tlearn: 0.4825889\ttest: 0.4825889\ttest1: 0.2038153\tbest: 0.2039747 (71)\ttotal: 47s\tremaining: 44m 46s\n",
      "86:\tlearn: 0.4826648\ttest: 0.4826648\ttest1: 0.2038381\tbest: 0.2039747 (71)\ttotal: 47.5s\tremaining: 44m 44s\n",
      "87:\tlearn: 0.4827205\ttest: 0.4827205\ttest1: 0.2038494\tbest: 0.2039747 (71)\ttotal: 48.1s\tremaining: 44m 45s\n",
      "88:\tlearn: 0.4827484\ttest: 0.4827484\ttest1: 0.2038494\tbest: 0.2039747 (71)\ttotal: 48.6s\tremaining: 44m 43s\n",
      "89:\tlearn: 0.4828686\ttest: 0.4828686\ttest1: 0.2038608\tbest: 0.2039747 (71)\ttotal: 49.2s\tremaining: 44m 43s\n",
      "90:\tlearn: 0.4828623\ttest: 0.4828623\ttest1: 0.2038153\tbest: 0.2039747 (71)\ttotal: 49.8s\tremaining: 44m 44s\n",
      "91:\tlearn: 0.4828559\ttest: 0.4828559\ttest1: 0.2038381\tbest: 0.2039747 (71)\ttotal: 50.3s\tremaining: 44m 42s\n",
      "92:\tlearn: 0.4828673\ttest: 0.4828673\ttest1: 0.2038608\tbest: 0.2039747 (71)\ttotal: 50.8s\tremaining: 44m 41s\n",
      "93:\tlearn: 0.4829141\ttest: 0.4829141\ttest1: 0.2038381\tbest: 0.2039747 (71)\ttotal: 51.3s\tremaining: 44m 38s\n",
      "94:\tlearn: 0.4830660\ttest: 0.4830660\ttest1: 0.2038494\tbest: 0.2039747 (71)\ttotal: 51.9s\tremaining: 44m 40s\n",
      "95:\tlearn: 0.4830736\ttest: 0.4830736\ttest1: 0.2038608\tbest: 0.2039747 (71)\ttotal: 52.4s\tremaining: 44m 39s\n",
      "96:\tlearn: 0.4831989\ttest: 0.4831989\ttest1: 0.2038836\tbest: 0.2039747 (71)\ttotal: 53s\tremaining: 44m 38s\n",
      "97:\tlearn: 0.4831938\ttest: 0.4831938\ttest1: 0.2038836\tbest: 0.2039747 (71)\ttotal: 53.5s\tremaining: 44m 36s\n",
      "98:\tlearn: 0.4831976\ttest: 0.4831976\ttest1: 0.2038950\tbest: 0.2039747 (71)\ttotal: 54s\tremaining: 44m 34s\n",
      "99:\tlearn: 0.4832457\ttest: 0.4832457\ttest1: 0.2038494\tbest: 0.2039747 (71)\ttotal: 54.6s\tremaining: 44m 35s\n",
      "100:\tlearn: 0.4832912\ttest: 0.4832912\ttest1: 0.2039406\tbest: 0.2039747 (71)\ttotal: 55.2s\tremaining: 44m 36s\n",
      "101:\tlearn: 0.4833482\ttest: 0.4833482\ttest1: 0.2039064\tbest: 0.2039747 (71)\ttotal: 55.7s\tremaining: 44m 36s\n",
      "102:\tlearn: 0.4833735\ttest: 0.4833735\ttest1: 0.2039064\tbest: 0.2039747 (71)\ttotal: 56.3s\tremaining: 44m 34s\n",
      "103:\tlearn: 0.4833823\ttest: 0.4833823\ttest1: 0.2038950\tbest: 0.2039747 (71)\ttotal: 56.8s\tremaining: 44m 33s\n",
      "104:\tlearn: 0.4834013\ttest: 0.4834013\ttest1: 0.2039178\tbest: 0.2039747 (71)\ttotal: 57.4s\tremaining: 44m 34s\n",
      "105:\tlearn: 0.4833963\ttest: 0.4833963\ttest1: 0.2038722\tbest: 0.2039747 (71)\ttotal: 57.9s\tremaining: 44m 33s\n",
      "106:\tlearn: 0.4834152\ttest: 0.4834152\ttest1: 0.2038836\tbest: 0.2039747 (71)\ttotal: 58.5s\tremaining: 44m 33s\n",
      "107:\tlearn: 0.4834747\ttest: 0.4834747\ttest1: 0.2039064\tbest: 0.2039747 (71)\ttotal: 59s\tremaining: 44m 33s\n",
      "108:\tlearn: 0.4834482\ttest: 0.4834482\ttest1: 0.2039406\tbest: 0.2039747 (71)\ttotal: 59.6s\tremaining: 44m 33s\n",
      "109:\tlearn: 0.4834646\ttest: 0.4834646\ttest1: 0.2039178\tbest: 0.2039747 (71)\ttotal: 1m\tremaining: 44m 34s\n",
      "110:\tlearn: 0.4834722\ttest: 0.4834722\ttest1: 0.2040089\tbest: 0.2040089 (110)\ttotal: 1m\tremaining: 44m 34s\n",
      "111:\tlearn: 0.4834848\ttest: 0.4834848\ttest1: 0.2039861\tbest: 0.2040089 (110)\ttotal: 1m 1s\tremaining: 44m 35s\n",
      "112:\tlearn: 0.4835557\ttest: 0.4835557\ttest1: 0.2039861\tbest: 0.2040089 (110)\ttotal: 1m 1s\tremaining: 44m 33s\n",
      "113:\tlearn: 0.4835760\ttest: 0.4835760\ttest1: 0.2040203\tbest: 0.2040203 (113)\ttotal: 1m 2s\tremaining: 44m 32s\n",
      "114:\tlearn: 0.4836316\ttest: 0.4836316\ttest1: 0.2040089\tbest: 0.2040203 (113)\ttotal: 1m 2s\tremaining: 44m 33s\n",
      "115:\tlearn: 0.4836582\ttest: 0.4836582\ttest1: 0.2040430\tbest: 0.2040430 (115)\ttotal: 1m 3s\tremaining: 44m 32s\n",
      "116:\tlearn: 0.4836506\ttest: 0.4836506\ttest1: 0.2040317\tbest: 0.2040430 (115)\ttotal: 1m 4s\tremaining: 44m 31s\n",
      "117:\tlearn: 0.4837139\ttest: 0.4837139\ttest1: 0.2039747\tbest: 0.2040430 (115)\ttotal: 1m 4s\tremaining: 44m 31s\n",
      "118:\tlearn: 0.4836949\ttest: 0.4836949\ttest1: 0.2041000\tbest: 0.2041000 (118)\ttotal: 1m 5s\tremaining: 44m 30s\n",
      "119:\tlearn: 0.4837594\ttest: 0.4837594\ttest1: 0.2040658\tbest: 0.2041000 (118)\ttotal: 1m 5s\tremaining: 44m 31s\n",
      "120:\tlearn: 0.4837848\ttest: 0.4837848\ttest1: 0.2040317\tbest: 0.2041000 (118)\ttotal: 1m 6s\tremaining: 44m 30s\n",
      "121:\tlearn: 0.4838050\ttest: 0.4838050\ttest1: 0.2039975\tbest: 0.2041000 (118)\ttotal: 1m 6s\tremaining: 44m 29s\n",
      "122:\tlearn: 0.4840037\ttest: 0.4840037\ttest1: 0.2040203\tbest: 0.2041000 (118)\ttotal: 1m 7s\tremaining: 44m 29s\n",
      "123:\tlearn: 0.4840037\ttest: 0.4840037\ttest1: 0.2040203\tbest: 0.2041000 (118)\ttotal: 1m 7s\tremaining: 44m 29s\n",
      "124:\tlearn: 0.4840037\ttest: 0.4840037\ttest1: 0.2040430\tbest: 0.2041000 (118)\ttotal: 1m 8s\tremaining: 44m 30s\n",
      "125:\tlearn: 0.4840594\ttest: 0.4840594\ttest1: 0.2040430\tbest: 0.2041000 (118)\ttotal: 1m 9s\tremaining: 44m 30s\n",
      "126:\tlearn: 0.4840707\ttest: 0.4840707\ttest1: 0.2039861\tbest: 0.2041000 (118)\ttotal: 1m 9s\tremaining: 44m 29s\n",
      "127:\tlearn: 0.4840809\ttest: 0.4840809\ttest1: 0.2040886\tbest: 0.2041000 (118)\ttotal: 1m 10s\tremaining: 44m 28s\n",
      "128:\tlearn: 0.4840644\ttest: 0.4840644\ttest1: 0.2040317\tbest: 0.2041000 (118)\ttotal: 1m 10s\tremaining: 44m 28s\n",
      "129:\tlearn: 0.4842188\ttest: 0.4842188\ttest1: 0.2040317\tbest: 0.2041000 (118)\ttotal: 1m 11s\tremaining: 44m 29s\n",
      "130:\tlearn: 0.4842593\ttest: 0.4842593\ttest1: 0.2040430\tbest: 0.2041000 (118)\ttotal: 1m 11s\tremaining: 44m 28s\n",
      "131:\tlearn: 0.4842821\ttest: 0.4842821\ttest1: 0.2040203\tbest: 0.2041000 (118)\ttotal: 1m 12s\tremaining: 44m 28s\n",
      "132:\tlearn: 0.4842973\ttest: 0.4842973\ttest1: 0.2040203\tbest: 0.2041000 (118)\ttotal: 1m 12s\tremaining: 44m 28s\n",
      "133:\tlearn: 0.4842846\ttest: 0.4842846\ttest1: 0.2039861\tbest: 0.2041000 (118)\ttotal: 1m 13s\tremaining: 44m 28s\n",
      "134:\tlearn: 0.4842922\ttest: 0.4842922\ttest1: 0.2040089\tbest: 0.2041000 (118)\ttotal: 1m 14s\tremaining: 44m 28s\n",
      "135:\tlearn: 0.4842935\ttest: 0.4842935\ttest1: 0.2040544\tbest: 0.2041000 (118)\ttotal: 1m 14s\tremaining: 44m 27s\n",
      "136:\tlearn: 0.4843086\ttest: 0.4843086\ttest1: 0.2040317\tbest: 0.2041000 (118)\ttotal: 1m 15s\tremaining: 44m 26s\n",
      "137:\tlearn: 0.4843453\ttest: 0.4843453\ttest1: 0.2040317\tbest: 0.2041000 (118)\ttotal: 1m 15s\tremaining: 44m 25s\n",
      "138:\tlearn: 0.4844099\ttest: 0.4844099\ttest1: 0.2040317\tbest: 0.2041000 (118)\ttotal: 1m 16s\tremaining: 44m 25s\n",
      "139:\tlearn: 0.4844871\ttest: 0.4844871\ttest1: 0.2040658\tbest: 0.2041000 (118)\ttotal: 1m 16s\tremaining: 44m 25s\n",
      "140:\tlearn: 0.4845023\ttest: 0.4845023\ttest1: 0.2040089\tbest: 0.2041000 (118)\ttotal: 1m 17s\tremaining: 44m 25s\n",
      "141:\tlearn: 0.4845162\ttest: 0.4845162\ttest1: 0.2040203\tbest: 0.2041000 (118)\ttotal: 1m 17s\tremaining: 44m 24s\n",
      "142:\tlearn: 0.4846250\ttest: 0.4846250\ttest1: 0.2040658\tbest: 0.2041000 (118)\ttotal: 1m 18s\tremaining: 44m 24s\n",
      "143:\tlearn: 0.4848161\ttest: 0.4848161\ttest1: 0.2041114\tbest: 0.2041114 (143)\ttotal: 1m 19s\tremaining: 44m 24s\n",
      "144:\tlearn: 0.4848351\ttest: 0.4848351\ttest1: 0.2040544\tbest: 0.2041114 (143)\ttotal: 1m 19s\tremaining: 44m 25s\n",
      "145:\tlearn: 0.4848237\ttest: 0.4848237\ttest1: 0.2040430\tbest: 0.2041114 (143)\ttotal: 1m 20s\tremaining: 44m 24s\n",
      "146:\tlearn: 0.4848224\ttest: 0.4848224\ttest1: 0.2040430\tbest: 0.2041114 (143)\ttotal: 1m 20s\tremaining: 44m 24s\n",
      "147:\tlearn: 0.4849047\ttest: 0.4849047\ttest1: 0.2040772\tbest: 0.2041114 (143)\ttotal: 1m 21s\tremaining: 44m 24s\n",
      "148:\tlearn: 0.4849426\ttest: 0.4849426\ttest1: 0.2040203\tbest: 0.2041114 (143)\ttotal: 1m 21s\tremaining: 44m 23s\n",
      "149:\tlearn: 0.4849616\ttest: 0.4849616\ttest1: 0.2040658\tbest: 0.2041114 (143)\ttotal: 1m 22s\tremaining: 44m 23s\n",
      "150:\tlearn: 0.4849692\ttest: 0.4849692\ttest1: 0.2041000\tbest: 0.2041114 (143)\ttotal: 1m 22s\tremaining: 44m 21s\n",
      "151:\tlearn: 0.4849692\ttest: 0.4849692\ttest1: 0.2041114\tbest: 0.2041114 (143)\ttotal: 1m 23s\tremaining: 44m 20s\n",
      "152:\tlearn: 0.4849730\ttest: 0.4849730\ttest1: 0.2040658\tbest: 0.2041114 (143)\ttotal: 1m 23s\tremaining: 44m 19s\n",
      "153:\tlearn: 0.4850350\ttest: 0.4850350\ttest1: 0.2040658\tbest: 0.2041114 (143)\ttotal: 1m 24s\tremaining: 44m 18s\n",
      "154:\tlearn: 0.4850021\ttest: 0.4850021\ttest1: 0.2040772\tbest: 0.2041114 (143)\ttotal: 1m 24s\tremaining: 44m 16s\n",
      "155:\tlearn: 0.4850540\ttest: 0.4850540\ttest1: 0.2039975\tbest: 0.2041114 (143)\ttotal: 1m 25s\tremaining: 44m 15s\n",
      "156:\tlearn: 0.4850249\ttest: 0.4850249\ttest1: 0.2039975\tbest: 0.2041114 (143)\ttotal: 1m 26s\tremaining: 44m 16s\n",
      "157:\tlearn: 0.4850059\ttest: 0.4850059\ttest1: 0.2040772\tbest: 0.2041114 (143)\ttotal: 1m 26s\tremaining: 44m 15s\n",
      "158:\tlearn: 0.4850679\ttest: 0.4850679\ttest1: 0.2041455\tbest: 0.2041455 (158)\ttotal: 1m 27s\tremaining: 44m 15s\n",
      "159:\tlearn: 0.4850641\ttest: 0.4850641\ttest1: 0.2041000\tbest: 0.2041455 (158)\ttotal: 1m 27s\tremaining: 44m 14s\n",
      "160:\tlearn: 0.4850780\ttest: 0.4850780\ttest1: 0.2041683\tbest: 0.2041683 (160)\ttotal: 1m 28s\tremaining: 44m 12s\n",
      "161:\tlearn: 0.4851932\ttest: 0.4851932\ttest1: 0.2042025\tbest: 0.2042025 (161)\ttotal: 1m 28s\tremaining: 44m 12s\n",
      "162:\tlearn: 0.4852109\ttest: 0.4852109\ttest1: 0.2042367\tbest: 0.2042367 (162)\ttotal: 1m 29s\tremaining: 44m 11s\n",
      "163:\tlearn: 0.4852387\ttest: 0.4852387\ttest1: 0.2042594\tbest: 0.2042594 (163)\ttotal: 1m 29s\tremaining: 44m 11s\n",
      "164:\tlearn: 0.4853298\ttest: 0.4853298\ttest1: 0.2042594\tbest: 0.2042594 (163)\ttotal: 1m 30s\tremaining: 44m 11s\n",
      "165:\tlearn: 0.4853235\ttest: 0.4853235\ttest1: 0.2042253\tbest: 0.2042594 (163)\ttotal: 1m 31s\tremaining: 44m 10s\n",
      "166:\tlearn: 0.4853893\ttest: 0.4853893\ttest1: 0.2042253\tbest: 0.2042594 (163)\ttotal: 1m 31s\tremaining: 44m 10s\n",
      "167:\tlearn: 0.4853716\ttest: 0.4853716\ttest1: 0.2042025\tbest: 0.2042594 (163)\ttotal: 1m 32s\tremaining: 44m 10s\n",
      "168:\tlearn: 0.4853906\ttest: 0.4853906\ttest1: 0.2042594\tbest: 0.2042594 (163)\ttotal: 1m 32s\tremaining: 44m 10s\n",
      "169:\tlearn: 0.4854564\ttest: 0.4854564\ttest1: 0.2042822\tbest: 0.2042822 (169)\ttotal: 1m 33s\tremaining: 44m 10s\n",
      "170:\tlearn: 0.4854678\ttest: 0.4854678\ttest1: 0.2043164\tbest: 0.2043164 (170)\ttotal: 1m 33s\tremaining: 44m 9s\n",
      "171:\tlearn: 0.4855045\ttest: 0.4855045\ttest1: 0.2043392\tbest: 0.2043392 (171)\ttotal: 1m 34s\tremaining: 44m 10s\n",
      "172:\tlearn: 0.4855564\ttest: 0.4855564\ttest1: 0.2043733\tbest: 0.2043733 (172)\ttotal: 1m 34s\tremaining: 44m 9s\n",
      "173:\tlearn: 0.4855184\ttest: 0.4855184\ttest1: 0.2044075\tbest: 0.2044075 (173)\ttotal: 1m 35s\tremaining: 44m 8s\n",
      "174:\tlearn: 0.4856298\ttest: 0.4856298\ttest1: 0.2044417\tbest: 0.2044417 (174)\ttotal: 1m 36s\tremaining: 44m 8s\n",
      "175:\tlearn: 0.4856475\ttest: 0.4856475\ttest1: 0.2044075\tbest: 0.2044417 (174)\ttotal: 1m 36s\tremaining: 44m 7s\n",
      "176:\tlearn: 0.4856753\ttest: 0.4856753\ttest1: 0.2044417\tbest: 0.2044417 (174)\ttotal: 1m 37s\tremaining: 44m 7s\n",
      "177:\tlearn: 0.4857892\ttest: 0.4857892\ttest1: 0.2044530\tbest: 0.2044530 (177)\ttotal: 1m 37s\tremaining: 44m 7s\n",
      "178:\tlearn: 0.4858246\ttest: 0.4858246\ttest1: 0.2044189\tbest: 0.2044530 (177)\ttotal: 1m 38s\tremaining: 44m 7s\n",
      "179:\tlearn: 0.4858297\ttest: 0.4858297\ttest1: 0.2043961\tbest: 0.2044530 (177)\ttotal: 1m 38s\tremaining: 44m 6s\n",
      "180:\tlearn: 0.4858550\ttest: 0.4858550\ttest1: 0.2043619\tbest: 0.2044530 (177)\ttotal: 1m 39s\tremaining: 44m 5s\n",
      "181:\tlearn: 0.4858765\ttest: 0.4858765\ttest1: 0.2043505\tbest: 0.2044530 (177)\ttotal: 1m 39s\tremaining: 44m 5s\n",
      "182:\tlearn: 0.4859727\ttest: 0.4859727\ttest1: 0.2043164\tbest: 0.2044530 (177)\ttotal: 1m 40s\tremaining: 44m 4s\n",
      "183:\tlearn: 0.4859828\ttest: 0.4859828\ttest1: 0.2044189\tbest: 0.2044530 (177)\ttotal: 1m 41s\tremaining: 44m 3s\n",
      "184:\tlearn: 0.4860195\ttest: 0.4860195\ttest1: 0.2044303\tbest: 0.2044530 (177)\ttotal: 1m 41s\tremaining: 44m 2s\n",
      "185:\tlearn: 0.4860625\ttest: 0.4860625\ttest1: 0.2045442\tbest: 0.2045442 (185)\ttotal: 1m 42s\tremaining: 44m 2s\n",
      "186:\tlearn: 0.4860802\ttest: 0.4860802\ttest1: 0.2045783\tbest: 0.2045783 (186)\ttotal: 1m 42s\tremaining: 44m 2s\n",
      "187:\tlearn: 0.4861195\ttest: 0.4861195\ttest1: 0.2045783\tbest: 0.2045783 (186)\ttotal: 1m 43s\tremaining: 44m 2s\n",
      "188:\tlearn: 0.4861182\ttest: 0.4861182\ttest1: 0.2046011\tbest: 0.2046011 (188)\ttotal: 1m 43s\tremaining: 44m 1s\n",
      "189:\tlearn: 0.4862119\ttest: 0.4862119\ttest1: 0.2046239\tbest: 0.2046239 (189)\ttotal: 1m 44s\tremaining: 44m\n",
      "190:\tlearn: 0.4862156\ttest: 0.4862156\ttest1: 0.2046239\tbest: 0.2046239 (189)\ttotal: 1m 44s\tremaining: 44m\n",
      "191:\tlearn: 0.4862232\ttest: 0.4862232\ttest1: 0.2046808\tbest: 0.2046808 (191)\ttotal: 1m 45s\tremaining: 44m\n",
      "192:\tlearn: 0.4862688\ttest: 0.4862688\ttest1: 0.2046694\tbest: 0.2046808 (191)\ttotal: 1m 46s\tremaining: 44m\n",
      "193:\tlearn: 0.4862928\ttest: 0.4862928\ttest1: 0.2046808\tbest: 0.2046808 (191)\ttotal: 1m 46s\tremaining: 43m 59s\n",
      "194:\tlearn: 0.4862979\ttest: 0.4862979\ttest1: 0.2046808\tbest: 0.2046808 (191)\ttotal: 1m 47s\tremaining: 43m 59s\n",
      "195:\tlearn: 0.4863042\ttest: 0.4863042\ttest1: 0.2046353\tbest: 0.2046808 (191)\ttotal: 1m 47s\tremaining: 43m 57s\n",
      "196:\tlearn: 0.4863409\ttest: 0.4863409\ttest1: 0.2046922\tbest: 0.2046922 (196)\ttotal: 1m 48s\tremaining: 43m 57s\n",
      "197:\tlearn: 0.4862903\ttest: 0.4862903\ttest1: 0.2046808\tbest: 0.2046922 (196)\ttotal: 1m 48s\tremaining: 43m 58s\n",
      "198:\tlearn: 0.4863156\ttest: 0.4863156\ttest1: 0.2047264\tbest: 0.2047264 (198)\ttotal: 1m 49s\tremaining: 43m 57s\n",
      "199:\tlearn: 0.4863295\ttest: 0.4863295\ttest1: 0.2047719\tbest: 0.2047719 (199)\ttotal: 1m 49s\tremaining: 43m 56s\n",
      "200:\tlearn: 0.4863473\ttest: 0.4863473\ttest1: 0.2047036\tbest: 0.2047719 (199)\ttotal: 1m 50s\tremaining: 43m 57s\n",
      "201:\tlearn: 0.4863346\ttest: 0.4863346\ttest1: 0.2047492\tbest: 0.2047719 (199)\ttotal: 1m 51s\tremaining: 43m 56s\n",
      "202:\tlearn: 0.4863245\ttest: 0.4863245\ttest1: 0.2048630\tbest: 0.2048630 (202)\ttotal: 1m 51s\tremaining: 43m 55s\n",
      "203:\tlearn: 0.4863169\ttest: 0.4863169\ttest1: 0.2048858\tbest: 0.2048858 (203)\ttotal: 1m 52s\tremaining: 43m 54s\n",
      "204:\tlearn: 0.4863409\ttest: 0.4863409\ttest1: 0.2048858\tbest: 0.2048858 (203)\ttotal: 1m 52s\tremaining: 43m 53s\n",
      "205:\tlearn: 0.4863548\ttest: 0.4863548\ttest1: 0.2048517\tbest: 0.2048858 (203)\ttotal: 1m 53s\tremaining: 43m 53s\n",
      "206:\tlearn: 0.4863802\ttest: 0.4863802\ttest1: 0.2048175\tbest: 0.2048858 (203)\ttotal: 1m 53s\tremaining: 43m 51s\n",
      "207:\tlearn: 0.4864156\ttest: 0.4864156\ttest1: 0.2048403\tbest: 0.2048858 (203)\ttotal: 1m 54s\tremaining: 43m 51s\n",
      "208:\tlearn: 0.4864206\ttest: 0.4864206\ttest1: 0.2048630\tbest: 0.2048858 (203)\ttotal: 1m 54s\tremaining: 43m 52s\n",
      "209:\tlearn: 0.4864472\ttest: 0.4864472\ttest1: 0.2049428\tbest: 0.2049428 (209)\ttotal: 1m 55s\tremaining: 43m 52s\n",
      "210:\tlearn: 0.4864586\ttest: 0.4864586\ttest1: 0.2049314\tbest: 0.2049428 (209)\ttotal: 1m 55s\tremaining: 43m 51s\n",
      "211:\tlearn: 0.4864523\ttest: 0.4864523\ttest1: 0.2049200\tbest: 0.2049428 (209)\ttotal: 1m 56s\tremaining: 43m 51s\n",
      "212:\tlearn: 0.4864434\ttest: 0.4864434\ttest1: 0.2049200\tbest: 0.2049428 (209)\ttotal: 1m 57s\tremaining: 43m 52s\n",
      "213:\tlearn: 0.4864498\ttest: 0.4864498\ttest1: 0.2049542\tbest: 0.2049542 (213)\ttotal: 1m 57s\tremaining: 43m 52s\n",
      "214:\tlearn: 0.4864890\ttest: 0.4864890\ttest1: 0.2050453\tbest: 0.2050453 (214)\ttotal: 1m 58s\tremaining: 43m 53s\n",
      "215:\tlearn: 0.4864877\ttest: 0.4864877\ttest1: 0.2050225\tbest: 0.2050453 (214)\ttotal: 1m 58s\tremaining: 43m 54s\n",
      "216:\tlearn: 0.4864827\ttest: 0.4864827\ttest1: 0.2050339\tbest: 0.2050453 (214)\ttotal: 1m 59s\tremaining: 43m 53s\n",
      "217:\tlearn: 0.4864877\ttest: 0.4864877\ttest1: 0.2049883\tbest: 0.2050453 (214)\ttotal: 2m\tremaining: 43m 53s\n",
      "218:\tlearn: 0.4865067\ttest: 0.4865067\ttest1: 0.2049655\tbest: 0.2050453 (214)\ttotal: 2m\tremaining: 43m 52s\n",
      "219:\tlearn: 0.4866332\ttest: 0.4866332\ttest1: 0.2049655\tbest: 0.2050453 (214)\ttotal: 2m 1s\tremaining: 43m 52s\n",
      "220:\tlearn: 0.4866396\ttest: 0.4866396\ttest1: 0.2049542\tbest: 0.2050453 (214)\ttotal: 2m 1s\tremaining: 43m 51s\n",
      "221:\tlearn: 0.4866472\ttest: 0.4866472\ttest1: 0.2050225\tbest: 0.2050453 (214)\ttotal: 2m 2s\tremaining: 43m 50s\n",
      "222:\tlearn: 0.4866320\ttest: 0.4866320\ttest1: 0.2050111\tbest: 0.2050453 (214)\ttotal: 2m 2s\tremaining: 43m 50s\n",
      "223:\tlearn: 0.4865953\ttest: 0.4865953\ttest1: 0.2050225\tbest: 0.2050453 (214)\ttotal: 2m 3s\tremaining: 43m 49s\n",
      "224:\tlearn: 0.4866332\ttest: 0.4866332\ttest1: 0.2049769\tbest: 0.2050453 (214)\ttotal: 2m 3s\tremaining: 43m 48s\n",
      "225:\tlearn: 0.4866370\ttest: 0.4866370\ttest1: 0.2049655\tbest: 0.2050453 (214)\ttotal: 2m 4s\tremaining: 43m 47s\n",
      "226:\tlearn: 0.4867079\ttest: 0.4867079\ttest1: 0.2049769\tbest: 0.2050453 (214)\ttotal: 2m 4s\tremaining: 43m 47s\n",
      "227:\tlearn: 0.4867092\ttest: 0.4867092\ttest1: 0.2049428\tbest: 0.2050453 (214)\ttotal: 2m 5s\tremaining: 43m 46s\n",
      "228:\tlearn: 0.4867294\ttest: 0.4867294\ttest1: 0.2049997\tbest: 0.2050453 (214)\ttotal: 2m 6s\tremaining: 43m 45s\n",
      "229:\tlearn: 0.4867535\ttest: 0.4867535\ttest1: 0.2050794\tbest: 0.2050794 (229)\ttotal: 2m 6s\tremaining: 43m 45s\n",
      "230:\tlearn: 0.4867775\ttest: 0.4867775\ttest1: 0.2050453\tbest: 0.2050794 (229)\ttotal: 2m 7s\tremaining: 43m 44s\n",
      "231:\tlearn: 0.4867800\ttest: 0.4867800\ttest1: 0.2050680\tbest: 0.2050794 (229)\ttotal: 2m 7s\tremaining: 43m 44s\n",
      "232:\tlearn: 0.4867940\ttest: 0.4867940\ttest1: 0.2051478\tbest: 0.2051478 (232)\ttotal: 2m 8s\tremaining: 43m 43s\n",
      "233:\tlearn: 0.4867965\ttest: 0.4867965\ttest1: 0.2051705\tbest: 0.2051705 (233)\ttotal: 2m 8s\tremaining: 43m 42s\n",
      "234:\tlearn: 0.4867750\ttest: 0.4867750\ttest1: 0.2051250\tbest: 0.2051705 (233)\ttotal: 2m 9s\tremaining: 43m 41s\n",
      "235:\tlearn: 0.4868205\ttest: 0.4868205\ttest1: 0.2051592\tbest: 0.2051705 (233)\ttotal: 2m 9s\tremaining: 43m 41s\n",
      "236:\tlearn: 0.4868231\ttest: 0.4868231\ttest1: 0.2052161\tbest: 0.2052161 (236)\ttotal: 2m 10s\tremaining: 43m 40s\n",
      "237:\tlearn: 0.4868471\ttest: 0.4868471\ttest1: 0.2052844\tbest: 0.2052844 (237)\ttotal: 2m 10s\tremaining: 43m 40s\n",
      "238:\tlearn: 0.4868496\ttest: 0.4868496\ttest1: 0.2052503\tbest: 0.2052844 (237)\ttotal: 2m 11s\tremaining: 43m 39s\n",
      "239:\tlearn: 0.4868522\ttest: 0.4868522\ttest1: 0.2052275\tbest: 0.2052844 (237)\ttotal: 2m 12s\tremaining: 43m 38s\n",
      "240:\tlearn: 0.4869509\ttest: 0.4869509\ttest1: 0.2052389\tbest: 0.2052844 (237)\ttotal: 2m 12s\tremaining: 43m 38s\n",
      "241:\tlearn: 0.4870091\ttest: 0.4870091\ttest1: 0.2052275\tbest: 0.2052844 (237)\ttotal: 2m 13s\tremaining: 43m 37s\n",
      "242:\tlearn: 0.4870141\ttest: 0.4870141\ttest1: 0.2052617\tbest: 0.2052844 (237)\ttotal: 2m 13s\tremaining: 43m 36s\n",
      "243:\tlearn: 0.4870192\ttest: 0.4870192\ttest1: 0.2052844\tbest: 0.2052844 (237)\ttotal: 2m 14s\tremaining: 43m 37s\n",
      "244:\tlearn: 0.4870167\ttest: 0.4870167\ttest1: 0.2052730\tbest: 0.2052844 (237)\ttotal: 2m 14s\tremaining: 43m 36s\n",
      "245:\tlearn: 0.4870255\ttest: 0.4870255\ttest1: 0.2053983\tbest: 0.2053983 (245)\ttotal: 2m 15s\tremaining: 43m 36s\n",
      "246:\tlearn: 0.4870989\ttest: 0.4870989\ttest1: 0.2054211\tbest: 0.2054211 (246)\ttotal: 2m 15s\tremaining: 43m 35s\n",
      "247:\tlearn: 0.4870888\ttest: 0.4870888\ttest1: 0.2054553\tbest: 0.2054553 (247)\ttotal: 2m 16s\tremaining: 43m 35s\n",
      "248:\tlearn: 0.4871673\ttest: 0.4871673\ttest1: 0.2055122\tbest: 0.2055122 (248)\ttotal: 2m 17s\tremaining: 43m 35s\n",
      "249:\tlearn: 0.4871559\ttest: 0.4871559\ttest1: 0.2055122\tbest: 0.2055122 (248)\ttotal: 2m 17s\tremaining: 43m 35s\n",
      "250:\tlearn: 0.4871445\ttest: 0.4871445\ttest1: 0.2055692\tbest: 0.2055692 (250)\ttotal: 2m 18s\tremaining: 43m 35s\n",
      "251:\tlearn: 0.4871964\ttest: 0.4871964\ttest1: 0.2055692\tbest: 0.2055692 (250)\ttotal: 2m 18s\tremaining: 43m 34s\n",
      "252:\tlearn: 0.4872318\ttest: 0.4872318\ttest1: 0.2055692\tbest: 0.2055692 (250)\ttotal: 2m 19s\tremaining: 43m 34s\n",
      "253:\tlearn: 0.4872331\ttest: 0.4872331\ttest1: 0.2055692\tbest: 0.2055692 (250)\ttotal: 2m 19s\tremaining: 43m 33s\n",
      "254:\tlearn: 0.4872976\ttest: 0.4872976\ttest1: 0.2055692\tbest: 0.2055692 (250)\ttotal: 2m 20s\tremaining: 43m 32s\n",
      "255:\tlearn: 0.4873052\ttest: 0.4873052\ttest1: 0.2056033\tbest: 0.2056033 (255)\ttotal: 2m 21s\tremaining: 43m 33s\n",
      "256:\tlearn: 0.4873052\ttest: 0.4873052\ttest1: 0.2055805\tbest: 0.2056033 (255)\ttotal: 2m 21s\tremaining: 43m 32s\n",
      "257:\tlearn: 0.4873077\ttest: 0.4873077\ttest1: 0.2055464\tbest: 0.2056033 (255)\ttotal: 2m 22s\tremaining: 43m 31s\n",
      "258:\tlearn: 0.4873229\ttest: 0.4873229\ttest1: 0.2055692\tbest: 0.2056033 (255)\ttotal: 2m 22s\tremaining: 43m 30s\n",
      "259:\tlearn: 0.4873178\ttest: 0.4873178\ttest1: 0.2055464\tbest: 0.2056033 (255)\ttotal: 2m 23s\tremaining: 43m 29s\n",
      "260:\tlearn: 0.4873368\ttest: 0.4873368\ttest1: 0.2055692\tbest: 0.2056033 (255)\ttotal: 2m 23s\tremaining: 43m 29s\n",
      "261:\tlearn: 0.4873862\ttest: 0.4873862\ttest1: 0.2055350\tbest: 0.2056033 (255)\ttotal: 2m 24s\tremaining: 43m 29s\n",
      "262:\tlearn: 0.4873938\ttest: 0.4873938\ttest1: 0.2054894\tbest: 0.2056033 (255)\ttotal: 2m 24s\tremaining: 43m 28s\n",
      "263:\tlearn: 0.4873710\ttest: 0.4873710\ttest1: 0.2056147\tbest: 0.2056147 (263)\ttotal: 2m 25s\tremaining: 43m 28s\n",
      "264:\tlearn: 0.4873963\ttest: 0.4873963\ttest1: 0.2056375\tbest: 0.2056375 (264)\ttotal: 2m 25s\tremaining: 43m 28s\n",
      "265:\tlearn: 0.4874292\ttest: 0.4874292\ttest1: 0.2056717\tbest: 0.2056717 (265)\ttotal: 2m 26s\tremaining: 43m 27s\n",
      "266:\tlearn: 0.4874469\ttest: 0.4874469\ttest1: 0.2056489\tbest: 0.2056717 (265)\ttotal: 2m 27s\tremaining: 43m 26s\n",
      "267:\tlearn: 0.4874811\ttest: 0.4874811\ttest1: 0.2057400\tbest: 0.2057400 (267)\ttotal: 2m 27s\tremaining: 43m 25s\n",
      "268:\tlearn: 0.4874823\ttest: 0.4874823\ttest1: 0.2057400\tbest: 0.2057400 (267)\ttotal: 2m 28s\tremaining: 43m 24s\n",
      "269:\tlearn: 0.4875406\ttest: 0.4875406\ttest1: 0.2057514\tbest: 0.2057514 (269)\ttotal: 2m 28s\tremaining: 43m 24s\n",
      "270:\tlearn: 0.4875203\ttest: 0.4875203\ttest1: 0.2057742\tbest: 0.2057742 (270)\ttotal: 2m 29s\tremaining: 43m 24s\n",
      "271:\tlearn: 0.4875469\ttest: 0.4875469\ttest1: 0.2057400\tbest: 0.2057742 (270)\ttotal: 2m 29s\tremaining: 43m 24s\n",
      "272:\tlearn: 0.4876203\ttest: 0.4876203\ttest1: 0.2057058\tbest: 0.2057742 (270)\ttotal: 2m 30s\tremaining: 43m 24s\n",
      "273:\tlearn: 0.4876215\ttest: 0.4876215\ttest1: 0.2056489\tbest: 0.2057742 (270)\ttotal: 2m 30s\tremaining: 43m 24s\n",
      "274:\tlearn: 0.4876304\ttest: 0.4876304\ttest1: 0.2057400\tbest: 0.2057742 (270)\ttotal: 2m 31s\tremaining: 43m 24s\n",
      "275:\tlearn: 0.4876684\ttest: 0.4876684\ttest1: 0.2057172\tbest: 0.2057742 (270)\ttotal: 2m 32s\tremaining: 43m 23s\n",
      "276:\tlearn: 0.4876494\ttest: 0.4876494\ttest1: 0.2057058\tbest: 0.2057742 (270)\ttotal: 2m 32s\tremaining: 43m 22s\n",
      "277:\tlearn: 0.4876557\ttest: 0.4876557\ttest1: 0.2057058\tbest: 0.2057742 (270)\ttotal: 2m 33s\tremaining: 43m 21s\n",
      "278:\tlearn: 0.4876684\ttest: 0.4876684\ttest1: 0.2057172\tbest: 0.2057742 (270)\ttotal: 2m 33s\tremaining: 43m 21s\n",
      "279:\tlearn: 0.4876671\ttest: 0.4876671\ttest1: 0.2056944\tbest: 0.2057742 (270)\ttotal: 2m 34s\tremaining: 43m 20s\n",
      "280:\tlearn: 0.4876760\ttest: 0.4876760\ttest1: 0.2056830\tbest: 0.2057742 (270)\ttotal: 2m 34s\tremaining: 43m 20s\n",
      "281:\tlearn: 0.4876987\ttest: 0.4876987\ttest1: 0.2056944\tbest: 0.2057742 (270)\ttotal: 2m 35s\tremaining: 43m 20s\n",
      "282:\tlearn: 0.4877253\ttest: 0.4877253\ttest1: 0.2057172\tbest: 0.2057742 (270)\ttotal: 2m 35s\tremaining: 43m 19s\n",
      "283:\tlearn: 0.4877152\ttest: 0.4877152\ttest1: 0.2057172\tbest: 0.2057742 (270)\ttotal: 2m 36s\tremaining: 43m 18s\n",
      "284:\tlearn: 0.4877506\ttest: 0.4877506\ttest1: 0.2057514\tbest: 0.2057742 (270)\ttotal: 2m 37s\tremaining: 43m 19s\n",
      "285:\tlearn: 0.4877823\ttest: 0.4877823\ttest1: 0.2057400\tbest: 0.2057742 (270)\ttotal: 2m 37s\tremaining: 43m 18s\n",
      "286:\tlearn: 0.4878000\ttest: 0.4878000\ttest1: 0.2057286\tbest: 0.2057742 (270)\ttotal: 2m 38s\tremaining: 43m 17s\n",
      "287:\tlearn: 0.4877949\ttest: 0.4877949\ttest1: 0.2056944\tbest: 0.2057742 (270)\ttotal: 2m 38s\tremaining: 43m 16s\n",
      "288:\tlearn: 0.4877962\ttest: 0.4877962\ttest1: 0.2057058\tbest: 0.2057742 (270)\ttotal: 2m 39s\tremaining: 43m 16s\n",
      "289:\tlearn: 0.4878253\ttest: 0.4878253\ttest1: 0.2057855\tbest: 0.2057855 (289)\ttotal: 2m 39s\tremaining: 43m 15s\n",
      "290:\tlearn: 0.4878379\ttest: 0.4878379\ttest1: 0.2058083\tbest: 0.2058083 (290)\ttotal: 2m 40s\tremaining: 43m 15s\n",
      "291:\tlearn: 0.4878632\ttest: 0.4878632\ttest1: 0.2057514\tbest: 0.2058083 (290)\ttotal: 2m 40s\tremaining: 43m 14s\n",
      "292:\tlearn: 0.4878734\ttest: 0.4878734\ttest1: 0.2057742\tbest: 0.2058083 (290)\ttotal: 2m 41s\tremaining: 43m 14s\n",
      "293:\tlearn: 0.4878797\ttest: 0.4878797\ttest1: 0.2058653\tbest: 0.2058653 (293)\ttotal: 2m 42s\tremaining: 43m 13s\n",
      "294:\tlearn: 0.4879037\ttest: 0.4879037\ttest1: 0.2058767\tbest: 0.2058767 (294)\ttotal: 2m 42s\tremaining: 43m 13s\n",
      "295:\tlearn: 0.4879075\ttest: 0.4879075\ttest1: 0.2058880\tbest: 0.2058880 (295)\ttotal: 2m 43s\tremaining: 43m 13s\n",
      "296:\tlearn: 0.4879265\ttest: 0.4879265\ttest1: 0.2059336\tbest: 0.2059336 (296)\ttotal: 2m 43s\tremaining: 43m 13s\n",
      "297:\tlearn: 0.4879518\ttest: 0.4879518\ttest1: 0.2059108\tbest: 0.2059336 (296)\ttotal: 2m 44s\tremaining: 43m 13s\n",
      "298:\tlearn: 0.4879215\ttest: 0.4879215\ttest1: 0.2059108\tbest: 0.2059336 (296)\ttotal: 2m 44s\tremaining: 43m 12s\n",
      "299:\tlearn: 0.4879759\ttest: 0.4879759\ttest1: 0.2060589\tbest: 0.2060589 (299)\ttotal: 2m 45s\tremaining: 43m 12s\n",
      "300:\tlearn: 0.4879974\ttest: 0.4879974\ttest1: 0.2060589\tbest: 0.2060589 (299)\ttotal: 2m 46s\tremaining: 43m 11s\n",
      "301:\tlearn: 0.4880050\ttest: 0.4880050\ttest1: 0.2060361\tbest: 0.2060589 (299)\ttotal: 2m 46s\tremaining: 43m 10s\n",
      "302:\tlearn: 0.4880138\ttest: 0.4880138\ttest1: 0.2060703\tbest: 0.2060703 (302)\ttotal: 2m 47s\tremaining: 43m 10s\n",
      "303:\tlearn: 0.4880467\ttest: 0.4880467\ttest1: 0.2060703\tbest: 0.2060703 (302)\ttotal: 2m 47s\tremaining: 43m 9s\n",
      "304:\tlearn: 0.4880733\ttest: 0.4880733\ttest1: 0.2061044\tbest: 0.2061044 (304)\ttotal: 2m 48s\tremaining: 43m 9s\n",
      "305:\tlearn: 0.4880847\ttest: 0.4880847\ttest1: 0.2061158\tbest: 0.2061158 (305)\ttotal: 2m 48s\tremaining: 43m 9s\n",
      "306:\tlearn: 0.4880758\ttest: 0.4880758\ttest1: 0.2060133\tbest: 0.2061158 (305)\ttotal: 2m 49s\tremaining: 43m 8s\n",
      "307:\tlearn: 0.4881024\ttest: 0.4881024\ttest1: 0.2060589\tbest: 0.2061158 (305)\ttotal: 2m 49s\tremaining: 43m 7s\n",
      "308:\tlearn: 0.4881492\ttest: 0.4881492\ttest1: 0.2060589\tbest: 0.2061158 (305)\ttotal: 2m 50s\tremaining: 43m 6s\n",
      "309:\tlearn: 0.4881378\ttest: 0.4881378\ttest1: 0.2060703\tbest: 0.2061158 (305)\ttotal: 2m 50s\tremaining: 43m 5s\n",
      "310:\tlearn: 0.4881986\ttest: 0.4881986\ttest1: 0.2060817\tbest: 0.2061158 (305)\ttotal: 2m 51s\tremaining: 43m 5s\n",
      "311:\tlearn: 0.4881973\ttest: 0.4881973\ttest1: 0.2060930\tbest: 0.2061158 (305)\ttotal: 2m 51s\tremaining: 43m 4s\n",
      "312:\tlearn: 0.4881809\ttest: 0.4881809\ttest1: 0.2060930\tbest: 0.2061158 (305)\ttotal: 2m 52s\tremaining: 43m 3s\n",
      "313:\tlearn: 0.4881910\ttest: 0.4881910\ttest1: 0.2061842\tbest: 0.2061842 (313)\ttotal: 2m 53s\tremaining: 43m 2s\n",
      "314:\tlearn: 0.4881859\ttest: 0.4881859\ttest1: 0.2062069\tbest: 0.2062069 (314)\ttotal: 2m 53s\tremaining: 43m 1s\n",
      "315:\tlearn: 0.4881783\ttest: 0.4881783\ttest1: 0.2061386\tbest: 0.2062069 (314)\ttotal: 2m 54s\tremaining: 43m 1s\n",
      "316:\tlearn: 0.4881923\ttest: 0.4881923\ttest1: 0.2061272\tbest: 0.2062069 (314)\ttotal: 2m 54s\tremaining: 43m 1s\n",
      "317:\tlearn: 0.4882112\ttest: 0.4882112\ttest1: 0.2061728\tbest: 0.2062069 (314)\ttotal: 2m 55s\tremaining: 43m\n",
      "318:\tlearn: 0.4882036\ttest: 0.4882036\ttest1: 0.2061386\tbest: 0.2062069 (314)\ttotal: 2m 55s\tremaining: 42m 59s\n",
      "319:\tlearn: 0.4882315\ttest: 0.4882315\ttest1: 0.2061500\tbest: 0.2062069 (314)\ttotal: 2m 56s\tremaining: 42m 59s\n",
      "320:\tlearn: 0.4882910\ttest: 0.4882910\ttest1: 0.2061955\tbest: 0.2062069 (314)\ttotal: 2m 56s\tremaining: 42m 59s\n",
      "321:\tlearn: 0.4882986\ttest: 0.4882986\ttest1: 0.2061272\tbest: 0.2062069 (314)\ttotal: 2m 57s\tremaining: 42m 59s\n",
      "322:\tlearn: 0.4883125\ttest: 0.4883125\ttest1: 0.2061158\tbest: 0.2062069 (314)\ttotal: 2m 58s\tremaining: 42m 59s\n",
      "323:\tlearn: 0.4883656\ttest: 0.4883656\ttest1: 0.2062069\tbest: 0.2062069 (314)\ttotal: 2m 58s\tremaining: 42m 59s\n",
      "324:\tlearn: 0.4883707\ttest: 0.4883707\ttest1: 0.2062183\tbest: 0.2062183 (324)\ttotal: 2m 59s\tremaining: 42m 58s\n",
      "325:\tlearn: 0.4883719\ttest: 0.4883719\ttest1: 0.2061386\tbest: 0.2062183 (324)\ttotal: 2m 59s\tremaining: 42m 57s\n",
      "326:\tlearn: 0.4883669\ttest: 0.4883669\ttest1: 0.2061614\tbest: 0.2062183 (324)\ttotal: 3m\tremaining: 42m 57s\n",
      "327:\tlearn: 0.4883808\ttest: 0.4883808\ttest1: 0.2061614\tbest: 0.2062183 (324)\ttotal: 3m\tremaining: 42m 56s\n",
      "328:\tlearn: 0.4883808\ttest: 0.4883808\ttest1: 0.2062753\tbest: 0.2062753 (328)\ttotal: 3m 1s\tremaining: 42m 55s\n",
      "329:\tlearn: 0.4883998\ttest: 0.4883998\ttest1: 0.2063550\tbest: 0.2063550 (329)\ttotal: 3m 1s\tremaining: 42m 54s\n",
      "330:\tlearn: 0.4884757\ttest: 0.4884757\ttest1: 0.2064119\tbest: 0.2064119 (330)\ttotal: 3m 2s\tremaining: 42m 54s\n",
      "331:\tlearn: 0.4885440\ttest: 0.4885440\ttest1: 0.2063322\tbest: 0.2064119 (330)\ttotal: 3m 3s\tremaining: 42m 53s\n",
      "332:\tlearn: 0.4885339\ttest: 0.4885339\ttest1: 0.2063550\tbest: 0.2064119 (330)\ttotal: 3m 3s\tremaining: 42m 53s\n",
      "333:\tlearn: 0.4885605\ttest: 0.4885605\ttest1: 0.2063436\tbest: 0.2064119 (330)\ttotal: 3m 4s\tremaining: 42m 53s\n",
      "334:\tlearn: 0.4885605\ttest: 0.4885605\ttest1: 0.2063892\tbest: 0.2064119 (330)\ttotal: 3m 4s\tremaining: 42m 52s\n",
      "335:\tlearn: 0.4885769\ttest: 0.4885769\ttest1: 0.2063778\tbest: 0.2064119 (330)\ttotal: 3m 5s\tremaining: 42m 52s\n",
      "336:\tlearn: 0.4885478\ttest: 0.4885478\ttest1: 0.2064119\tbest: 0.2064119 (330)\ttotal: 3m 5s\tremaining: 42m 52s\n",
      "337:\tlearn: 0.4885769\ttest: 0.4885769\ttest1: 0.2064233\tbest: 0.2064233 (337)\ttotal: 3m 6s\tremaining: 42m 51s\n",
      "338:\tlearn: 0.4885782\ttest: 0.4885782\ttest1: 0.2064347\tbest: 0.2064347 (338)\ttotal: 3m 6s\tremaining: 42m 50s\n",
      "339:\tlearn: 0.4885580\ttest: 0.4885580\ttest1: 0.2064461\tbest: 0.2064461 (339)\ttotal: 3m 7s\tremaining: 42m 50s\n",
      "340:\tlearn: 0.4885820\ttest: 0.4885820\ttest1: 0.2064917\tbest: 0.2064917 (340)\ttotal: 3m 8s\tremaining: 42m 50s\n",
      "341:\tlearn: 0.4886820\ttest: 0.4886820\ttest1: 0.2064917\tbest: 0.2064917 (340)\ttotal: 3m 8s\tremaining: 42m 50s\n",
      "342:\tlearn: 0.4886681\ttest: 0.4886681\ttest1: 0.2064917\tbest: 0.2064917 (340)\ttotal: 3m 9s\tremaining: 42m 49s\n",
      "343:\tlearn: 0.4887136\ttest: 0.4887136\ttest1: 0.2064917\tbest: 0.2064917 (340)\ttotal: 3m 9s\tremaining: 42m 49s\n",
      "344:\tlearn: 0.4887465\ttest: 0.4887465\ttest1: 0.2065030\tbest: 0.2065030 (344)\ttotal: 3m 10s\tremaining: 42m 48s\n",
      "345:\tlearn: 0.4887490\ttest: 0.4887490\ttest1: 0.2065258\tbest: 0.2065258 (345)\ttotal: 3m 10s\tremaining: 42m 48s\n",
      "346:\tlearn: 0.4887756\ttest: 0.4887756\ttest1: 0.2065714\tbest: 0.2065714 (346)\ttotal: 3m 11s\tremaining: 42m 47s\n",
      "347:\tlearn: 0.4887680\ttest: 0.4887680\ttest1: 0.2065372\tbest: 0.2065714 (346)\ttotal: 3m 12s\tremaining: 42m 46s\n",
      "348:\tlearn: 0.4887794\ttest: 0.4887794\ttest1: 0.2065600\tbest: 0.2065714 (346)\ttotal: 3m 12s\tremaining: 42m 46s\n",
      "349:\tlearn: 0.4887908\ttest: 0.4887908\ttest1: 0.2065144\tbest: 0.2065714 (346)\ttotal: 3m 13s\tremaining: 42m 45s\n",
      "350:\tlearn: 0.4887946\ttest: 0.4887946\ttest1: 0.2065030\tbest: 0.2065714 (346)\ttotal: 3m 13s\tremaining: 42m 45s\n",
      "351:\tlearn: 0.4887933\ttest: 0.4887933\ttest1: 0.2065486\tbest: 0.2065714 (346)\ttotal: 3m 14s\tremaining: 42m 44s\n",
      "352:\tlearn: 0.4887857\ttest: 0.4887857\ttest1: 0.2066397\tbest: 0.2066397 (352)\ttotal: 3m 14s\tremaining: 42m 43s\n",
      "353:\tlearn: 0.4887921\ttest: 0.4887921\ttest1: 0.2066055\tbest: 0.2066397 (352)\ttotal: 3m 15s\tremaining: 42m 43s\n",
      "354:\tlearn: 0.4888022\ttest: 0.4888022\ttest1: 0.2066283\tbest: 0.2066397 (352)\ttotal: 3m 15s\tremaining: 42m 43s\n",
      "355:\tlearn: 0.4888300\ttest: 0.4888300\ttest1: 0.2066853\tbest: 0.2066853 (355)\ttotal: 3m 16s\tremaining: 42m 42s\n",
      "356:\tlearn: 0.4888680\ttest: 0.4888680\ttest1: 0.2066967\tbest: 0.2066967 (356)\ttotal: 3m 16s\tremaining: 42m 42s\n",
      "357:\tlearn: 0.4888996\ttest: 0.4888996\ttest1: 0.2066625\tbest: 0.2066967 (356)\ttotal: 3m 17s\tremaining: 42m 41s\n",
      "358:\tlearn: 0.4889110\ttest: 0.4889110\ttest1: 0.2067422\tbest: 0.2067422 (358)\ttotal: 3m 18s\tremaining: 42m 40s\n",
      "359:\tlearn: 0.4889085\ttest: 0.4889085\ttest1: 0.2067308\tbest: 0.2067422 (358)\ttotal: 3m 18s\tremaining: 42m 39s\n",
      "360:\tlearn: 0.4889072\ttest: 0.4889072\ttest1: 0.2067308\tbest: 0.2067422 (358)\ttotal: 3m 19s\tremaining: 42m 39s\n",
      "361:\tlearn: 0.4889237\ttest: 0.4889237\ttest1: 0.2067764\tbest: 0.2067764 (361)\ttotal: 3m 19s\tremaining: 42m 39s\n",
      "362:\tlearn: 0.4889148\ttest: 0.4889148\ttest1: 0.2067878\tbest: 0.2067878 (362)\ttotal: 3m 20s\tremaining: 42m 38s\n",
      "363:\tlearn: 0.4889553\ttest: 0.4889553\ttest1: 0.2067536\tbest: 0.2067878 (362)\ttotal: 3m 20s\tremaining: 42m 38s\n",
      "364:\tlearn: 0.4889389\ttest: 0.4889389\ttest1: 0.2067536\tbest: 0.2067878 (362)\ttotal: 3m 21s\tremaining: 42m 37s\n",
      "365:\tlearn: 0.4889237\ttest: 0.4889237\ttest1: 0.2067194\tbest: 0.2067878 (362)\ttotal: 3m 21s\tremaining: 42m 37s\n",
      "366:\tlearn: 0.4889313\ttest: 0.4889313\ttest1: 0.2067422\tbest: 0.2067878 (362)\ttotal: 3m 22s\tremaining: 42m 36s\n",
      "367:\tlearn: 0.4889351\ttest: 0.4889351\ttest1: 0.2067650\tbest: 0.2067878 (362)\ttotal: 3m 23s\tremaining: 42m 36s\n",
      "368:\tlearn: 0.4889692\ttest: 0.4889692\ttest1: 0.2067878\tbest: 0.2067878 (362)\ttotal: 3m 23s\tremaining: 42m 35s\n",
      "369:\tlearn: 0.4889907\ttest: 0.4889907\ttest1: 0.2067650\tbest: 0.2067878 (362)\ttotal: 3m 24s\tremaining: 42m 35s\n",
      "370:\tlearn: 0.4890300\ttest: 0.4890300\ttest1: 0.2068219\tbest: 0.2068219 (370)\ttotal: 3m 24s\tremaining: 42m 35s\n",
      "371:\tlearn: 0.4890477\ttest: 0.4890477\ttest1: 0.2067422\tbest: 0.2068219 (370)\ttotal: 3m 25s\tremaining: 42m 35s\n",
      "372:\tlearn: 0.4890439\ttest: 0.4890439\ttest1: 0.2067536\tbest: 0.2068219 (370)\ttotal: 3m 25s\tremaining: 42m 34s\n",
      "373:\tlearn: 0.4890300\ttest: 0.4890300\ttest1: 0.2066739\tbest: 0.2068219 (370)\ttotal: 3m 26s\tremaining: 42m 34s\n",
      "374:\tlearn: 0.4890616\ttest: 0.4890616\ttest1: 0.2067650\tbest: 0.2068219 (370)\ttotal: 3m 27s\tremaining: 42m 34s\n",
      "375:\tlearn: 0.4890755\ttest: 0.4890755\ttest1: 0.2067764\tbest: 0.2068219 (370)\ttotal: 3m 27s\tremaining: 42m 33s\n",
      "376:\tlearn: 0.4890692\ttest: 0.4890692\ttest1: 0.2068333\tbest: 0.2068333 (376)\ttotal: 3m 28s\tremaining: 42m 32s\n",
      "377:\tlearn: 0.4890705\ttest: 0.4890705\ttest1: 0.2067878\tbest: 0.2068333 (376)\ttotal: 3m 28s\tremaining: 42m 32s\n",
      "378:\tlearn: 0.4890869\ttest: 0.4890869\ttest1: 0.2068219\tbest: 0.2068333 (376)\ttotal: 3m 29s\tremaining: 42m 31s\n",
      "379:\tlearn: 0.4891413\ttest: 0.4891413\ttest1: 0.2068219\tbest: 0.2068333 (376)\ttotal: 3m 29s\tremaining: 42m 31s\n",
      "380:\tlearn: 0.4891186\ttest: 0.4891186\ttest1: 0.2068447\tbest: 0.2068447 (380)\ttotal: 3m 30s\tremaining: 42m 31s\n",
      "381:\tlearn: 0.4890958\ttest: 0.4890958\ttest1: 0.2068675\tbest: 0.2068675 (381)\ttotal: 3m 30s\tremaining: 42m 30s\n",
      "382:\tlearn: 0.4891072\ttest: 0.4891072\ttest1: 0.2068903\tbest: 0.2068903 (382)\ttotal: 3m 31s\tremaining: 42m 30s\n",
      "383:\tlearn: 0.4891046\ttest: 0.4891046\ttest1: 0.2068789\tbest: 0.2068903 (382)\ttotal: 3m 32s\tremaining: 42m 29s\n",
      "384:\tlearn: 0.4890869\ttest: 0.4890869\ttest1: 0.2069130\tbest: 0.2069130 (384)\ttotal: 3m 32s\tremaining: 42m 28s\n",
      "385:\tlearn: 0.4890945\ttest: 0.4890945\ttest1: 0.2069586\tbest: 0.2069586 (385)\ttotal: 3m 33s\tremaining: 42m 27s\n",
      "386:\tlearn: 0.4891401\ttest: 0.4891401\ttest1: 0.2069700\tbest: 0.2069700 (386)\ttotal: 3m 33s\tremaining: 42m 27s\n",
      "387:\tlearn: 0.4891780\ttest: 0.4891780\ttest1: 0.2069472\tbest: 0.2069700 (386)\ttotal: 3m 34s\tremaining: 42m 27s\n",
      "388:\tlearn: 0.4891881\ttest: 0.4891881\ttest1: 0.2069814\tbest: 0.2069814 (388)\ttotal: 3m 34s\tremaining: 42m 26s\n",
      "389:\tlearn: 0.4892084\ttest: 0.4892084\ttest1: 0.2070042\tbest: 0.2070042 (389)\ttotal: 3m 35s\tremaining: 42m 26s\n",
      "390:\tlearn: 0.4891844\ttest: 0.4891844\ttest1: 0.2069814\tbest: 0.2070042 (389)\ttotal: 3m 36s\tremaining: 42m 26s\n",
      "391:\tlearn: 0.4892173\ttest: 0.4892173\ttest1: 0.2070155\tbest: 0.2070155 (391)\ttotal: 3m 36s\tremaining: 42m 26s\n",
      "392:\tlearn: 0.4892198\ttest: 0.4892198\ttest1: 0.2069928\tbest: 0.2070155 (391)\ttotal: 3m 37s\tremaining: 42m 25s\n",
      "393:\tlearn: 0.4892211\ttest: 0.4892211\ttest1: 0.2070611\tbest: 0.2070611 (393)\ttotal: 3m 37s\tremaining: 42m 25s\n",
      "394:\tlearn: 0.4892198\ttest: 0.4892198\ttest1: 0.2070155\tbest: 0.2070611 (393)\ttotal: 3m 38s\tremaining: 42m 25s\n",
      "395:\tlearn: 0.4892464\ttest: 0.4892464\ttest1: 0.2069814\tbest: 0.2070611 (393)\ttotal: 3m 38s\tremaining: 42m 24s\n",
      "396:\tlearn: 0.4892691\ttest: 0.4892691\ttest1: 0.2070953\tbest: 0.2070953 (396)\ttotal: 3m 39s\tremaining: 42m 23s\n",
      "397:\tlearn: 0.4892742\ttest: 0.4892742\ttest1: 0.2071067\tbest: 0.2071067 (397)\ttotal: 3m 39s\tremaining: 42m 23s\n",
      "398:\tlearn: 0.4892944\ttest: 0.4892944\ttest1: 0.2071294\tbest: 0.2071294 (398)\ttotal: 3m 40s\tremaining: 42m 22s\n",
      "399:\tlearn: 0.4893046\ttest: 0.4893046\ttest1: 0.2071408\tbest: 0.2071408 (399)\ttotal: 3m 41s\tremaining: 42m 21s\n",
      "400:\tlearn: 0.4893273\ttest: 0.4893273\ttest1: 0.2071408\tbest: 0.2071408 (399)\ttotal: 3m 41s\tremaining: 42m 21s\n",
      "401:\tlearn: 0.4893919\ttest: 0.4893919\ttest1: 0.2071180\tbest: 0.2071408 (399)\ttotal: 3m 42s\tremaining: 42m 20s\n",
      "402:\tlearn: 0.4893894\ttest: 0.4893894\ttest1: 0.2071522\tbest: 0.2071522 (402)\ttotal: 3m 42s\tremaining: 42m 20s\n",
      "403:\tlearn: 0.4894248\ttest: 0.4894248\ttest1: 0.2071294\tbest: 0.2071522 (402)\ttotal: 3m 43s\tremaining: 42m 19s\n",
      "404:\tlearn: 0.4894374\ttest: 0.4894374\ttest1: 0.2071750\tbest: 0.2071750 (404)\ttotal: 3m 43s\tremaining: 42m 19s\n",
      "405:\tlearn: 0.4894273\ttest: 0.4894273\ttest1: 0.2071636\tbest: 0.2071750 (404)\ttotal: 3m 44s\tremaining: 42m 19s\n",
      "406:\tlearn: 0.4894678\ttest: 0.4894678\ttest1: 0.2071636\tbest: 0.2071750 (404)\ttotal: 3m 44s\tremaining: 42m 19s\n",
      "407:\tlearn: 0.4894412\ttest: 0.4894412\ttest1: 0.2072205\tbest: 0.2072205 (407)\ttotal: 3m 45s\tremaining: 42m 18s\n",
      "408:\tlearn: 0.4894412\ttest: 0.4894412\ttest1: 0.2072205\tbest: 0.2072205 (407)\ttotal: 3m 46s\tremaining: 42m 17s\n",
      "409:\tlearn: 0.4894564\ttest: 0.4894564\ttest1: 0.2071978\tbest: 0.2072205 (407)\ttotal: 3m 46s\tremaining: 42m 17s\n",
      "410:\tlearn: 0.4894868\ttest: 0.4894868\ttest1: 0.2072092\tbest: 0.2072205 (407)\ttotal: 3m 47s\tremaining: 42m 17s\n",
      "411:\tlearn: 0.4894577\ttest: 0.4894577\ttest1: 0.2072092\tbest: 0.2072205 (407)\ttotal: 3m 47s\tremaining: 42m 16s\n",
      "412:\tlearn: 0.4894691\ttest: 0.4894691\ttest1: 0.2072319\tbest: 0.2072319 (412)\ttotal: 3m 48s\tremaining: 42m 16s\n",
      "413:\tlearn: 0.4894653\ttest: 0.4894653\ttest1: 0.2071864\tbest: 0.2072319 (412)\ttotal: 3m 48s\tremaining: 42m 15s\n",
      "414:\tlearn: 0.4894590\ttest: 0.4894590\ttest1: 0.2071978\tbest: 0.2072319 (412)\ttotal: 3m 49s\tremaining: 42m 15s\n",
      "415:\tlearn: 0.4894982\ttest: 0.4894982\ttest1: 0.2072661\tbest: 0.2072661 (415)\ttotal: 3m 50s\tremaining: 42m 15s\n",
      "416:\tlearn: 0.4895210\ttest: 0.4895210\ttest1: 0.2072319\tbest: 0.2072661 (415)\ttotal: 3m 50s\tremaining: 42m 14s\n",
      "417:\tlearn: 0.4895437\ttest: 0.4895437\ttest1: 0.2072661\tbest: 0.2072661 (415)\ttotal: 3m 51s\tremaining: 42m 14s\n",
      "418:\tlearn: 0.4895361\ttest: 0.4895361\ttest1: 0.2072547\tbest: 0.2072661 (415)\ttotal: 3m 51s\tremaining: 42m 13s\n",
      "419:\tlearn: 0.4895336\ttest: 0.4895336\ttest1: 0.2072889\tbest: 0.2072889 (419)\ttotal: 3m 52s\tremaining: 42m 13s\n",
      "420:\tlearn: 0.4895336\ttest: 0.4895336\ttest1: 0.2072547\tbest: 0.2072889 (419)\ttotal: 3m 52s\tremaining: 42m 12s\n",
      "421:\tlearn: 0.4895475\ttest: 0.4895475\ttest1: 0.2072547\tbest: 0.2072889 (419)\ttotal: 3m 53s\tremaining: 42m 12s\n",
      "422:\tlearn: 0.4895412\ttest: 0.4895412\ttest1: 0.2072661\tbest: 0.2072889 (419)\ttotal: 3m 53s\tremaining: 42m 11s\n",
      "423:\tlearn: 0.4895463\ttest: 0.4895463\ttest1: 0.2071978\tbest: 0.2072889 (419)\ttotal: 3m 54s\tremaining: 42m 10s\n",
      "424:\tlearn: 0.4895526\ttest: 0.4895526\ttest1: 0.2071750\tbest: 0.2072889 (419)\ttotal: 3m 55s\tremaining: 42m 10s\n",
      "425:\tlearn: 0.4895501\ttest: 0.4895501\ttest1: 0.2071750\tbest: 0.2072889 (419)\ttotal: 3m 55s\tremaining: 42m 9s\n",
      "426:\tlearn: 0.4895513\ttest: 0.4895513\ttest1: 0.2071522\tbest: 0.2072889 (419)\ttotal: 3m 56s\tremaining: 42m 9s\n",
      "427:\tlearn: 0.4895577\ttest: 0.4895577\ttest1: 0.2071978\tbest: 0.2072889 (419)\ttotal: 3m 56s\tremaining: 42m 8s\n",
      "428:\tlearn: 0.4895690\ttest: 0.4895690\ttest1: 0.2071522\tbest: 0.2072889 (419)\ttotal: 3m 57s\tremaining: 42m 8s\n",
      "429:\tlearn: 0.4895842\ttest: 0.4895842\ttest1: 0.2071408\tbest: 0.2072889 (419)\ttotal: 3m 57s\tremaining: 42m 7s\n",
      "430:\tlearn: 0.4895906\ttest: 0.4895906\ttest1: 0.2071864\tbest: 0.2072889 (419)\ttotal: 3m 58s\tremaining: 42m 7s\n",
      "431:\tlearn: 0.4896386\ttest: 0.4896386\ttest1: 0.2072092\tbest: 0.2072889 (419)\ttotal: 3m 59s\tremaining: 42m 7s\n",
      "432:\tlearn: 0.4896361\ttest: 0.4896361\ttest1: 0.2071864\tbest: 0.2072889 (419)\ttotal: 3m 59s\tremaining: 42m 6s\n",
      "433:\tlearn: 0.4896209\ttest: 0.4896209\ttest1: 0.2072092\tbest: 0.2072889 (419)\ttotal: 4m\tremaining: 42m 6s\n",
      "434:\tlearn: 0.4896323\ttest: 0.4896323\ttest1: 0.2072092\tbest: 0.2072889 (419)\ttotal: 4m\tremaining: 42m 5s\n",
      "435:\tlearn: 0.4896412\ttest: 0.4896412\ttest1: 0.2071978\tbest: 0.2072889 (419)\ttotal: 4m 1s\tremaining: 42m 5s\n",
      "436:\tlearn: 0.4896247\ttest: 0.4896247\ttest1: 0.2072319\tbest: 0.2072889 (419)\ttotal: 4m 1s\tremaining: 42m 4s\n",
      "437:\tlearn: 0.4896829\ttest: 0.4896829\ttest1: 0.2072547\tbest: 0.2072889 (419)\ttotal: 4m 2s\tremaining: 42m 4s\n",
      "438:\tlearn: 0.4896715\ttest: 0.4896715\ttest1: 0.2072319\tbest: 0.2072889 (419)\ttotal: 4m 2s\tremaining: 42m 3s\n",
      "439:\tlearn: 0.4896677\ttest: 0.4896677\ttest1: 0.2072775\tbest: 0.2072889 (419)\ttotal: 4m 3s\tremaining: 42m 3s\n",
      "440:\tlearn: 0.4896779\ttest: 0.4896779\ttest1: 0.2072661\tbest: 0.2072889 (419)\ttotal: 4m 4s\tremaining: 42m 2s\n",
      "441:\tlearn: 0.4897095\ttest: 0.4897095\ttest1: 0.2072661\tbest: 0.2072889 (419)\ttotal: 4m 4s\tremaining: 42m 2s\n",
      "442:\tlearn: 0.4897184\ttest: 0.4897184\ttest1: 0.2072889\tbest: 0.2072889 (419)\ttotal: 4m 5s\tremaining: 42m 1s\n",
      "443:\tlearn: 0.4897601\ttest: 0.4897601\ttest1: 0.2072889\tbest: 0.2072889 (419)\ttotal: 4m 5s\tremaining: 42m 1s\n",
      "444:\tlearn: 0.4897361\ttest: 0.4897361\ttest1: 0.2072319\tbest: 0.2072889 (419)\ttotal: 4m 6s\tremaining: 42m 1s\n",
      "445:\tlearn: 0.4897462\ttest: 0.4897462\ttest1: 0.2072661\tbest: 0.2072889 (419)\ttotal: 4m 6s\tremaining: 42m\n",
      "446:\tlearn: 0.4898120\ttest: 0.4898120\ttest1: 0.2072433\tbest: 0.2072889 (419)\ttotal: 4m 7s\tremaining: 42m\n",
      "447:\tlearn: 0.4898500\ttest: 0.4898500\ttest1: 0.2072205\tbest: 0.2072889 (419)\ttotal: 4m 7s\tremaining: 41m 59s\n",
      "448:\tlearn: 0.4898424\ttest: 0.4898424\ttest1: 0.2071864\tbest: 0.2072889 (419)\ttotal: 4m 8s\tremaining: 41m 59s\n",
      "449:\tlearn: 0.4898576\ttest: 0.4898576\ttest1: 0.2071864\tbest: 0.2072889 (419)\ttotal: 4m 9s\tremaining: 41m 58s\n",
      "450:\tlearn: 0.4899082\ttest: 0.4899082\ttest1: 0.2072092\tbest: 0.2072889 (419)\ttotal: 4m 9s\tremaining: 41m 57s\n",
      "451:\tlearn: 0.4898993\ttest: 0.4898993\ttest1: 0.2071978\tbest: 0.2072889 (419)\ttotal: 4m 10s\tremaining: 41m 56s\n",
      "452:\tlearn: 0.4899234\ttest: 0.4899234\ttest1: 0.2071978\tbest: 0.2072889 (419)\ttotal: 4m 10s\tremaining: 41m 56s\n",
      "453:\tlearn: 0.4899183\ttest: 0.4899183\ttest1: 0.2071750\tbest: 0.2072889 (419)\ttotal: 4m 11s\tremaining: 41m 55s\n",
      "454:\tlearn: 0.4899297\ttest: 0.4899297\ttest1: 0.2072092\tbest: 0.2072889 (419)\ttotal: 4m 11s\tremaining: 41m 55s\n",
      "455:\tlearn: 0.4899411\ttest: 0.4899411\ttest1: 0.2072319\tbest: 0.2072889 (419)\ttotal: 4m 12s\tremaining: 41m 54s\n",
      "456:\tlearn: 0.4899297\ttest: 0.4899297\ttest1: 0.2071978\tbest: 0.2072889 (419)\ttotal: 4m 12s\tremaining: 41m 54s\n",
      "457:\tlearn: 0.4899626\ttest: 0.4899626\ttest1: 0.2072092\tbest: 0.2072889 (419)\ttotal: 4m 13s\tremaining: 41m 54s\n",
      "458:\tlearn: 0.4899537\ttest: 0.4899537\ttest1: 0.2072547\tbest: 0.2072889 (419)\ttotal: 4m 14s\tremaining: 41m 53s\n",
      "459:\tlearn: 0.4899386\ttest: 0.4899386\ttest1: 0.2073003\tbest: 0.2073003 (459)\ttotal: 4m 14s\tremaining: 41m 52s\n",
      "460:\tlearn: 0.4899487\ttest: 0.4899487\ttest1: 0.2072775\tbest: 0.2073003 (459)\ttotal: 4m 15s\tremaining: 41m 52s\n",
      "461:\tlearn: 0.4899537\ttest: 0.4899537\ttest1: 0.2073117\tbest: 0.2073117 (461)\ttotal: 4m 15s\tremaining: 41m 52s\n",
      "462:\tlearn: 0.4899702\ttest: 0.4899702\ttest1: 0.2073458\tbest: 0.2073458 (462)\ttotal: 4m 16s\tremaining: 41m 51s\n",
      "463:\tlearn: 0.4899715\ttest: 0.4899715\ttest1: 0.2073117\tbest: 0.2073458 (462)\ttotal: 4m 16s\tremaining: 41m 50s\n",
      "464:\tlearn: 0.4899715\ttest: 0.4899715\ttest1: 0.2073117\tbest: 0.2073458 (462)\ttotal: 4m 17s\tremaining: 41m 50s\n",
      "465:\tlearn: 0.4899715\ttest: 0.4899715\ttest1: 0.2073344\tbest: 0.2073458 (462)\ttotal: 4m 17s\tremaining: 41m 50s\n",
      "466:\tlearn: 0.4899917\ttest: 0.4899917\ttest1: 0.2073572\tbest: 0.2073572 (466)\ttotal: 4m 18s\tremaining: 41m 49s\n",
      "467:\tlearn: 0.4899955\ttest: 0.4899955\ttest1: 0.2073458\tbest: 0.2073572 (466)\ttotal: 4m 19s\tremaining: 41m 48s\n",
      "468:\tlearn: 0.4900094\ttest: 0.4900094\ttest1: 0.2073230\tbest: 0.2073572 (466)\ttotal: 4m 19s\tremaining: 41m 48s\n",
      "469:\tlearn: 0.4900297\ttest: 0.4900297\ttest1: 0.2073230\tbest: 0.2073572 (466)\ttotal: 4m 20s\tremaining: 41m 47s\n",
      "470:\tlearn: 0.4900651\ttest: 0.4900651\ttest1: 0.2073230\tbest: 0.2073572 (466)\ttotal: 4m 20s\tremaining: 41m 46s\n",
      "471:\tlearn: 0.4900803\ttest: 0.4900803\ttest1: 0.2073458\tbest: 0.2073572 (466)\ttotal: 4m 21s\tremaining: 41m 46s\n",
      "472:\tlearn: 0.4900651\ttest: 0.4900651\ttest1: 0.2073344\tbest: 0.2073572 (466)\ttotal: 4m 21s\tremaining: 41m 45s\n",
      "473:\tlearn: 0.4900588\ttest: 0.4900588\ttest1: 0.2073230\tbest: 0.2073572 (466)\ttotal: 4m 22s\tremaining: 41m 44s\n",
      "474:\tlearn: 0.4900613\ttest: 0.4900613\ttest1: 0.2073230\tbest: 0.2073572 (466)\ttotal: 4m 22s\tremaining: 41m 44s\n",
      "475:\tlearn: 0.4900537\ttest: 0.4900537\ttest1: 0.2073686\tbest: 0.2073686 (475)\ttotal: 4m 23s\tremaining: 41m 43s\n",
      "476:\tlearn: 0.4900714\ttest: 0.4900714\ttest1: 0.2073800\tbest: 0.2073800 (476)\ttotal: 4m 24s\tremaining: 41m 43s\n",
      "477:\tlearn: 0.4900904\ttest: 0.4900904\ttest1: 0.2073344\tbest: 0.2073800 (476)\ttotal: 4m 24s\tremaining: 41m 43s\n",
      "478:\tlearn: 0.4901182\ttest: 0.4901182\ttest1: 0.2073344\tbest: 0.2073800 (476)\ttotal: 4m 25s\tremaining: 41m 42s\n",
      "479:\tlearn: 0.4901360\ttest: 0.4901360\ttest1: 0.2073117\tbest: 0.2073800 (476)\ttotal: 4m 25s\tremaining: 41m 41s\n",
      "480:\tlearn: 0.4901410\ttest: 0.4901410\ttest1: 0.2073230\tbest: 0.2073800 (476)\ttotal: 4m 26s\tremaining: 41m 41s\n",
      "481:\tlearn: 0.4901347\ttest: 0.4901347\ttest1: 0.2074028\tbest: 0.2074028 (481)\ttotal: 4m 26s\tremaining: 41m 40s\n",
      "482:\tlearn: 0.4901258\ttest: 0.4901258\ttest1: 0.2074028\tbest: 0.2074028 (481)\ttotal: 4m 27s\tremaining: 41m 40s\n",
      "483:\tlearn: 0.4901069\ttest: 0.4901069\ttest1: 0.2073344\tbest: 0.2074028 (481)\ttotal: 4m 27s\tremaining: 41m 39s\n",
      "484:\tlearn: 0.4901119\ttest: 0.4901119\ttest1: 0.2073344\tbest: 0.2074028 (481)\ttotal: 4m 28s\tremaining: 41m 39s\n",
      "485:\tlearn: 0.4901385\ttest: 0.4901385\ttest1: 0.2073686\tbest: 0.2074028 (481)\ttotal: 4m 29s\tremaining: 41m 38s\n",
      "486:\tlearn: 0.4901461\ttest: 0.4901461\ttest1: 0.2073686\tbest: 0.2074028 (481)\ttotal: 4m 29s\tremaining: 41m 37s\n",
      "487:\tlearn: 0.4902283\ttest: 0.4902283\ttest1: 0.2073344\tbest: 0.2074028 (481)\ttotal: 4m 30s\tremaining: 41m 37s\n",
      "488:\tlearn: 0.4902283\ttest: 0.4902283\ttest1: 0.2073458\tbest: 0.2074028 (481)\ttotal: 4m 30s\tremaining: 41m 37s\n",
      "489:\tlearn: 0.4902347\ttest: 0.4902347\ttest1: 0.2073458\tbest: 0.2074028 (481)\ttotal: 4m 31s\tremaining: 41m 36s\n",
      "490:\tlearn: 0.4902486\ttest: 0.4902486\ttest1: 0.2073230\tbest: 0.2074028 (481)\ttotal: 4m 31s\tremaining: 41m 35s\n",
      "491:\tlearn: 0.4902714\ttest: 0.4902714\ttest1: 0.2073572\tbest: 0.2074028 (481)\ttotal: 4m 32s\tremaining: 41m 35s\n",
      "492:\tlearn: 0.4902486\ttest: 0.4902486\ttest1: 0.2073458\tbest: 0.2074028 (481)\ttotal: 4m 32s\tremaining: 41m 34s\n",
      "493:\tlearn: 0.4902562\ttest: 0.4902562\ttest1: 0.2073458\tbest: 0.2074028 (481)\ttotal: 4m 33s\tremaining: 41m 34s\n",
      "494:\tlearn: 0.4902764\ttest: 0.4902764\ttest1: 0.2073572\tbest: 0.2074028 (481)\ttotal: 4m 34s\tremaining: 41m 34s\n",
      "495:\tlearn: 0.4903068\ttest: 0.4903068\ttest1: 0.2073458\tbest: 0.2074028 (481)\ttotal: 4m 34s\tremaining: 41m 34s\n",
      "496:\tlearn: 0.4902992\ttest: 0.4902992\ttest1: 0.2073458\tbest: 0.2074028 (481)\ttotal: 4m 35s\tremaining: 41m 33s\n",
      "497:\tlearn: 0.4903194\ttest: 0.4903194\ttest1: 0.2073458\tbest: 0.2074028 (481)\ttotal: 4m 35s\tremaining: 41m 33s\n",
      "498:\tlearn: 0.4903068\ttest: 0.4903068\ttest1: 0.2073458\tbest: 0.2074028 (481)\ttotal: 4m 36s\tremaining: 41m 32s\n",
      "499:\tlearn: 0.4903346\ttest: 0.4903346\ttest1: 0.2073458\tbest: 0.2074028 (481)\ttotal: 4m 36s\tremaining: 41m 32s\n",
      "500:\tlearn: 0.4903321\ttest: 0.4903321\ttest1: 0.2073914\tbest: 0.2074028 (481)\ttotal: 4m 37s\tremaining: 41m 31s\n",
      "501:\tlearn: 0.4903536\ttest: 0.4903536\ttest1: 0.2073458\tbest: 0.2074028 (481)\ttotal: 4m 38s\tremaining: 41m 31s\n",
      "502:\tlearn: 0.4903650\ttest: 0.4903650\ttest1: 0.2074028\tbest: 0.2074028 (481)\ttotal: 4m 38s\tremaining: 41m 30s\n",
      "503:\tlearn: 0.4903954\ttest: 0.4903954\ttest1: 0.2073800\tbest: 0.2074028 (481)\ttotal: 4m 39s\tremaining: 41m 30s\n",
      "504:\tlearn: 0.4904004\ttest: 0.4904004\ttest1: 0.2074142\tbest: 0.2074142 (504)\ttotal: 4m 39s\tremaining: 41m 30s\n",
      "505:\tlearn: 0.4904042\ttest: 0.4904042\ttest1: 0.2074255\tbest: 0.2074255 (505)\ttotal: 4m 40s\tremaining: 41m 29s\n",
      "506:\tlearn: 0.4903992\ttest: 0.4903992\ttest1: 0.2074483\tbest: 0.2074483 (506)\ttotal: 4m 40s\tremaining: 41m 29s\n",
      "507:\tlearn: 0.4904093\ttest: 0.4904093\ttest1: 0.2075053\tbest: 0.2075053 (507)\ttotal: 4m 41s\tremaining: 41m 28s\n",
      "508:\tlearn: 0.4904169\ttest: 0.4904169\ttest1: 0.2075053\tbest: 0.2075053 (507)\ttotal: 4m 42s\tremaining: 41m 28s\n",
      "509:\tlearn: 0.4904675\ttest: 0.4904675\ttest1: 0.2074825\tbest: 0.2075053 (507)\ttotal: 4m 42s\tremaining: 41m 27s\n",
      "510:\tlearn: 0.4905105\ttest: 0.4905105\ttest1: 0.2074597\tbest: 0.2075053 (507)\ttotal: 4m 43s\tremaining: 41m 27s\n",
      "511:\tlearn: 0.4905675\ttest: 0.4905675\ttest1: 0.2074255\tbest: 0.2075053 (507)\ttotal: 4m 43s\tremaining: 41m 27s\n",
      "512:\tlearn: 0.4905611\ttest: 0.4905611\ttest1: 0.2073686\tbest: 0.2075053 (507)\ttotal: 4m 44s\tremaining: 41m 26s\n",
      "513:\tlearn: 0.4905713\ttest: 0.4905713\ttest1: 0.2073572\tbest: 0.2075053 (507)\ttotal: 4m 44s\tremaining: 41m 25s\n",
      "514:\tlearn: 0.4905700\ttest: 0.4905700\ttest1: 0.2073914\tbest: 0.2075053 (507)\ttotal: 4m 45s\tremaining: 41m 25s\n",
      "515:\tlearn: 0.4905814\ttest: 0.4905814\ttest1: 0.2073458\tbest: 0.2075053 (507)\ttotal: 4m 45s\tremaining: 41m 25s\n",
      "516:\tlearn: 0.4906054\ttest: 0.4906054\ttest1: 0.2074028\tbest: 0.2075053 (507)\ttotal: 4m 46s\tremaining: 41m 24s\n",
      "517:\tlearn: 0.4906358\ttest: 0.4906358\ttest1: 0.2074028\tbest: 0.2075053 (507)\ttotal: 4m 47s\tremaining: 41m 24s\n",
      "518:\tlearn: 0.4906345\ttest: 0.4906345\ttest1: 0.2074255\tbest: 0.2075053 (507)\ttotal: 4m 47s\tremaining: 41m 23s\n",
      "519:\tlearn: 0.4906485\ttest: 0.4906485\ttest1: 0.2074255\tbest: 0.2075053 (507)\ttotal: 4m 48s\tremaining: 41m 23s\n",
      "520:\tlearn: 0.4906662\ttest: 0.4906662\ttest1: 0.2074142\tbest: 0.2075053 (507)\ttotal: 4m 48s\tremaining: 41m 23s\n",
      "521:\tlearn: 0.4906839\ttest: 0.4906839\ttest1: 0.2074369\tbest: 0.2075053 (507)\ttotal: 4m 49s\tremaining: 41m 22s\n",
      "522:\tlearn: 0.4906877\ttest: 0.4906877\ttest1: 0.2074711\tbest: 0.2075053 (507)\ttotal: 4m 49s\tremaining: 41m 21s\n",
      "523:\tlearn: 0.4906927\ttest: 0.4906927\ttest1: 0.2074939\tbest: 0.2075053 (507)\ttotal: 4m 50s\tremaining: 41m 21s\n",
      "524:\tlearn: 0.4907231\ttest: 0.4907231\ttest1: 0.2075053\tbest: 0.2075053 (507)\ttotal: 4m 51s\tremaining: 41m 20s\n",
      "525:\tlearn: 0.4907269\ttest: 0.4907269\ttest1: 0.2074597\tbest: 0.2075053 (507)\ttotal: 4m 51s\tremaining: 41m 20s\n",
      "526:\tlearn: 0.4907307\ttest: 0.4907307\ttest1: 0.2074711\tbest: 0.2075053 (507)\ttotal: 4m 52s\tremaining: 41m 19s\n",
      "527:\tlearn: 0.4907332\ttest: 0.4907332\ttest1: 0.2075167\tbest: 0.2075167 (527)\ttotal: 4m 52s\tremaining: 41m 19s\n",
      "528:\tlearn: 0.4907370\ttest: 0.4907370\ttest1: 0.2075167\tbest: 0.2075167 (527)\ttotal: 4m 53s\tremaining: 41m 18s\n",
      "529:\tlearn: 0.4907320\ttest: 0.4907320\ttest1: 0.2075508\tbest: 0.2075508 (529)\ttotal: 4m 53s\tremaining: 41m 17s\n",
      "530:\tlearn: 0.4907522\ttest: 0.4907522\ttest1: 0.2075167\tbest: 0.2075508 (529)\ttotal: 4m 54s\tremaining: 41m 17s\n",
      "531:\tlearn: 0.4907560\ttest: 0.4907560\ttest1: 0.2075280\tbest: 0.2075508 (529)\ttotal: 4m 54s\tremaining: 41m 17s\n",
      "532:\tlearn: 0.4907750\ttest: 0.4907750\ttest1: 0.2075280\tbest: 0.2075508 (529)\ttotal: 4m 55s\tremaining: 41m 17s\n",
      "533:\tlearn: 0.4907687\ttest: 0.4907687\ttest1: 0.2075053\tbest: 0.2075508 (529)\ttotal: 4m 56s\tremaining: 41m 16s\n",
      "534:\tlearn: 0.4907649\ttest: 0.4907649\ttest1: 0.2075053\tbest: 0.2075508 (529)\ttotal: 4m 56s\tremaining: 41m 16s\n",
      "535:\tlearn: 0.4907775\ttest: 0.4907775\ttest1: 0.2075280\tbest: 0.2075508 (529)\ttotal: 4m 57s\tremaining: 41m 16s\n",
      "536:\tlearn: 0.4907763\ttest: 0.4907763\ttest1: 0.2075167\tbest: 0.2075508 (529)\ttotal: 4m 57s\tremaining: 41m 15s\n",
      "537:\tlearn: 0.4908193\ttest: 0.4908193\ttest1: 0.2075053\tbest: 0.2075508 (529)\ttotal: 4m 58s\tremaining: 41m 15s\n",
      "538:\tlearn: 0.4908193\ttest: 0.4908193\ttest1: 0.2074825\tbest: 0.2075508 (529)\ttotal: 4m 59s\tremaining: 41m 14s\n",
      "539:\tlearn: 0.4908041\ttest: 0.4908041\ttest1: 0.2074939\tbest: 0.2075508 (529)\ttotal: 4m 59s\tremaining: 41m 14s\n",
      "540:\tlearn: 0.4908522\ttest: 0.4908522\ttest1: 0.2074939\tbest: 0.2075508 (529)\ttotal: 5m\tremaining: 41m 14s\n",
      "541:\tlearn: 0.4908737\ttest: 0.4908737\ttest1: 0.2075053\tbest: 0.2075508 (529)\ttotal: 5m\tremaining: 41m 14s\n",
      "542:\tlearn: 0.4908889\ttest: 0.4908889\ttest1: 0.2075394\tbest: 0.2075508 (529)\ttotal: 5m 1s\tremaining: 41m 13s\n",
      "543:\tlearn: 0.4908611\ttest: 0.4908611\ttest1: 0.2075394\tbest: 0.2075508 (529)\ttotal: 5m 2s\tremaining: 41m 13s\n",
      "544:\tlearn: 0.4908383\ttest: 0.4908383\ttest1: 0.2075394\tbest: 0.2075508 (529)\ttotal: 5m 2s\tremaining: 41m 13s\n",
      "545:\tlearn: 0.4908370\ttest: 0.4908370\ttest1: 0.2075508\tbest: 0.2075508 (529)\ttotal: 5m 3s\tremaining: 41m 12s\n",
      "546:\tlearn: 0.4908471\ttest: 0.4908471\ttest1: 0.2075280\tbest: 0.2075508 (529)\ttotal: 5m 3s\tremaining: 41m 12s\n",
      "547:\tlearn: 0.4908446\ttest: 0.4908446\ttest1: 0.2075167\tbest: 0.2075508 (529)\ttotal: 5m 4s\tremaining: 41m 11s\n",
      "548:\tlearn: 0.4908838\ttest: 0.4908838\ttest1: 0.2075167\tbest: 0.2075508 (529)\ttotal: 5m 4s\tremaining: 41m 10s\n",
      "549:\tlearn: 0.4908851\ttest: 0.4908851\ttest1: 0.2075167\tbest: 0.2075508 (529)\ttotal: 5m 5s\tremaining: 41m 10s\n",
      "550:\tlearn: 0.4908990\ttest: 0.4908990\ttest1: 0.2075167\tbest: 0.2075508 (529)\ttotal: 5m 5s\tremaining: 41m 9s\n",
      "551:\tlearn: 0.4909117\ttest: 0.4909117\ttest1: 0.2074939\tbest: 0.2075508 (529)\ttotal: 5m 6s\tremaining: 41m 9s\n",
      "552:\tlearn: 0.4909218\ttest: 0.4909218\ttest1: 0.2074939\tbest: 0.2075508 (529)\ttotal: 5m 6s\tremaining: 41m 8s\n",
      "553:\tlearn: 0.4909218\ttest: 0.4909218\ttest1: 0.2074711\tbest: 0.2075508 (529)\ttotal: 5m 7s\tremaining: 41m 7s\n",
      "554:\tlearn: 0.4909598\ttest: 0.4909598\ttest1: 0.2074939\tbest: 0.2075508 (529)\ttotal: 5m 8s\tremaining: 41m 7s\n",
      "555:\tlearn: 0.4909686\ttest: 0.4909686\ttest1: 0.2074597\tbest: 0.2075508 (529)\ttotal: 5m 8s\tremaining: 41m 7s\n",
      "556:\tlearn: 0.4909623\ttest: 0.4909623\ttest1: 0.2074939\tbest: 0.2075508 (529)\ttotal: 5m 9s\tremaining: 41m 6s\n",
      "557:\tlearn: 0.4910091\ttest: 0.4910091\ttest1: 0.2074939\tbest: 0.2075508 (529)\ttotal: 5m 9s\tremaining: 41m 5s\n",
      "558:\tlearn: 0.4909977\ttest: 0.4909977\ttest1: 0.2075053\tbest: 0.2075508 (529)\ttotal: 5m 10s\tremaining: 41m 5s\n",
      "559:\tlearn: 0.4909990\ttest: 0.4909990\ttest1: 0.2074711\tbest: 0.2075508 (529)\ttotal: 5m 10s\tremaining: 41m 5s\n",
      "560:\tlearn: 0.4910180\ttest: 0.4910180\ttest1: 0.2074597\tbest: 0.2075508 (529)\ttotal: 5m 11s\tremaining: 41m 4s\n",
      "561:\tlearn: 0.4910066\ttest: 0.4910066\ttest1: 0.2074597\tbest: 0.2075508 (529)\ttotal: 5m 12s\tremaining: 41m 4s\n",
      "562:\tlearn: 0.4910129\ttest: 0.4910129\ttest1: 0.2074597\tbest: 0.2075508 (529)\ttotal: 5m 12s\tremaining: 41m 3s\n",
      "563:\tlearn: 0.4910053\ttest: 0.4910053\ttest1: 0.2074711\tbest: 0.2075508 (529)\ttotal: 5m 13s\tremaining: 41m 3s\n",
      "564:\tlearn: 0.4910812\ttest: 0.4910812\ttest1: 0.2075167\tbest: 0.2075508 (529)\ttotal: 5m 13s\tremaining: 41m 2s\n",
      "565:\tlearn: 0.4910812\ttest: 0.4910812\ttest1: 0.2075964\tbest: 0.2075964 (565)\ttotal: 5m 14s\tremaining: 41m 2s\n",
      "566:\tlearn: 0.4910876\ttest: 0.4910876\ttest1: 0.2075964\tbest: 0.2075964 (565)\ttotal: 5m 14s\tremaining: 41m 2s\n",
      "567:\tlearn: 0.4911065\ttest: 0.4911065\ttest1: 0.2075850\tbest: 0.2075964 (565)\ttotal: 5m 15s\tremaining: 41m 1s\n",
      "568:\tlearn: 0.4911205\ttest: 0.4911205\ttest1: 0.2076192\tbest: 0.2076192 (568)\ttotal: 5m 16s\tremaining: 41m\n",
      "569:\tlearn: 0.4911521\ttest: 0.4911521\ttest1: 0.2076192\tbest: 0.2076192 (568)\ttotal: 5m 16s\tremaining: 41m\n",
      "570:\tlearn: 0.4911483\ttest: 0.4911483\ttest1: 0.2076192\tbest: 0.2076192 (568)\ttotal: 5m 17s\tremaining: 41m\n",
      "571:\tlearn: 0.4911268\ttest: 0.4911268\ttest1: 0.2076305\tbest: 0.2076305 (571)\ttotal: 5m 17s\tremaining: 40m 59s\n",
      "572:\tlearn: 0.4911382\ttest: 0.4911382\ttest1: 0.2076192\tbest: 0.2076305 (571)\ttotal: 5m 18s\tremaining: 40m 59s\n",
      "573:\tlearn: 0.4911394\ttest: 0.4911394\ttest1: 0.2076419\tbest: 0.2076419 (573)\ttotal: 5m 18s\tremaining: 40m 58s\n",
      "574:\tlearn: 0.4911686\ttest: 0.4911686\ttest1: 0.2076305\tbest: 0.2076419 (573)\ttotal: 5m 19s\tremaining: 40m 57s\n",
      "575:\tlearn: 0.4911660\ttest: 0.4911660\ttest1: 0.2076647\tbest: 0.2076647 (575)\ttotal: 5m 19s\tremaining: 40m 57s\n",
      "576:\tlearn: 0.4911648\ttest: 0.4911648\ttest1: 0.2076761\tbest: 0.2076761 (576)\ttotal: 5m 20s\tremaining: 40m 56s\n",
      "577:\tlearn: 0.4911863\ttest: 0.4911863\ttest1: 0.2076647\tbest: 0.2076761 (576)\ttotal: 5m 21s\tremaining: 40m 56s\n",
      "578:\tlearn: 0.4912052\ttest: 0.4912052\ttest1: 0.2076419\tbest: 0.2076761 (576)\ttotal: 5m 21s\tremaining: 40m 55s\n",
      "579:\tlearn: 0.4912015\ttest: 0.4912015\ttest1: 0.2074825\tbest: 0.2076761 (576)\ttotal: 5m 22s\tremaining: 40m 54s\n",
      "580:\tlearn: 0.4911989\ttest: 0.4911989\ttest1: 0.2074825\tbest: 0.2076761 (576)\ttotal: 5m 22s\tremaining: 40m 54s\n",
      "581:\tlearn: 0.4912268\ttest: 0.4912268\ttest1: 0.2074939\tbest: 0.2076761 (576)\ttotal: 5m 23s\tremaining: 40m 53s\n",
      "582:\tlearn: 0.4912242\ttest: 0.4912242\ttest1: 0.2074825\tbest: 0.2076761 (576)\ttotal: 5m 23s\tremaining: 40m 53s\n",
      "583:\tlearn: 0.4912344\ttest: 0.4912344\ttest1: 0.2074825\tbest: 0.2076761 (576)\ttotal: 5m 24s\tremaining: 40m 52s\n",
      "584:\tlearn: 0.4912495\ttest: 0.4912495\ttest1: 0.2074711\tbest: 0.2076761 (576)\ttotal: 5m 24s\tremaining: 40m 51s\n",
      "585:\tlearn: 0.4912521\ttest: 0.4912521\ttest1: 0.2074939\tbest: 0.2076761 (576)\ttotal: 5m 25s\tremaining: 40m 51s\n",
      "586:\tlearn: 0.4912622\ttest: 0.4912622\ttest1: 0.2074711\tbest: 0.2076761 (576)\ttotal: 5m 26s\tremaining: 40m 51s\n",
      "587:\tlearn: 0.4912786\ttest: 0.4912786\ttest1: 0.2074711\tbest: 0.2076761 (576)\ttotal: 5m 26s\tremaining: 40m 50s\n",
      "588:\tlearn: 0.4913153\ttest: 0.4913153\ttest1: 0.2074711\tbest: 0.2076761 (576)\ttotal: 5m 27s\tremaining: 40m 50s\n",
      "589:\tlearn: 0.4913280\ttest: 0.4913280\ttest1: 0.2074825\tbest: 0.2076761 (576)\ttotal: 5m 27s\tremaining: 40m 49s\n",
      "590:\tlearn: 0.4913191\ttest: 0.4913191\ttest1: 0.2075167\tbest: 0.2076761 (576)\ttotal: 5m 28s\tremaining: 40m 48s\n",
      "591:\tlearn: 0.4913204\ttest: 0.4913204\ttest1: 0.2075167\tbest: 0.2076761 (576)\ttotal: 5m 28s\tremaining: 40m 48s\n",
      "592:\tlearn: 0.4913179\ttest: 0.4913179\ttest1: 0.2075053\tbest: 0.2076761 (576)\ttotal: 5m 29s\tremaining: 40m 47s\n",
      "593:\tlearn: 0.4914153\ttest: 0.4914153\ttest1: 0.2075167\tbest: 0.2076761 (576)\ttotal: 5m 29s\tremaining: 40m 47s\n",
      "594:\tlearn: 0.4913913\ttest: 0.4913913\ttest1: 0.2075622\tbest: 0.2076761 (576)\ttotal: 5m 30s\tremaining: 40m 47s\n",
      "595:\tlearn: 0.4914191\ttest: 0.4914191\ttest1: 0.2075622\tbest: 0.2076761 (576)\ttotal: 5m 31s\tremaining: 40m 46s\n",
      "596:\tlearn: 0.4914027\ttest: 0.4914027\ttest1: 0.2075622\tbest: 0.2076761 (576)\ttotal: 5m 31s\tremaining: 40m 46s\n",
      "597:\tlearn: 0.4914140\ttest: 0.4914140\ttest1: 0.2075622\tbest: 0.2076761 (576)\ttotal: 5m 32s\tremaining: 40m 45s\n",
      "598:\tlearn: 0.4914216\ttest: 0.4914216\ttest1: 0.2074711\tbest: 0.2076761 (576)\ttotal: 5m 32s\tremaining: 40m 44s\n",
      "599:\tlearn: 0.4914140\ttest: 0.4914140\ttest1: 0.2074597\tbest: 0.2076761 (576)\ttotal: 5m 33s\tremaining: 40m 44s\n",
      "600:\tlearn: 0.4914027\ttest: 0.4914027\ttest1: 0.2074711\tbest: 0.2076761 (576)\ttotal: 5m 33s\tremaining: 40m 43s\n",
      "601:\tlearn: 0.4914140\ttest: 0.4914140\ttest1: 0.2074711\tbest: 0.2076761 (576)\ttotal: 5m 34s\tremaining: 40m 43s\n",
      "602:\tlearn: 0.4914166\ttest: 0.4914166\ttest1: 0.2074711\tbest: 0.2076761 (576)\ttotal: 5m 35s\tremaining: 40m 43s\n",
      "603:\tlearn: 0.4914027\ttest: 0.4914027\ttest1: 0.2074939\tbest: 0.2076761 (576)\ttotal: 5m 35s\tremaining: 40m 42s\n",
      "604:\tlearn: 0.4914178\ttest: 0.4914178\ttest1: 0.2074825\tbest: 0.2076761 (576)\ttotal: 5m 36s\tremaining: 40m 41s\n",
      "605:\tlearn: 0.4914330\ttest: 0.4914330\ttest1: 0.2075167\tbest: 0.2076761 (576)\ttotal: 5m 36s\tremaining: 40m 41s\n",
      "606:\tlearn: 0.4914482\ttest: 0.4914482\ttest1: 0.2074825\tbest: 0.2076761 (576)\ttotal: 5m 37s\tremaining: 40m 40s\n",
      "607:\tlearn: 0.4914457\ttest: 0.4914457\ttest1: 0.2075053\tbest: 0.2076761 (576)\ttotal: 5m 37s\tremaining: 40m 40s\n",
      "608:\tlearn: 0.4914647\ttest: 0.4914647\ttest1: 0.2075053\tbest: 0.2076761 (576)\ttotal: 5m 38s\tremaining: 40m 40s\n",
      "609:\tlearn: 0.4914723\ttest: 0.4914723\ttest1: 0.2074939\tbest: 0.2076761 (576)\ttotal: 5m 38s\tremaining: 40m 39s\n",
      "610:\tlearn: 0.4914672\ttest: 0.4914672\ttest1: 0.2075167\tbest: 0.2076761 (576)\ttotal: 5m 39s\tremaining: 40m 38s\n",
      "611:\tlearn: 0.4914723\ttest: 0.4914723\ttest1: 0.2075053\tbest: 0.2076761 (576)\ttotal: 5m 40s\tremaining: 40m 38s\n",
      "612:\tlearn: 0.4914761\ttest: 0.4914761\ttest1: 0.2075053\tbest: 0.2076761 (576)\ttotal: 5m 40s\tremaining: 40m 37s\n",
      "613:\tlearn: 0.4914874\ttest: 0.4914874\ttest1: 0.2075508\tbest: 0.2076761 (576)\ttotal: 5m 41s\tremaining: 40m 37s\n",
      "614:\tlearn: 0.4915102\ttest: 0.4915102\ttest1: 0.2075508\tbest: 0.2076761 (576)\ttotal: 5m 41s\tremaining: 40m 36s\n",
      "615:\tlearn: 0.4915545\ttest: 0.4915545\ttest1: 0.2075053\tbest: 0.2076761 (576)\ttotal: 5m 42s\tremaining: 40m 36s\n",
      "616:\tlearn: 0.4915646\ttest: 0.4915646\ttest1: 0.2074939\tbest: 0.2076761 (576)\ttotal: 5m 42s\tremaining: 40m 35s\n",
      "617:\tlearn: 0.4915672\ttest: 0.4915672\ttest1: 0.2075167\tbest: 0.2076761 (576)\ttotal: 5m 43s\tremaining: 40m 35s\n",
      "618:\tlearn: 0.4915646\ttest: 0.4915646\ttest1: 0.2075167\tbest: 0.2076761 (576)\ttotal: 5m 44s\tremaining: 40m 34s\n",
      "619:\tlearn: 0.4915811\ttest: 0.4915811\ttest1: 0.2075053\tbest: 0.2076761 (576)\ttotal: 5m 44s\tremaining: 40m 34s\n",
      "620:\tlearn: 0.4916013\ttest: 0.4916013\ttest1: 0.2075736\tbest: 0.2076761 (576)\ttotal: 5m 45s\tremaining: 40m 33s\n",
      "621:\tlearn: 0.4916152\ttest: 0.4916152\ttest1: 0.2075850\tbest: 0.2076761 (576)\ttotal: 5m 45s\tremaining: 40m 33s\n",
      "622:\tlearn: 0.4916152\ttest: 0.4916152\ttest1: 0.2075736\tbest: 0.2076761 (576)\ttotal: 5m 46s\tremaining: 40m 32s\n",
      "623:\tlearn: 0.4916089\ttest: 0.4916089\ttest1: 0.2075394\tbest: 0.2076761 (576)\ttotal: 5m 46s\tremaining: 40m 32s\n",
      "624:\tlearn: 0.4916190\ttest: 0.4916190\ttest1: 0.2075622\tbest: 0.2076761 (576)\ttotal: 5m 47s\tremaining: 40m 32s\n",
      "625:\tlearn: 0.4916140\ttest: 0.4916140\ttest1: 0.2075053\tbest: 0.2076761 (576)\ttotal: 5m 47s\tremaining: 40m 31s\n",
      "626:\tlearn: 0.4916241\ttest: 0.4916241\ttest1: 0.2075053\tbest: 0.2076761 (576)\ttotal: 5m 48s\tremaining: 40m 31s\n",
      "Stopped by overfitting detector  (50 iterations wait)\n",
      "\n",
      "bestTest = 0.2076761004\n",
      "bestIteration = 576\n",
      "\n",
      "Shrink model to first 577 iterations.\n",
      "================================Fold1====================================\n",
      "0:\tlearn: 0.4827420\ttest: 0.4827420\ttest1: 0.1403223\tbest: 0.1403223 (0)\ttotal: 587ms\tremaining: 48m 53s\n",
      "1:\tlearn: 0.4829217\ttest: 0.4829217\ttest1: 0.1400945\tbest: 0.1403223 (0)\ttotal: 1.15s\tremaining: 48m 6s\n",
      "2:\tlearn: 0.4832583\ttest: 0.4832583\ttest1: 0.1532601\tbest: 0.1532601 (2)\ttotal: 1.71s\tremaining: 47m 25s\n",
      "3:\tlearn: 0.4795709\ttest: 0.4795709\ttest1: 0.2712716\tbest: 0.2712716 (3)\ttotal: 2.26s\tremaining: 46m 59s\n",
      "4:\tlearn: 0.4758062\ttest: 0.4758062\ttest1: 0.3494106\tbest: 0.3494106 (4)\ttotal: 2.82s\tremaining: 46m 55s\n",
      "5:\tlearn: 0.4830192\ttest: 0.4830192\ttest1: 0.1625762\tbest: 0.3494106 (4)\ttotal: 3.32s\tremaining: 46m 6s\n",
      "6:\tlearn: 0.4820030\ttest: 0.4820030\ttest1: 0.2153294\tbest: 0.3494106 (4)\ttotal: 3.88s\tremaining: 46m 5s\n",
      "7:\tlearn: 0.4821587\ttest: 0.4821587\ttest1: 0.2284494\tbest: 0.3494106 (4)\ttotal: 4.45s\tremaining: 46m 15s\n",
      "8:\tlearn: 0.4821220\ttest: 0.4821220\ttest1: 0.1936678\tbest: 0.3494106 (4)\ttotal: 4.98s\tremaining: 46m 2s\n",
      "9:\tlearn: 0.4817740\ttest: 0.4817740\ttest1: 0.2387222\tbest: 0.3494106 (4)\ttotal: 5.54s\tremaining: 46m 4s\n",
      "10:\tlearn: 0.4836823\ttest: 0.4836823\ttest1: 0.1881670\tbest: 0.3494106 (4)\ttotal: 6.06s\tremaining: 45m 50s\n",
      "11:\tlearn: 0.4830090\ttest: 0.4830090\ttest1: 0.2100678\tbest: 0.3494106 (4)\ttotal: 6.66s\tremaining: 46m 6s\n",
      "12:\tlearn: 0.4830369\ttest: 0.4830369\ttest1: 0.2042025\tbest: 0.3494106 (4)\ttotal: 7.2s\tremaining: 46m 1s\n",
      "13:\tlearn: 0.4832280\ttest: 0.4832280\ttest1: 0.2092592\tbest: 0.3494106 (4)\ttotal: 7.76s\tremaining: 46m 3s\n",
      "14:\tlearn: 0.4841416\ttest: 0.4841416\ttest1: 0.1795000\tbest: 0.3494106 (4)\ttotal: 8.27s\tremaining: 45m 49s\n",
      "15:\tlearn: 0.4846883\ttest: 0.4846883\ttest1: 0.1826434\tbest: 0.3494106 (4)\ttotal: 8.84s\tremaining: 45m 53s\n",
      "16:\tlearn: 0.4848718\ttest: 0.4848718\ttest1: 0.1641364\tbest: 0.3494106 (4)\ttotal: 9.34s\tremaining: 45m 37s\n",
      "17:\tlearn: 0.4847984\ttest: 0.4847984\ttest1: 0.1616992\tbest: 0.3494106 (4)\ttotal: 9.88s\tremaining: 45m 34s\n",
      "18:\tlearn: 0.4847376\ttest: 0.4847376\ttest1: 0.1620637\tbest: 0.3494106 (4)\ttotal: 10.4s\tremaining: 45m 32s\n",
      "19:\tlearn: 0.4850755\ttest: 0.4850755\ttest1: 0.1631570\tbest: 0.3494106 (4)\ttotal: 11s\tremaining: 45m 30s\n",
      "20:\tlearn: 0.4852172\ttest: 0.4852172\ttest1: 0.1687945\tbest: 0.3494106 (4)\ttotal: 11.5s\tremaining: 45m 37s\n",
      "21:\tlearn: 0.4851957\ttest: 0.4851957\ttest1: 0.1716075\tbest: 0.3494106 (4)\ttotal: 12.1s\tremaining: 45m 38s\n",
      "22:\tlearn: 0.4851869\ttest: 0.4851869\ttest1: 0.1737031\tbest: 0.3494106 (4)\ttotal: 12.7s\tremaining: 45m 41s\n",
      "23:\tlearn: 0.4852792\ttest: 0.4852792\ttest1: 0.1765048\tbest: 0.3494106 (4)\ttotal: 13.3s\tremaining: 45m 49s\n",
      "24:\tlearn: 0.4853476\ttest: 0.4853476\ttest1: 0.1794317\tbest: 0.3494106 (4)\ttotal: 13.8s\tremaining: 45m 55s\n",
      "25:\tlearn: 0.4852906\ttest: 0.4852906\ttest1: 0.1832356\tbest: 0.3494106 (4)\ttotal: 14.4s\tremaining: 45m 58s\n",
      "26:\tlearn: 0.4855133\ttest: 0.4855133\ttest1: 0.1692387\tbest: 0.3494106 (4)\ttotal: 15s\tremaining: 45m 53s\n",
      "27:\tlearn: 0.4855083\ttest: 0.4855083\ttest1: 0.1702978\tbest: 0.3494106 (4)\ttotal: 15.5s\tremaining: 46m\n",
      "28:\tlearn: 0.4854577\ttest: 0.4854577\ttest1: 0.1738967\tbest: 0.3494106 (4)\ttotal: 16.1s\tremaining: 46m 3s\n",
      "29:\tlearn: 0.4854437\ttest: 0.4854437\ttest1: 0.1757303\tbest: 0.3494106 (4)\ttotal: 16.7s\tremaining: 46m 3s\n",
      "30:\tlearn: 0.4854222\ttest: 0.4854222\ttest1: 0.1772109\tbest: 0.3494106 (4)\ttotal: 17.3s\tremaining: 46m 5s\n",
      "31:\tlearn: 0.4854323\ttest: 0.4854323\ttest1: 0.1804909\tbest: 0.3494106 (4)\ttotal: 17.8s\tremaining: 46m 8s\n",
      "32:\tlearn: 0.4856956\ttest: 0.4856956\ttest1: 0.1820739\tbest: 0.3494106 (4)\ttotal: 18.4s\tremaining: 46m 5s\n",
      "33:\tlearn: 0.4856930\ttest: 0.4856930\ttest1: 0.1844542\tbest: 0.3494106 (4)\ttotal: 18.9s\tremaining: 46m 2s\n",
      "34:\tlearn: 0.4857829\ttest: 0.4857829\ttest1: 0.1879961\tbest: 0.3494106 (4)\ttotal: 19.5s\tremaining: 46m\n",
      "35:\tlearn: 0.4858892\ttest: 0.4858892\ttest1: 0.1905472\tbest: 0.3494106 (4)\ttotal: 20s\tremaining: 46m 1s\n",
      "36:\tlearn: 0.4860119\ttest: 0.4860119\ttest1: 0.1920847\tbest: 0.3494106 (4)\ttotal: 20.6s\tremaining: 45m 58s\n",
      "37:\tlearn: 0.4861536\ttest: 0.4861536\ttest1: 0.1951028\tbest: 0.3494106 (4)\ttotal: 21.1s\tremaining: 45m 54s\n",
      "38:\tlearn: 0.4865485\ttest: 0.4865485\ttest1: 0.1780081\tbest: 0.3494106 (4)\ttotal: 21.6s\tremaining: 45m 49s\n",
      "39:\tlearn: 0.4867648\ttest: 0.4867648\ttest1: 0.1695803\tbest: 0.3494106 (4)\ttotal: 22.1s\tremaining: 45m 43s\n",
      "40:\tlearn: 0.4867598\ttest: 0.4867598\ttest1: 0.1707989\tbest: 0.3494106 (4)\ttotal: 22.6s\tremaining: 45m 38s\n",
      "41:\tlearn: 0.4869129\ttest: 0.4869129\ttest1: 0.1720289\tbest: 0.3494106 (4)\ttotal: 23.2s\tremaining: 45m 41s\n",
      "42:\tlearn: 0.4869926\ttest: 0.4869926\ttest1: 0.1700131\tbest: 0.3494106 (4)\ttotal: 23.7s\tremaining: 45m 36s\n",
      "43:\tlearn: 0.4870635\ttest: 0.4870635\ttest1: 0.1711064\tbest: 0.3494106 (4)\ttotal: 24.3s\tremaining: 45m 35s\n",
      "44:\tlearn: 0.4871369\ttest: 0.4871369\ttest1: 0.1733159\tbest: 0.3494106 (4)\ttotal: 24.8s\tremaining: 45m 35s\n",
      "45:\tlearn: 0.4870306\ttest: 0.4870306\ttest1: 0.1744320\tbest: 0.3494106 (4)\ttotal: 25.4s\tremaining: 45m 36s\n",
      "46:\tlearn: 0.4872925\ttest: 0.4872925\ttest1: 0.1664142\tbest: 0.3494106 (4)\ttotal: 25.9s\tremaining: 45m 31s\n",
      "47:\tlearn: 0.4873507\ttest: 0.4873507\ttest1: 0.1669950\tbest: 0.3494106 (4)\ttotal: 26.5s\tremaining: 45m 31s\n",
      "48:\tlearn: 0.4873469\ttest: 0.4873469\ttest1: 0.1661295\tbest: 0.3494106 (4)\ttotal: 27s\tremaining: 45m 30s\n",
      "49:\tlearn: 0.4874077\ttest: 0.4874077\ttest1: 0.1667217\tbest: 0.3494106 (4)\ttotal: 27.6s\tremaining: 45m 29s\n",
      "50:\tlearn: 0.4875684\ttest: 0.4875684\ttest1: 0.1675531\tbest: 0.3494106 (4)\ttotal: 28.1s\tremaining: 45m 28s\n",
      "51:\tlearn: 0.4878493\ttest: 0.4878493\ttest1: 0.1681909\tbest: 0.3494106 (4)\ttotal: 28.7s\tremaining: 45m 29s\n",
      "52:\tlearn: 0.4879948\ttest: 0.4879948\ttest1: 0.1693184\tbest: 0.3494106 (4)\ttotal: 29.3s\tremaining: 45m 32s\n",
      "53:\tlearn: 0.4880708\ttest: 0.4880708\ttest1: 0.1703206\tbest: 0.3494106 (4)\ttotal: 29.8s\tremaining: 45m 33s\n",
      "54:\tlearn: 0.4880151\ttest: 0.4880151\ttest1: 0.1707078\tbest: 0.3494106 (4)\ttotal: 30.4s\tremaining: 45m 34s\n",
      "Stopped by overfitting detector  (50 iterations wait)\n",
      "\n",
      "bestTest = 0.3494106258\n",
      "bestIteration = 4\n",
      "\n",
      "Shrink model to first 5 iterations.\n",
      "================================Fold2====================================\n",
      "0:\tlearn: 0.4669861\ttest: 0.4669861\ttest1: 0.4581174\tbest: 0.4581174 (0)\ttotal: 624ms\tremaining: 51m 57s\n",
      "1:\tlearn: 0.4700624\ttest: 0.4700624\ttest1: 0.4635385\tbest: 0.4635385 (1)\ttotal: 1.17s\tremaining: 48m 45s\n",
      "2:\tlearn: 0.4711482\ttest: 0.4711482\ttest1: 0.4385969\tbest: 0.4635385 (1)\ttotal: 1.72s\tremaining: 47m 38s\n",
      "3:\tlearn: 0.4702484\ttest: 0.4702484\ttest1: 0.4246227\tbest: 0.4635385 (1)\ttotal: 2.27s\tremaining: 47m 10s\n",
      "4:\tlearn: 0.4709621\ttest: 0.4709621\ttest1: 0.4115825\tbest: 0.4635385 (1)\ttotal: 2.82s\tremaining: 46m 58s\n",
      "5:\tlearn: 0.4712722\ttest: 0.4712722\ttest1: 0.4152041\tbest: 0.4635385 (1)\ttotal: 3.38s\tremaining: 46m 58s\n",
      "6:\tlearn: 0.4718403\ttest: 0.4718403\ttest1: 0.4189853\tbest: 0.4635385 (1)\ttotal: 3.93s\tremaining: 46m 46s\n",
      "7:\tlearn: 0.4718606\ttest: 0.4718606\ttest1: 0.4183019\tbest: 0.4635385 (1)\ttotal: 4.51s\tremaining: 46m 53s\n",
      "8:\tlearn: 0.4722529\ttest: 0.4722529\ttest1: 0.4221627\tbest: 0.4635385 (1)\ttotal: 5.08s\tremaining: 46m 57s\n",
      "9:\tlearn: 0.4719568\ttest: 0.4719568\ttest1: 0.4289505\tbest: 0.4635385 (1)\ttotal: 5.65s\tremaining: 46m 57s\n",
      "10:\tlearn: 0.4747306\ttest: 0.4747306\ttest1: 0.3782131\tbest: 0.4635385 (1)\ttotal: 6.2s\tremaining: 46m 50s\n",
      "11:\tlearn: 0.4739321\ttest: 0.4739321\ttest1: 0.4014806\tbest: 0.4635385 (1)\ttotal: 6.76s\tremaining: 46m 50s\n",
      "12:\tlearn: 0.4738132\ttest: 0.4738132\ttest1: 0.4061158\tbest: 0.4635385 (1)\ttotal: 7.32s\tremaining: 46m 48s\n",
      "13:\tlearn: 0.4737866\ttest: 0.4737866\ttest1: 0.4076647\tbest: 0.4635385 (1)\ttotal: 7.89s\tremaining: 46m 51s\n",
      "14:\tlearn: 0.4736082\ttest: 0.4736082\ttest1: 0.4084505\tbest: 0.4635385 (1)\ttotal: 8.48s\tremaining: 46m 58s\n",
      "15:\tlearn: 0.4736714\ttest: 0.4736714\ttest1: 0.4090997\tbest: 0.4635385 (1)\ttotal: 9.05s\tremaining: 46m 59s\n",
      "16:\tlearn: 0.4770337\ttest: 0.4770337\ttest1: 0.3510051\tbest: 0.4635385 (1)\ttotal: 9.59s\tremaining: 46m 50s\n",
      "17:\tlearn: 0.4766224\ttest: 0.4766224\ttest1: 0.3607881\tbest: 0.4635385 (1)\ttotal: 10.2s\tremaining: 46m 52s\n",
      "18:\tlearn: 0.4784978\ttest: 0.4784978\ttest1: 0.3228290\tbest: 0.4635385 (1)\ttotal: 10.7s\tremaining: 46m 50s\n",
      "19:\tlearn: 0.4787116\ttest: 0.4787116\ttest1: 0.3266784\tbest: 0.4635385 (1)\ttotal: 11.3s\tremaining: 46m 43s\n",
      "20:\tlearn: 0.4785142\ttest: 0.4785142\ttest1: 0.3336940\tbest: 0.4635385 (1)\ttotal: 11.8s\tremaining: 46m 44s\n",
      "21:\tlearn: 0.4782991\ttest: 0.4782991\ttest1: 0.3328512\tbest: 0.4635385 (1)\ttotal: 12.4s\tremaining: 46m 37s\n",
      "22:\tlearn: 0.4782978\ttest: 0.4782978\ttest1: 0.3329309\tbest: 0.4635385 (1)\ttotal: 12.9s\tremaining: 46m 38s\n",
      "23:\tlearn: 0.4795848\ttest: 0.4795848\ttest1: 0.3046865\tbest: 0.4635385 (1)\ttotal: 13.5s\tremaining: 46m 32s\n",
      "24:\tlearn: 0.4795481\ttest: 0.4795481\ttest1: 0.3090826\tbest: 0.4635385 (1)\ttotal: 14s\tremaining: 46m 34s\n",
      "25:\tlearn: 0.4796417\ttest: 0.4796417\ttest1: 0.3104265\tbest: 0.4635385 (1)\ttotal: 14.6s\tremaining: 46m 36s\n",
      "26:\tlearn: 0.4794684\ttest: 0.4794684\ttest1: 0.3162576\tbest: 0.4635385 (1)\ttotal: 15.2s\tremaining: 46m 43s\n",
      "27:\tlearn: 0.4793659\ttest: 0.4793659\ttest1: 0.3192984\tbest: 0.4635385 (1)\ttotal: 15.8s\tremaining: 46m 51s\n",
      "28:\tlearn: 0.4795987\ttest: 0.4795987\ttest1: 0.3237857\tbest: 0.4635385 (1)\ttotal: 16.4s\tremaining: 46m 47s\n",
      "29:\tlearn: 0.4799606\ttest: 0.4799606\ttest1: 0.3265532\tbest: 0.4635385 (1)\ttotal: 16.9s\tremaining: 46m 42s\n",
      "30:\tlearn: 0.4799644\ttest: 0.4799644\ttest1: 0.3301520\tbest: 0.4635385 (1)\ttotal: 17.5s\tremaining: 46m 38s\n",
      "31:\tlearn: 0.4798328\ttest: 0.4798328\ttest1: 0.3328626\tbest: 0.4635385 (1)\ttotal: 18.1s\tremaining: 46m 43s\n",
      "32:\tlearn: 0.4802036\ttest: 0.4802036\ttest1: 0.3306076\tbest: 0.4635385 (1)\ttotal: 18.6s\tremaining: 46m 36s\n",
      "33:\tlearn: 0.4801846\ttest: 0.4801846\ttest1: 0.3326918\tbest: 0.4635385 (1)\ttotal: 19.1s\tremaining: 46m 32s\n",
      "34:\tlearn: 0.4801808\ttest: 0.4801808\ttest1: 0.3346393\tbest: 0.4635385 (1)\ttotal: 19.7s\tremaining: 46m 31s\n",
      "35:\tlearn: 0.4802884\ttest: 0.4802884\ttest1: 0.3368715\tbest: 0.4635385 (1)\ttotal: 20.2s\tremaining: 46m 30s\n",
      "36:\tlearn: 0.4803124\ttest: 0.4803124\ttest1: 0.3373043\tbest: 0.4635385 (1)\ttotal: 20.8s\tremaining: 46m 31s\n",
      "37:\tlearn: 0.4803694\ttest: 0.4803694\ttest1: 0.3379876\tbest: 0.4635385 (1)\ttotal: 21.4s\tremaining: 46m 31s\n",
      "38:\tlearn: 0.4803314\ttest: 0.4803314\ttest1: 0.3400717\tbest: 0.4635385 (1)\ttotal: 21.9s\tremaining: 46m 31s\n",
      "39:\tlearn: 0.4820625\ttest: 0.4820625\ttest1: 0.3048574\tbest: 0.4635385 (1)\ttotal: 22.5s\tremaining: 46m 28s\n",
      "40:\tlearn: 0.4832659\ttest: 0.4832659\ttest1: 0.2870338\tbest: 0.4635385 (1)\ttotal: 23s\tremaining: 46m 25s\n",
      "41:\tlearn: 0.4833760\ttest: 0.4833760\ttest1: 0.2889813\tbest: 0.4635385 (1)\ttotal: 23.6s\tremaining: 46m 24s\n",
      "42:\tlearn: 0.4835620\ttest: 0.4835620\ttest1: 0.2886054\tbest: 0.4635385 (1)\ttotal: 24.1s\tremaining: 46m 18s\n",
      "43:\tlearn: 0.4835393\ttest: 0.4835393\ttest1: 0.2906440\tbest: 0.4635385 (1)\ttotal: 24.7s\tremaining: 46m 16s\n",
      "44:\tlearn: 0.4836582\ttest: 0.4836582\ttest1: 0.2911224\tbest: 0.4635385 (1)\ttotal: 25.2s\tremaining: 46m 16s\n",
      "45:\tlearn: 0.4836240\ttest: 0.4836240\ttest1: 0.2932407\tbest: 0.4635385 (1)\ttotal: 25.8s\tremaining: 46m 16s\n",
      "46:\tlearn: 0.4834836\ttest: 0.4834836\ttest1: 0.2944138\tbest: 0.4635385 (1)\ttotal: 26.4s\tremaining: 46m 17s\n",
      "47:\tlearn: 0.4850730\ttest: 0.4850730\ttest1: 0.2601674\tbest: 0.4635385 (1)\ttotal: 26.9s\tremaining: 46m 16s\n",
      "48:\tlearn: 0.4851337\ttest: 0.4851337\ttest1: 0.2626730\tbest: 0.4635385 (1)\ttotal: 27.5s\tremaining: 46m 14s\n",
      "49:\tlearn: 0.4861612\ttest: 0.4861612\ttest1: 0.2327772\tbest: 0.4635385 (1)\ttotal: 28s\tremaining: 46m 11s\n",
      "50:\tlearn: 0.4862308\ttest: 0.4862308\ttest1: 0.2333011\tbest: 0.4635385 (1)\ttotal: 28.5s\tremaining: 46m 7s\n",
      "51:\tlearn: 0.4863624\ttest: 0.4863624\ttest1: 0.2348158\tbest: 0.4635385 (1)\ttotal: 29.1s\tremaining: 46m 8s\n",
      "Stopped by overfitting detector  (50 iterations wait)\n",
      "\n",
      "bestTest = 0.4635385229\n",
      "bestIteration = 1\n",
      "\n",
      "Shrink model to first 2 iterations.\n",
      "================================Fold3====================================\n",
      "0:\tlearn: 0.4676151\ttest: 0.4676151\ttest1: 0.4575935\tbest: 0.4575935 (0)\ttotal: 588ms\tremaining: 49m\n",
      "1:\tlearn: 0.4714481\ttest: 0.4714481\ttest1: 0.4235636\tbest: 0.4575935 (0)\ttotal: 1.14s\tremaining: 47m 19s\n",
      "2:\tlearn: 0.4695676\ttest: 0.4695676\ttest1: 0.4509424\tbest: 0.4575935 (0)\ttotal: 1.67s\tremaining: 46m 29s\n",
      "3:\tlearn: 0.4748116\ttest: 0.4748116\ttest1: 0.3757075\tbest: 0.4575935 (0)\ttotal: 2.23s\tremaining: 46m 19s\n",
      "4:\tlearn: 0.4787939\ttest: 0.4787939\ttest1: 0.2426855\tbest: 0.4575935 (0)\ttotal: 2.8s\tremaining: 46m 38s\n",
      "5:\tlearn: 0.4811666\ttest: 0.4811666\ttest1: 0.1239793\tbest: 0.4575935 (0)\ttotal: 3.33s\tremaining: 46m 16s\n",
      "6:\tlearn: 0.4812159\ttest: 0.4812159\ttest1: 0.1226809\tbest: 0.4575935 (0)\ttotal: 3.9s\tremaining: 46m 23s\n",
      "7:\tlearn: 0.4811906\ttest: 0.4811906\ttest1: 0.1226809\tbest: 0.4575935 (0)\ttotal: 4.44s\tremaining: 46m 10s\n",
      "8:\tlearn: 0.4815386\ttest: 0.4815386\ttest1: 0.1370879\tbest: 0.4575935 (0)\ttotal: 5.03s\tremaining: 46m 27s\n",
      "9:\tlearn: 0.4817170\ttest: 0.4817170\ttest1: 0.1795684\tbest: 0.4575935 (0)\ttotal: 5.58s\tremaining: 46m 23s\n",
      "10:\tlearn: 0.4816829\ttest: 0.4816829\ttest1: 0.1307443\tbest: 0.4575935 (0)\ttotal: 6.14s\tremaining: 46m 26s\n",
      "11:\tlearn: 0.4821587\ttest: 0.4821587\ttest1: 0.1559023\tbest: 0.4575935 (0)\ttotal: 6.71s\tremaining: 46m 31s\n",
      "12:\tlearn: 0.4815146\ttest: 0.4815146\ttest1: 0.1983144\tbest: 0.4575935 (0)\ttotal: 7.27s\tremaining: 46m 29s\n",
      "13:\tlearn: 0.4821296\ttest: 0.4821296\ttest1: 0.1533740\tbest: 0.4575935 (0)\ttotal: 7.85s\tremaining: 46m 37s\n",
      "14:\tlearn: 0.4822751\ttest: 0.4822751\ttest1: 0.1282159\tbest: 0.4575935 (0)\ttotal: 8.41s\tremaining: 46m 36s\n",
      "15:\tlearn: 0.4831773\ttest: 0.4831773\ttest1: 0.1391037\tbest: 0.4575935 (0)\ttotal: 8.97s\tremaining: 46m 34s\n",
      "16:\tlearn: 0.4837468\ttest: 0.4837468\ttest1: 0.1429417\tbest: 0.4575935 (0)\ttotal: 9.53s\tremaining: 46m 33s\n",
      "17:\tlearn: 0.4833494\ttest: 0.4833494\ttest1: 0.1616878\tbest: 0.4575935 (0)\ttotal: 10.1s\tremaining: 46m 37s\n",
      "18:\tlearn: 0.4832090\ttest: 0.4832090\ttest1: 0.1660270\tbest: 0.4575935 (0)\ttotal: 10.7s\tremaining: 46m 42s\n",
      "19:\tlearn: 0.4830951\ttest: 0.4830951\ttest1: 0.1803200\tbest: 0.4575935 (0)\ttotal: 11.3s\tremaining: 46m 43s\n",
      "20:\tlearn: 0.4829610\ttest: 0.4829610\ttest1: 0.2010592\tbest: 0.4575935 (0)\ttotal: 11.8s\tremaining: 46m 45s\n",
      "21:\tlearn: 0.4835228\ttest: 0.4835228\ttest1: 0.1643642\tbest: 0.4575935 (0)\ttotal: 12.4s\tremaining: 46m 42s\n",
      "22:\tlearn: 0.4831495\ttest: 0.4831495\ttest1: 0.1755253\tbest: 0.4575935 (0)\ttotal: 13s\tremaining: 46m 49s\n",
      "23:\tlearn: 0.4832039\ttest: 0.4832039\ttest1: 0.1891350\tbest: 0.4575935 (0)\ttotal: 13.5s\tremaining: 46m 45s\n",
      "24:\tlearn: 0.4831153\ttest: 0.4831153\ttest1: 0.2015603\tbest: 0.4575935 (0)\ttotal: 14.1s\tremaining: 46m 48s\n",
      "25:\tlearn: 0.4830799\ttest: 0.4830799\ttest1: 0.2068333\tbest: 0.4575935 (0)\ttotal: 14.7s\tremaining: 46m 52s\n",
      "26:\tlearn: 0.4835810\ttest: 0.4835810\ttest1: 0.1723250\tbest: 0.4575935 (0)\ttotal: 15.3s\tremaining: 46m 52s\n",
      "27:\tlearn: 0.4834089\ttest: 0.4834089\ttest1: 0.1758100\tbest: 0.4575935 (0)\ttotal: 15.9s\tremaining: 46m 57s\n",
      "28:\tlearn: 0.4834722\ttest: 0.4834722\ttest1: 0.1845795\tbest: 0.4575935 (0)\ttotal: 16.4s\tremaining: 46m 59s\n",
      "29:\tlearn: 0.4834406\ttest: 0.4834406\ttest1: 0.1951597\tbest: 0.4575935 (0)\ttotal: 17.1s\tremaining: 47m 8s\n",
      "30:\tlearn: 0.4833090\ttest: 0.4833090\ttest1: 0.2040430\tbest: 0.4575935 (0)\ttotal: 17.6s\tremaining: 47m 4s\n",
      "31:\tlearn: 0.4833950\ttest: 0.4833950\ttest1: 0.2057855\tbest: 0.4575935 (0)\ttotal: 18.2s\tremaining: 47m 2s\n",
      "32:\tlearn: 0.4837582\ttest: 0.4837582\ttest1: 0.1812881\tbest: 0.4575935 (0)\ttotal: 18.7s\tremaining: 46m 55s\n",
      "33:\tlearn: 0.4837569\ttest: 0.4837569\ttest1: 0.1893514\tbest: 0.4575935 (0)\ttotal: 19.2s\tremaining: 46m 51s\n",
      "34:\tlearn: 0.4836936\ttest: 0.4836936\ttest1: 0.1982575\tbest: 0.4575935 (0)\ttotal: 19.8s\tremaining: 46m 48s\n",
      "35:\tlearn: 0.4838341\ttest: 0.4838341\ttest1: 0.2000569\tbest: 0.4575935 (0)\ttotal: 20.4s\tremaining: 46m 49s\n",
      "36:\tlearn: 0.4843403\ttest: 0.4843403\ttest1: 0.1765161\tbest: 0.4575935 (0)\ttotal: 20.9s\tremaining: 46m 45s\n",
      "37:\tlearn: 0.4845820\ttest: 0.4845820\ttest1: 0.1557656\tbest: 0.4575935 (0)\ttotal: 21.5s\tremaining: 46m 43s\n",
      "38:\tlearn: 0.4845807\ttest: 0.4845807\ttest1: 0.1582939\tbest: 0.4575935 (0)\ttotal: 22s\tremaining: 46m 43s\n",
      "39:\tlearn: 0.4844529\ttest: 0.4844529\ttest1: 0.1619612\tbest: 0.4575935 (0)\ttotal: 22.6s\tremaining: 46m 41s\n",
      "40:\tlearn: 0.4844694\ttest: 0.4844694\ttest1: 0.1655942\tbest: 0.4575935 (0)\ttotal: 23.2s\tremaining: 46m 41s\n",
      "41:\tlearn: 0.4848654\ttest: 0.4848654\ttest1: 0.1467456\tbest: 0.4575935 (0)\ttotal: 23.7s\tremaining: 46m 37s\n",
      "42:\tlearn: 0.4849616\ttest: 0.4849616\ttest1: 0.1491942\tbest: 0.4575935 (0)\ttotal: 24.2s\tremaining: 46m 31s\n",
      "43:\tlearn: 0.4849565\ttest: 0.4849565\ttest1: 0.1522237\tbest: 0.4575935 (0)\ttotal: 24.7s\tremaining: 46m 27s\n",
      "44:\tlearn: 0.4849907\ttest: 0.4849907\ttest1: 0.1591026\tbest: 0.4575935 (0)\ttotal: 25.3s\tremaining: 46m 26s\n",
      "45:\tlearn: 0.4852805\ttest: 0.4852805\ttest1: 0.1406412\tbest: 0.4575935 (0)\ttotal: 25.9s\tremaining: 46m 24s\n",
      "46:\tlearn: 0.4857221\ttest: 0.4857221\ttest1: 0.1307670\tbest: 0.4575935 (0)\ttotal: 26.4s\tremaining: 46m 22s\n",
      "47:\tlearn: 0.4859841\ttest: 0.4859841\ttest1: 0.1250954\tbest: 0.4575935 (0)\ttotal: 27s\tremaining: 46m 23s\n",
      "48:\tlearn: 0.4860486\ttest: 0.4860486\ttest1: 0.1266443\tbest: 0.4575935 (0)\ttotal: 27.5s\tremaining: 46m 23s\n",
      "49:\tlearn: 0.4860992\ttest: 0.4860992\ttest1: 0.1269290\tbest: 0.4575935 (0)\ttotal: 28.1s\tremaining: 46m 22s\n",
      "50:\tlearn: 0.4861448\ttest: 0.4861448\ttest1: 0.1272479\tbest: 0.4575935 (0)\ttotal: 28.6s\tremaining: 46m 18s\n",
      "Stopped by overfitting detector  (50 iterations wait)\n",
      "\n",
      "bestTest = 0.4575935311\n",
      "bestIteration = 0\n",
      "\n",
      "Shrink model to first 1 iterations.\n",
      "================================Fold4====================================\n",
      "0:\tlearn: 0.4644236\ttest: 0.4644236\ttest1: 0.4644269\tbest: 0.4644269 (0)\ttotal: 571ms\tremaining: 47m 35s\n",
      "1:\tlearn: 0.4704522\ttest: 0.4704522\ttest1: 0.4121975\tbest: 0.4644269 (0)\ttotal: 1.13s\tremaining: 46m 59s\n",
      "2:\tlearn: 0.4789888\ttest: 0.4789888\ttest1: 0.1747053\tbest: 0.4644269 (0)\ttotal: 1.68s\tremaining: 46m 39s\n",
      "3:\tlearn: 0.4787319\ttest: 0.4787319\ttest1: 0.1201982\tbest: 0.4644269 (0)\ttotal: 2.25s\tremaining: 46m 56s\n",
      "4:\tlearn: 0.4796278\ttest: 0.4796278\ttest1: 0.1352315\tbest: 0.4644269 (0)\ttotal: 2.81s\tremaining: 46m 44s\n",
      "5:\tlearn: 0.4795949\ttest: 0.4795949\ttest1: 0.1191618\tbest: 0.4644269 (0)\ttotal: 3.37s\tremaining: 46m 43s\n",
      "6:\tlearn: 0.4799366\ttest: 0.4799366\ttest1: 0.1279882\tbest: 0.4644269 (0)\ttotal: 3.91s\tremaining: 46m 28s\n",
      "7:\tlearn: 0.4796822\ttest: 0.4796822\ttest1: 0.1192529\tbest: 0.4644269 (0)\ttotal: 4.49s\tremaining: 46m 40s\n",
      "8:\tlearn: 0.4800403\ttest: 0.4800403\ttest1: 0.1191618\tbest: 0.4644269 (0)\ttotal: 5.04s\tremaining: 46m 37s\n",
      "9:\tlearn: 0.4800226\ttest: 0.4800226\ttest1: 0.1283982\tbest: 0.4644269 (0)\ttotal: 5.61s\tremaining: 46m 39s\n",
      "10:\tlearn: 0.4800214\ttest: 0.4800214\ttest1: 0.1191618\tbest: 0.4644269 (0)\ttotal: 6.19s\tremaining: 46m 45s\n",
      "11:\tlearn: 0.4800277\ttest: 0.4800277\ttest1: 0.1192529\tbest: 0.4644269 (0)\ttotal: 6.74s\tremaining: 46m 43s\n",
      "12:\tlearn: 0.4799923\ttest: 0.4799923\ttest1: 0.1303001\tbest: 0.4644269 (0)\ttotal: 7.29s\tremaining: 46m 38s\n",
      "13:\tlearn: 0.4802618\ttest: 0.4802618\ttest1: 0.1192529\tbest: 0.4644269 (0)\ttotal: 7.87s\tremaining: 46m 43s\n",
      "14:\tlearn: 0.4801808\ttest: 0.4801808\ttest1: 0.1174307\tbest: 0.4644269 (0)\ttotal: 8.49s\tremaining: 47m\n",
      "15:\tlearn: 0.4806440\ttest: 0.4806440\ttest1: 0.1165196\tbest: 0.4644269 (0)\ttotal: 9.05s\tremaining: 47m\n",
      "16:\tlearn: 0.4808958\ttest: 0.4808958\ttest1: 0.1156768\tbest: 0.4644269 (0)\ttotal: 9.62s\tremaining: 46m 59s\n",
      "17:\tlearn: 0.4810071\ttest: 0.4810071\ttest1: 0.1156654\tbest: 0.4644269 (0)\ttotal: 10.2s\tremaining: 47m 1s\n",
      "18:\tlearn: 0.4810818\ttest: 0.4810818\ttest1: 0.1134560\tbest: 0.4644269 (0)\ttotal: 10.8s\tremaining: 47m 7s\n",
      "19:\tlearn: 0.4810059\ttest: 0.4810059\ttest1: 0.1140482\tbest: 0.4644269 (0)\ttotal: 11.3s\tremaining: 47m 5s\n",
      "20:\tlearn: 0.4812273\ttest: 0.4812273\ttest1: 0.1140596\tbest: 0.4644269 (0)\ttotal: 11.9s\tremaining: 47m 7s\n",
      "21:\tlearn: 0.4812248\ttest: 0.4812248\ttest1: 0.1138773\tbest: 0.4644269 (0)\ttotal: 12.5s\tremaining: 47m\n",
      "22:\tlearn: 0.4814336\ttest: 0.4814336\ttest1: 0.1139912\tbest: 0.4644269 (0)\ttotal: 13.1s\tremaining: 47m 6s\n",
      "23:\tlearn: 0.4814589\ttest: 0.4814589\ttest1: 0.1140937\tbest: 0.4644269 (0)\ttotal: 13.6s\tremaining: 47m 4s\n",
      "24:\tlearn: 0.4816791\ttest: 0.4816791\ttest1: 0.1144696\tbest: 0.4644269 (0)\ttotal: 14.2s\tremaining: 47m 6s\n",
      "25:\tlearn: 0.4817828\ttest: 0.4817828\ttest1: 0.1156198\tbest: 0.4644269 (0)\ttotal: 14.8s\tremaining: 47m 10s\n",
      "26:\tlearn: 0.4818195\ttest: 0.4818195\ttest1: 0.1114401\tbest: 0.4644269 (0)\ttotal: 15.4s\tremaining: 47m 15s\n",
      "27:\tlearn: 0.4822915\ttest: 0.4822915\ttest1: 0.1118046\tbest: 0.4644269 (0)\ttotal: 16s\tremaining: 47m 16s\n",
      "28:\tlearn: 0.4827636\ttest: 0.4827636\ttest1: 0.1118273\tbest: 0.4644269 (0)\ttotal: 16.5s\tremaining: 47m 15s\n",
      "29:\tlearn: 0.4831723\ttest: 0.4831723\ttest1: 0.1139343\tbest: 0.4644269 (0)\ttotal: 17.1s\tremaining: 47m 15s\n",
      "30:\tlearn: 0.4831508\ttest: 0.4831508\ttest1: 0.1147201\tbest: 0.4644269 (0)\ttotal: 17.7s\tremaining: 47m 13s\n",
      "31:\tlearn: 0.4832697\ttest: 0.4832697\ttest1: 0.1164057\tbest: 0.4644269 (0)\ttotal: 18.2s\tremaining: 47m 12s\n",
      "32:\tlearn: 0.4831457\ttest: 0.4831457\ttest1: 0.1120779\tbest: 0.4644269 (0)\ttotal: 18.8s\tremaining: 47m 7s\n",
      "33:\tlearn: 0.4833545\ttest: 0.4833545\ttest1: 0.1121690\tbest: 0.4644269 (0)\ttotal: 19.4s\tremaining: 47m 10s\n",
      "34:\tlearn: 0.4835544\ttest: 0.4835544\ttest1: 0.1136837\tbest: 0.4644269 (0)\ttotal: 19.9s\tremaining: 47m 6s\n",
      "35:\tlearn: 0.4835431\ttest: 0.4835431\ttest1: 0.1114857\tbest: 0.4644269 (0)\ttotal: 20.5s\tremaining: 47m 7s\n",
      "36:\tlearn: 0.4836886\ttest: 0.4836886\ttest1: 0.1119754\tbest: 0.4644269 (0)\ttotal: 21.1s\tremaining: 47m 9s\n",
      "37:\tlearn: 0.4838189\ttest: 0.4838189\ttest1: 0.1112579\tbest: 0.4644269 (0)\ttotal: 21.7s\tremaining: 47m 11s\n",
      "38:\tlearn: 0.4838151\ttest: 0.4838151\ttest1: 0.1113832\tbest: 0.4644269 (0)\ttotal: 22.3s\tremaining: 47m 10s\n",
      "39:\tlearn: 0.4839632\ttest: 0.4839632\ttest1: 0.1114401\tbest: 0.4644269 (0)\ttotal: 22.8s\tremaining: 47m 8s\n",
      "40:\tlearn: 0.4841669\ttest: 0.4841669\ttest1: 0.1114287\tbest: 0.4644269 (0)\ttotal: 23.4s\tremaining: 47m 7s\n",
      "41:\tlearn: 0.4844643\ttest: 0.4844643\ttest1: 0.1114743\tbest: 0.4644269 (0)\ttotal: 23.9s\tremaining: 47m 4s\n",
      "42:\tlearn: 0.4847996\ttest: 0.4847996\ttest1: 0.1114743\tbest: 0.4644269 (0)\ttotal: 24.4s\tremaining: 46m 58s\n",
      "43:\tlearn: 0.4850780\ttest: 0.4850780\ttest1: 0.1114857\tbest: 0.4644269 (0)\ttotal: 25s\tremaining: 46m 56s\n",
      "44:\tlearn: 0.4852995\ttest: 0.4852995\ttest1: 0.1114743\tbest: 0.4644269 (0)\ttotal: 25.5s\tremaining: 46m 51s\n",
      "45:\tlearn: 0.4853476\ttest: 0.4853476\ttest1: 0.1112351\tbest: 0.4644269 (0)\ttotal: 26.1s\tremaining: 46m 50s\n",
      "46:\tlearn: 0.4853324\ttest: 0.4853324\ttest1: 0.1112465\tbest: 0.4644269 (0)\ttotal: 26.7s\tremaining: 46m 49s\n",
      "47:\tlearn: 0.4856373\ttest: 0.4856373\ttest1: 0.1072490\tbest: 0.4644269 (0)\ttotal: 27.2s\tremaining: 46m 50s\n",
      "48:\tlearn: 0.4860195\ttest: 0.4860195\ttest1: 0.1072490\tbest: 0.4644269 (0)\ttotal: 27.8s\tremaining: 46m 49s\n",
      "49:\tlearn: 0.4861764\ttest: 0.4861764\ttest1: 0.1040601\tbest: 0.4644269 (0)\ttotal: 28.4s\tremaining: 46m 49s\n",
      "50:\tlearn: 0.4865269\ttest: 0.4865269\ttest1: 0.1041740\tbest: 0.4644269 (0)\ttotal: 28.9s\tremaining: 46m 48s\n",
      "Stopped by overfitting detector  (50 iterations wait)\n",
      "\n",
      "bestTest = 0.464426855\n",
      "bestIteration = 0\n",
      "\n",
      "Shrink model to first 1 iterations.\n",
      "================================Fold5====================================\n",
      "0:\tlearn: 0.4677176\ttest: 0.4677176\ttest1: 0.4644269\tbest: 0.4644269 (0)\ttotal: 573ms\tremaining: 47m 43s\n",
      "1:\tlearn: 0.4686211\ttest: 0.4686211\ttest1: 0.4644269\tbest: 0.4644269 (0)\ttotal: 1.13s\tremaining: 47m 8s\n",
      "2:\tlearn: 0.4689969\ttest: 0.4689969\ttest1: 0.4644269\tbest: 0.4644269 (0)\ttotal: 1.68s\tremaining: 46m 41s\n",
      "3:\tlearn: 0.4694487\ttest: 0.4694487\ttest1: 0.4639713\tbest: 0.4644269 (0)\ttotal: 2.26s\tremaining: 47m 7s\n",
      "4:\tlearn: 0.4690172\ttest: 0.4690172\ttest1: 0.4644269\tbest: 0.4644269 (0)\ttotal: 2.83s\tremaining: 47m 7s\n",
      "5:\tlearn: 0.4684945\ttest: 0.4684945\ttest1: 0.4573771\tbest: 0.4644269 (0)\ttotal: 3.4s\tremaining: 47m 12s\n",
      "6:\tlearn: 0.4686869\ttest: 0.4686869\ttest1: 0.4563294\tbest: 0.4644269 (0)\ttotal: 3.96s\tremaining: 47m 2s\n",
      "7:\tlearn: 0.4685097\ttest: 0.4685097\ttest1: 0.4577871\tbest: 0.4644269 (0)\ttotal: 4.52s\tremaining: 47m 1s\n",
      "8:\tlearn: 0.4690374\ttest: 0.4690374\ttest1: 0.4573202\tbest: 0.4644269 (0)\ttotal: 5.07s\tremaining: 46m 53s\n",
      "9:\tlearn: 0.4695980\ttest: 0.4695980\ttest1: 0.4564774\tbest: 0.4644269 (0)\ttotal: 5.65s\tremaining: 47m 1s\n",
      "10:\tlearn: 0.4696866\ttest: 0.4696866\ttest1: 0.4572177\tbest: 0.4644269 (0)\ttotal: 6.22s\tremaining: 47m 1s\n",
      "11:\tlearn: 0.4704623\ttest: 0.4704623\ttest1: 0.4558055\tbest: 0.4644269 (0)\ttotal: 6.79s\tremaining: 47m 3s\n",
      "12:\tlearn: 0.4710912\ttest: 0.4710912\ttest1: 0.4562610\tbest: 0.4644269 (0)\ttotal: 7.35s\tremaining: 46m 58s\n",
      "13:\tlearn: 0.4707622\ttest: 0.4707622\ttest1: 0.4570696\tbest: 0.4644269 (0)\ttotal: 7.92s\tremaining: 46m 59s\n",
      "14:\tlearn: 0.4699764\ttest: 0.4699764\ttest1: 0.4555663\tbest: 0.4644269 (0)\ttotal: 8.51s\tremaining: 47m 7s\n",
      "15:\tlearn: 0.4710887\ttest: 0.4710887\ttest1: 0.4554752\tbest: 0.4644269 (0)\ttotal: 9.06s\tremaining: 47m 3s\n",
      "16:\tlearn: 0.4714822\ttest: 0.4714822\ttest1: 0.4556233\tbest: 0.4644269 (0)\ttotal: 9.66s\tremaining: 47m 11s\n",
      "17:\tlearn: 0.4714329\ttest: 0.4714329\ttest1: 0.4556233\tbest: 0.4644269 (0)\ttotal: 10.2s\tremaining: 47m 13s\n",
      "18:\tlearn: 0.4712443\ttest: 0.4712443\ttest1: 0.4554866\tbest: 0.4644269 (0)\ttotal: 10.8s\tremaining: 47m 16s\n",
      "19:\tlearn: 0.4714291\ttest: 0.4714291\ttest1: 0.4556346\tbest: 0.4644269 (0)\ttotal: 11.4s\tremaining: 47m 17s\n",
      "20:\tlearn: 0.4717720\ttest: 0.4717720\ttest1: 0.4550652\tbest: 0.4644269 (0)\ttotal: 12s\tremaining: 47m 16s\n",
      "21:\tlearn: 0.4715847\ttest: 0.4715847\ttest1: 0.4545413\tbest: 0.4644269 (0)\ttotal: 12.5s\tremaining: 47m 12s\n",
      "22:\tlearn: 0.4718328\ttest: 0.4718328\ttest1: 0.4537099\tbest: 0.4644269 (0)\ttotal: 13.1s\tremaining: 47m 19s\n",
      "23:\tlearn: 0.4719618\ttest: 0.4719618\ttest1: 0.4522066\tbest: 0.4644269 (0)\ttotal: 13.7s\tremaining: 47m 16s\n",
      "24:\tlearn: 0.4720707\ttest: 0.4720707\ttest1: 0.4520016\tbest: 0.4644269 (0)\ttotal: 14.3s\tremaining: 47m 19s\n",
      "25:\tlearn: 0.4722693\ttest: 0.4722693\ttest1: 0.4519902\tbest: 0.4644269 (0)\ttotal: 14.8s\tremaining: 47m 20s\n",
      "26:\tlearn: 0.4724224\ttest: 0.4724224\ttest1: 0.4492797\tbest: 0.4644269 (0)\ttotal: 15.4s\tremaining: 47m 20s\n",
      "27:\tlearn: 0.4724035\ttest: 0.4724035\ttest1: 0.4499744\tbest: 0.4644269 (0)\ttotal: 15.9s\tremaining: 47m 9s\n",
      "28:\tlearn: 0.4724338\ttest: 0.4724338\ttest1: 0.4499858\tbest: 0.4644269 (0)\ttotal: 16.5s\tremaining: 47m 8s\n",
      "29:\tlearn: 0.4726970\ttest: 0.4726970\ttest1: 0.4481294\tbest: 0.4644269 (0)\ttotal: 17s\tremaining: 47m 4s\n",
      "30:\tlearn: 0.4727122\ttest: 0.4727122\ttest1: 0.4485394\tbest: 0.4644269 (0)\ttotal: 17.6s\tremaining: 47m\n",
      "31:\tlearn: 0.4726869\ttest: 0.4726869\ttest1: 0.4488241\tbest: 0.4644269 (0)\ttotal: 18.2s\tremaining: 46m 59s\n",
      "32:\tlearn: 0.4729020\ttest: 0.4729020\ttest1: 0.4490291\tbest: 0.4644269 (0)\ttotal: 18.7s\tremaining: 47m\n",
      "33:\tlearn: 0.4731248\ttest: 0.4731248\ttest1: 0.4492113\tbest: 0.4644269 (0)\ttotal: 19.3s\tremaining: 46m 56s\n",
      "34:\tlearn: 0.4731792\ttest: 0.4731792\ttest1: 0.4490291\tbest: 0.4644269 (0)\ttotal: 19.8s\tremaining: 46m 53s\n",
      "35:\tlearn: 0.4732399\ttest: 0.4732399\ttest1: 0.4479813\tbest: 0.4644269 (0)\ttotal: 20.4s\tremaining: 46m 58s\n",
      "36:\tlearn: 0.4734690\ttest: 0.4734690\ttest1: 0.4480838\tbest: 0.4644269 (0)\ttotal: 21s\tremaining: 46m 55s\n",
      "37:\tlearn: 0.4736322\ttest: 0.4736322\ttest1: 0.4478333\tbest: 0.4644269 (0)\ttotal: 21.5s\tremaining: 46m 53s\n",
      "38:\tlearn: 0.4735765\ttest: 0.4735765\ttest1: 0.4479358\tbest: 0.4644269 (0)\ttotal: 22.1s\tremaining: 46m 53s\n",
      "39:\tlearn: 0.4738752\ttest: 0.4738752\ttest1: 0.4456808\tbest: 0.4644269 (0)\ttotal: 22.7s\tremaining: 46m 52s\n",
      "40:\tlearn: 0.4739789\ttest: 0.4739789\ttest1: 0.4431980\tbest: 0.4644269 (0)\ttotal: 23.3s\tremaining: 46m 52s\n",
      "41:\tlearn: 0.4742396\ttest: 0.4742396\ttest1: 0.4433916\tbest: 0.4644269 (0)\ttotal: 23.8s\tremaining: 46m 50s\n",
      "42:\tlearn: 0.4745965\ttest: 0.4745965\ttest1: 0.4436308\tbest: 0.4644269 (0)\ttotal: 24.4s\tremaining: 46m 50s\n",
      "43:\tlearn: 0.4749508\ttest: 0.4749508\ttest1: 0.4431638\tbest: 0.4644269 (0)\ttotal: 24.9s\tremaining: 46m 46s\n",
      "44:\tlearn: 0.4751836\ttest: 0.4751836\ttest1: 0.4432891\tbest: 0.4644269 (0)\ttotal: 25.5s\tremaining: 46m 43s\n",
      "45:\tlearn: 0.4754114\ttest: 0.4754114\ttest1: 0.4404988\tbest: 0.4644269 (0)\ttotal: 26s\tremaining: 46m 43s\n",
      "46:\tlearn: 0.4755088\ttest: 0.4755088\ttest1: 0.4381755\tbest: 0.4644269 (0)\ttotal: 26.6s\tremaining: 46m 42s\n",
      "47:\tlearn: 0.4756518\ttest: 0.4756518\ttest1: 0.4385969\tbest: 0.4644269 (0)\ttotal: 27.2s\tremaining: 46m 42s\n",
      "48:\tlearn: 0.4759353\ttest: 0.4759353\ttest1: 0.4385172\tbest: 0.4644269 (0)\ttotal: 27.7s\tremaining: 46m 42s\n",
      "49:\tlearn: 0.4766452\ttest: 0.4766452\ttest1: 0.4303400\tbest: 0.4644269 (0)\ttotal: 28.3s\tremaining: 46m 42s\n",
      "50:\tlearn: 0.4766490\ttest: 0.4766490\ttest1: 0.4303855\tbest: 0.4644269 (0)\ttotal: 28.9s\tremaining: 46m 39s\n",
      "Stopped by overfitting detector  (50 iterations wait)\n",
      "\n",
      "bestTest = 0.464426855\n",
      "bestIteration = 0\n",
      "\n",
      "Shrink model to first 1 iterations.\n",
      "================================Fold6====================================\n",
      "0:\tlearn: 0.4668672\ttest: 0.4668672\ttest1: 0.4644269\tbest: 0.4644269 (0)\ttotal: 575ms\tremaining: 47m 52s\n",
      "1:\tlearn: 0.4681541\ttest: 0.4681541\ttest1: 0.4380388\tbest: 0.4644269 (0)\ttotal: 1.11s\tremaining: 46m 26s\n",
      "2:\tlearn: 0.4697979\ttest: 0.4697979\ttest1: 0.4017083\tbest: 0.4644269 (0)\ttotal: 1.67s\tremaining: 46m 23s\n",
      "3:\tlearn: 0.4682807\ttest: 0.4682807\ttest1: 0.4341780\tbest: 0.4644269 (0)\ttotal: 2.24s\tremaining: 46m 39s\n",
      "4:\tlearn: 0.4690741\ttest: 0.4690741\ttest1: 0.4361369\tbest: 0.4644269 (0)\ttotal: 2.82s\tremaining: 46m 53s\n",
      "5:\tlearn: 0.4700181\ttest: 0.4700181\ttest1: 0.4415808\tbest: 0.4644269 (0)\ttotal: 3.39s\tremaining: 47m\n",
      "6:\tlearn: 0.4694284\ttest: 0.4694284\ttest1: 0.4528444\tbest: 0.4644269 (0)\ttotal: 3.95s\tremaining: 46m 55s\n",
      "7:\tlearn: 0.4693702\ttest: 0.4693702\ttest1: 0.4527419\tbest: 0.4644269 (0)\ttotal: 4.52s\tremaining: 47m 3s\n",
      "8:\tlearn: 0.4700814\ttest: 0.4700814\ttest1: 0.4527305\tbest: 0.4644269 (0)\ttotal: 5.07s\tremaining: 46m 54s\n",
      "9:\tlearn: 0.4702940\ttest: 0.4702940\ttest1: 0.4528216\tbest: 0.4644269 (0)\ttotal: 5.64s\tremaining: 46m 57s\n",
      "10:\tlearn: 0.4702674\ttest: 0.4702674\ttest1: 0.4530266\tbest: 0.4644269 (0)\ttotal: 6.2s\tremaining: 46m 54s\n",
      "11:\tlearn: 0.4698486\ttest: 0.4698486\ttest1: 0.4535733\tbest: 0.4644269 (0)\ttotal: 6.76s\tremaining: 46m 49s\n",
      "12:\tlearn: 0.4694259\ttest: 0.4694259\ttest1: 0.4537213\tbest: 0.4644269 (0)\ttotal: 7.3s\tremaining: 46m 42s\n",
      "13:\tlearn: 0.4694664\ttest: 0.4694664\ttest1: 0.4538352\tbest: 0.4644269 (0)\ttotal: 7.88s\tremaining: 46m 44s\n",
      "14:\tlearn: 0.4695841\ttest: 0.4695841\ttest1: 0.4526849\tbest: 0.4644269 (0)\ttotal: 8.46s\tremaining: 46m 53s\n",
      "15:\tlearn: 0.4699257\ttest: 0.4699257\ttest1: 0.4528216\tbest: 0.4644269 (0)\ttotal: 9.02s\tremaining: 46m 48s\n",
      "16:\tlearn: 0.4699840\ttest: 0.4699840\ttest1: 0.4532088\tbest: 0.4644269 (0)\ttotal: 9.58s\tremaining: 46m 49s\n",
      "17:\tlearn: 0.4704661\ttest: 0.4704661\ttest1: 0.4533910\tbest: 0.4644269 (0)\ttotal: 10.1s\tremaining: 46m 48s\n",
      "18:\tlearn: 0.4708444\ttest: 0.4708444\ttest1: 0.4433688\tbest: 0.4644269 (0)\ttotal: 10.7s\tremaining: 46m 50s\n",
      "19:\tlearn: 0.4716809\ttest: 0.4716809\ttest1: 0.4425374\tbest: 0.4644269 (0)\ttotal: 11.3s\tremaining: 46m 48s\n",
      "20:\tlearn: 0.4717290\ttest: 0.4717290\ttest1: 0.4432322\tbest: 0.4644269 (0)\ttotal: 11.9s\tremaining: 46m 51s\n",
      "21:\tlearn: 0.4715164\ttest: 0.4715164\ttest1: 0.4458288\tbest: 0.4644269 (0)\ttotal: 12.5s\tremaining: 46m 59s\n",
      "22:\tlearn: 0.4717872\ttest: 0.4717872\ttest1: 0.4454872\tbest: 0.4644269 (0)\ttotal: 13.1s\tremaining: 47m 4s\n",
      "23:\tlearn: 0.4724376\ttest: 0.4724376\ttest1: 0.4339502\tbest: 0.4644269 (0)\ttotal: 13.6s\tremaining: 46m 59s\n",
      "24:\tlearn: 0.4723845\ttest: 0.4723845\ttest1: 0.4366949\tbest: 0.4644269 (0)\ttotal: 14.2s\tremaining: 46m 56s\n",
      "25:\tlearn: 0.4726945\ttest: 0.4726945\ttest1: 0.4373897\tbest: 0.4644269 (0)\ttotal: 14.7s\tremaining: 46m 57s\n",
      "26:\tlearn: 0.4732640\ttest: 0.4732640\ttest1: 0.4294516\tbest: 0.4644269 (0)\ttotal: 15.3s\tremaining: 46m 56s\n",
      "27:\tlearn: 0.4738245\ttest: 0.4738245\ttest1: 0.4178236\tbest: 0.4644269 (0)\ttotal: 15.9s\tremaining: 46m 55s\n",
      "28:\tlearn: 0.4738549\ttest: 0.4738549\ttest1: 0.4183019\tbest: 0.4644269 (0)\ttotal: 16.4s\tremaining: 46m 53s\n",
      "29:\tlearn: 0.4743839\ttest: 0.4743839\ttest1: 0.4184500\tbest: 0.4644269 (0)\ttotal: 17s\tremaining: 46m 53s\n",
      "30:\tlearn: 0.4744876\ttest: 0.4744876\ttest1: 0.4187916\tbest: 0.4644269 (0)\ttotal: 17.6s\tremaining: 46m 56s\n",
      "31:\tlearn: 0.4744535\ttest: 0.4744535\ttest1: 0.4194978\tbest: 0.4644269 (0)\ttotal: 18.1s\tremaining: 46m 53s\n",
      "32:\tlearn: 0.4746066\ttest: 0.4746066\ttest1: 0.4166391\tbest: 0.4644269 (0)\ttotal: 18.7s\tremaining: 46m 51s\n",
      "33:\tlearn: 0.4746319\ttest: 0.4746319\ttest1: 0.4167872\tbest: 0.4644269 (0)\ttotal: 19.2s\tremaining: 46m 49s\n",
      "34:\tlearn: 0.4748306\ttest: 0.4748306\ttest1: 0.4173111\tbest: 0.4644269 (0)\ttotal: 19.8s\tremaining: 46m 43s\n",
      "35:\tlearn: 0.4747875\ttest: 0.4747875\ttest1: 0.4175503\tbest: 0.4644269 (0)\ttotal: 20.3s\tremaining: 46m 44s\n",
      "36:\tlearn: 0.4748293\ttest: 0.4748293\ttest1: 0.4174705\tbest: 0.4644269 (0)\ttotal: 20.9s\tremaining: 46m 41s\n",
      "37:\tlearn: 0.4755379\ttest: 0.4755379\ttest1: 0.4074711\tbest: 0.4644269 (0)\ttotal: 21.4s\tremaining: 46m 39s\n",
      "38:\tlearn: 0.4755810\ttest: 0.4755810\ttest1: 0.4081772\tbest: 0.4644269 (0)\ttotal: 22s\tremaining: 46m 38s\n",
      "39:\tlearn: 0.4765920\ttest: 0.4765920\ttest1: 0.3913217\tbest: 0.4644269 (0)\ttotal: 22.6s\tremaining: 46m 38s\n",
      "40:\tlearn: 0.4767641\ttest: 0.4767641\ttest1: 0.3911964\tbest: 0.4644269 (0)\ttotal: 23.1s\tremaining: 46m 35s\n",
      "41:\tlearn: 0.4770008\ttest: 0.4770008\ttest1: 0.3920506\tbest: 0.4644269 (0)\ttotal: 23.7s\tremaining: 46m 39s\n",
      "42:\tlearn: 0.4772222\ttest: 0.4772222\ttest1: 0.3915153\tbest: 0.4644269 (0)\ttotal: 24.3s\tremaining: 46m 36s\n",
      "43:\tlearn: 0.4773323\ttest: 0.4773323\ttest1: 0.3921189\tbest: 0.4644269 (0)\ttotal: 24.8s\tremaining: 46m 32s\n",
      "44:\tlearn: 0.4773842\ttest: 0.4773842\ttest1: 0.3944650\tbest: 0.4644269 (0)\ttotal: 25.3s\tremaining: 46m 28s\n",
      "45:\tlearn: 0.4773905\ttest: 0.4773905\ttest1: 0.3947383\tbest: 0.4644269 (0)\ttotal: 25.9s\tremaining: 46m 28s\n",
      "46:\tlearn: 0.4776196\ttest: 0.4776196\ttest1: 0.3927795\tbest: 0.4644269 (0)\ttotal: 26.4s\tremaining: 46m 26s\n",
      "47:\tlearn: 0.4784813\ttest: 0.4784813\ttest1: 0.3745573\tbest: 0.4644269 (0)\ttotal: 27s\tremaining: 46m 27s\n",
      "48:\tlearn: 0.4786180\ttest: 0.4786180\ttest1: 0.3755253\tbest: 0.4644269 (0)\ttotal: 27.6s\tremaining: 46m 28s\n",
      "49:\tlearn: 0.4792469\ttest: 0.4792469\ttest1: 0.3593759\tbest: 0.4644269 (0)\ttotal: 28.2s\tremaining: 46m 29s\n",
      "50:\tlearn: 0.4793912\ttest: 0.4793912\ttest1: 0.3598884\tbest: 0.4644269 (0)\ttotal: 28.7s\tremaining: 46m 26s\n",
      "Stopped by overfitting detector  (50 iterations wait)\n",
      "\n",
      "bestTest = 0.464426855\n",
      "bestIteration = 0\n",
      "\n",
      "Shrink model to first 1 iterations.\n",
      "================================Fold7====================================\n",
      "0:\tlearn: 0.4675986\ttest: 0.4675986\ttest1: 0.4644155\tbest: 0.4644155 (0)\ttotal: 566ms\tremaining: 47m 7s\n",
      "1:\tlearn: 0.4682263\ttest: 0.4682263\ttest1: 0.4644155\tbest: 0.4644155 (0)\ttotal: 1.11s\tremaining: 46m 26s\n",
      "2:\tlearn: 0.4691386\ttest: 0.4691386\ttest1: 0.4644155\tbest: 0.4644155 (0)\ttotal: 1.66s\tremaining: 46m 6s\n",
      "3:\tlearn: 0.4674518\ttest: 0.4674518\ttest1: 0.4644155\tbest: 0.4644155 (0)\ttotal: 2.23s\tremaining: 46m 22s\n",
      "4:\tlearn: 0.4692373\ttest: 0.4692373\ttest1: 0.4644155\tbest: 0.4644155 (0)\ttotal: 2.79s\tremaining: 46m 29s\n",
      "5:\tlearn: 0.4676113\ttest: 0.4676113\ttest1: 0.4644155\tbest: 0.4644155 (0)\ttotal: 3.36s\tremaining: 46m 36s\n",
      "6:\tlearn: 0.4676214\ttest: 0.4676214\ttest1: 0.4644155\tbest: 0.4644155 (0)\ttotal: 3.91s\tremaining: 46m 26s\n",
      "7:\tlearn: 0.4677036\ttest: 0.4677036\ttest1: 0.4644155\tbest: 0.4644155 (0)\ttotal: 4.49s\tremaining: 46m 40s\n",
      "8:\tlearn: 0.4684262\ttest: 0.4684262\ttest1: 0.4639599\tbest: 0.4644155 (0)\ttotal: 5.04s\tremaining: 46m 37s\n",
      "9:\tlearn: 0.4686856\ttest: 0.4686856\ttest1: 0.4642446\tbest: 0.4644155 (0)\ttotal: 5.61s\tremaining: 46m 37s\n",
      "10:\tlearn: 0.4688438\ttest: 0.4688438\ttest1: 0.4642446\tbest: 0.4644155 (0)\ttotal: 6.18s\tremaining: 46m 41s\n",
      "11:\tlearn: 0.4687173\ttest: 0.4687173\ttest1: 0.4642446\tbest: 0.4644155 (0)\ttotal: 6.73s\tremaining: 46m 39s\n",
      "12:\tlearn: 0.4686717\ttest: 0.4686717\ttest1: 0.4642446\tbest: 0.4644155 (0)\ttotal: 7.28s\tremaining: 46m 34s\n",
      "13:\tlearn: 0.4688261\ttest: 0.4688261\ttest1: 0.4641307\tbest: 0.4644155 (0)\ttotal: 7.86s\tremaining: 46m 40s\n",
      "14:\tlearn: 0.4687615\ttest: 0.4687615\ttest1: 0.4641649\tbest: 0.4644155 (0)\ttotal: 8.46s\tremaining: 46m 53s\n",
      "15:\tlearn: 0.4689843\ttest: 0.4689843\ttest1: 0.4641535\tbest: 0.4644155 (0)\ttotal: 9.04s\tremaining: 46m 55s\n",
      "16:\tlearn: 0.4694790\ttest: 0.4694790\ttest1: 0.4557599\tbest: 0.4644155 (0)\ttotal: 9.58s\tremaining: 46m 47s\n",
      "17:\tlearn: 0.4696220\ttest: 0.4696220\ttest1: 0.4561016\tbest: 0.4644155 (0)\ttotal: 10.2s\tremaining: 46m 54s\n",
      "18:\tlearn: 0.4697815\ttest: 0.4697815\ttest1: 0.4556119\tbest: 0.4644155 (0)\ttotal: 10.8s\tremaining: 46m 58s\n",
      "19:\tlearn: 0.4708141\ttest: 0.4708141\ttest1: 0.4556802\tbest: 0.4644155 (0)\ttotal: 11.3s\tremaining: 46m 59s\n",
      "20:\tlearn: 0.4708558\ttest: 0.4708558\ttest1: 0.4555663\tbest: 0.4644155 (0)\ttotal: 11.9s\tremaining: 46m 58s\n",
      "21:\tlearn: 0.4706002\ttest: 0.4706002\ttest1: 0.4556119\tbest: 0.4644155 (0)\ttotal: 12.5s\tremaining: 46m 58s\n",
      "22:\tlearn: 0.4702649\ttest: 0.4702649\ttest1: 0.4558055\tbest: 0.4644155 (0)\ttotal: 13s\tremaining: 46m 50s\n",
      "23:\tlearn: 0.4703750\ttest: 0.4703750\ttest1: 0.4546894\tbest: 0.4644155 (0)\ttotal: 13.5s\tremaining: 46m 44s\n",
      "24:\tlearn: 0.4703699\ttest: 0.4703699\ttest1: 0.4527077\tbest: 0.4644155 (0)\ttotal: 14.1s\tremaining: 46m 37s\n",
      "25:\tlearn: 0.4708913\ttest: 0.4708913\ttest1: 0.4525710\tbest: 0.4644155 (0)\ttotal: 14.6s\tremaining: 46m 42s\n",
      "26:\tlearn: 0.4721099\ttest: 0.4721099\ttest1: 0.4303400\tbest: 0.4644155 (0)\ttotal: 15.2s\tremaining: 46m 38s\n",
      "27:\tlearn: 0.4722592\ttest: 0.4722592\ttest1: 0.4318888\tbest: 0.4644155 (0)\ttotal: 15.8s\tremaining: 46m 39s\n",
      "28:\tlearn: 0.4725477\ttest: 0.4725477\ttest1: 0.4322647\tbest: 0.4644155 (0)\ttotal: 16.3s\tremaining: 46m 38s\n",
      "29:\tlearn: 0.4729134\ttest: 0.4729134\ttest1: 0.4313650\tbest: 0.4644155 (0)\ttotal: 16.9s\tremaining: 46m 37s\n",
      "30:\tlearn: 0.4733627\ttest: 0.4733627\ttest1: 0.4312397\tbest: 0.4644155 (0)\ttotal: 17.4s\tremaining: 46m 35s\n",
      "31:\tlearn: 0.4733880\ttest: 0.4733880\ttest1: 0.4320369\tbest: 0.4644155 (0)\ttotal: 18s\tremaining: 46m 33s\n",
      "32:\tlearn: 0.4736107\ttest: 0.4736107\ttest1: 0.4314902\tbest: 0.4644155 (0)\ttotal: 18.6s\tremaining: 46m 36s\n",
      "33:\tlearn: 0.4735208\ttest: 0.4735208\ttest1: 0.4325950\tbest: 0.4644155 (0)\ttotal: 19.2s\tremaining: 46m 37s\n",
      "34:\tlearn: 0.4736297\ttest: 0.4736297\ttest1: 0.4328000\tbest: 0.4644155 (0)\ttotal: 19.7s\tremaining: 46m 35s\n",
      "35:\tlearn: 0.4736335\ttest: 0.4736335\ttest1: 0.4334150\tbest: 0.4644155 (0)\ttotal: 20.3s\tremaining: 46m 35s\n",
      "36:\tlearn: 0.4735841\ttest: 0.4735841\ttest1: 0.4342919\tbest: 0.4644155 (0)\ttotal: 20.8s\tremaining: 46m 33s\n",
      "37:\tlearn: 0.4737410\ttest: 0.4737410\ttest1: 0.4345311\tbest: 0.4644155 (0)\ttotal: 21.4s\tremaining: 46m 34s\n",
      "38:\tlearn: 0.4738233\ttest: 0.4738233\ttest1: 0.4347702\tbest: 0.4644155 (0)\ttotal: 22s\tremaining: 46m 33s\n",
      "39:\tlearn: 0.4743092\ttest: 0.4743092\ttest1: 0.4248050\tbest: 0.4644155 (0)\ttotal: 22.5s\tremaining: 46m 31s\n",
      "40:\tlearn: 0.4748078\ttest: 0.4748078\ttest1: 0.4139741\tbest: 0.4644155 (0)\ttotal: 23s\tremaining: 46m 25s\n",
      "41:\tlearn: 0.4750419\ttest: 0.4750419\ttest1: 0.4144069\tbest: 0.4644155 (0)\ttotal: 23.6s\tremaining: 46m 26s\n",
      "42:\tlearn: 0.4754924\ttest: 0.4754924\ttest1: 0.4078242\tbest: 0.4644155 (0)\ttotal: 24.1s\tremaining: 46m 20s\n",
      "43:\tlearn: 0.4755923\ttest: 0.4755923\ttest1: 0.4080178\tbest: 0.4644155 (0)\ttotal: 24.7s\tremaining: 46m 17s\n",
      "44:\tlearn: 0.4757961\ttest: 0.4757961\ttest1: 0.4085189\tbest: 0.4644155 (0)\ttotal: 25.2s\tremaining: 46m 14s\n",
      "45:\tlearn: 0.4757999\ttest: 0.4757999\ttest1: 0.4088150\tbest: 0.4644155 (0)\ttotal: 25.7s\tremaining: 46m 13s\n",
      "46:\tlearn: 0.4764832\ttest: 0.4764832\ttest1: 0.3908206\tbest: 0.4644155 (0)\ttotal: 26.3s\tremaining: 46m 8s\n",
      "47:\tlearn: 0.4765490\ttest: 0.4765490\ttest1: 0.3914014\tbest: 0.4644155 (0)\ttotal: 26.9s\tremaining: 46m 10s\n",
      "48:\tlearn: 0.4767553\ttest: 0.4767553\ttest1: 0.3927339\tbest: 0.4644155 (0)\ttotal: 27.4s\tremaining: 46m 13s\n",
      "49:\tlearn: 0.4768679\ttest: 0.4768679\ttest1: 0.3934970\tbest: 0.4644155 (0)\ttotal: 28s\tremaining: 46m 12s\n",
      "50:\tlearn: 0.4769426\ttest: 0.4769426\ttest1: 0.3943511\tbest: 0.4644155 (0)\ttotal: 28.6s\tremaining: 46m 11s\n",
      "Stopped by overfitting detector  (50 iterations wait)\n",
      "\n",
      "bestTest = 0.4644154661\n",
      "bestIteration = 0\n",
      "\n",
      "Shrink model to first 1 iterations.\n",
      "================================Fold8====================================\n",
      "0:\tlearn: 0.4671734\ttest: 0.4671734\ttest1: 0.4644155\tbest: 0.4644155 (0)\ttotal: 572ms\tremaining: 47m 39s\n",
      "1:\tlearn: 0.4654157\ttest: 0.4654157\ttest1: 0.4644155\tbest: 0.4644155 (0)\ttotal: 1.11s\tremaining: 46m 10s\n",
      "2:\tlearn: 0.4664357\ttest: 0.4664357\ttest1: 0.4644155\tbest: 0.4644155 (0)\ttotal: 1.66s\tremaining: 46m 9s\n",
      "3:\tlearn: 0.4669596\ttest: 0.4669596\ttest1: 0.4644155\tbest: 0.4644155 (0)\ttotal: 2.24s\tremaining: 46m 36s\n",
      "4:\tlearn: 0.4675290\ttest: 0.4675290\ttest1: 0.4644155\tbest: 0.4644155 (0)\ttotal: 2.79s\tremaining: 46m 25s\n",
      "5:\tlearn: 0.4676682\ttest: 0.4676682\ttest1: 0.4644155\tbest: 0.4644155 (0)\ttotal: 3.35s\tremaining: 46m 25s\n",
      "6:\tlearn: 0.4676948\ttest: 0.4676948\ttest1: 0.4644155\tbest: 0.4644155 (0)\ttotal: 3.9s\tremaining: 46m 25s\n",
      "7:\tlearn: 0.4677707\ttest: 0.4677707\ttest1: 0.4644155\tbest: 0.4644155 (0)\ttotal: 4.47s\tremaining: 46m 29s\n",
      "8:\tlearn: 0.4682997\ttest: 0.4682997\ttest1: 0.4646774\tbest: 0.4646774 (8)\ttotal: 5.04s\tremaining: 46m 33s\n",
      "9:\tlearn: 0.4687097\ttest: 0.4687097\ttest1: 0.4647913\tbest: 0.4647913 (9)\ttotal: 5.6s\tremaining: 46m 32s\n",
      "10:\tlearn: 0.4685983\ttest: 0.4685983\ttest1: 0.4647913\tbest: 0.4647913 (9)\ttotal: 6.2s\tremaining: 46m 54s\n",
      "11:\tlearn: 0.4683591\ttest: 0.4683591\ttest1: 0.4647344\tbest: 0.4647913 (9)\ttotal: 6.77s\tremaining: 46m 54s\n",
      "12:\tlearn: 0.4683414\ttest: 0.4683414\ttest1: 0.4647344\tbest: 0.4647913 (9)\ttotal: 7.32s\tremaining: 46m 48s\n",
      "13:\tlearn: 0.4681883\ttest: 0.4681883\ttest1: 0.4645180\tbest: 0.4647913 (9)\ttotal: 7.89s\tremaining: 46m 51s\n",
      "14:\tlearn: 0.4682984\ttest: 0.4682984\ttest1: 0.4635841\tbest: 0.4647913 (9)\ttotal: 8.43s\tremaining: 46m 41s\n",
      "15:\tlearn: 0.4686337\ttest: 0.4686337\ttest1: 0.4640055\tbest: 0.4647913 (9)\ttotal: 8.99s\tremaining: 46m 40s\n",
      "16:\tlearn: 0.4685515\ttest: 0.4685515\ttest1: 0.4634132\tbest: 0.4647913 (9)\ttotal: 9.54s\tremaining: 46m 35s\n",
      "17:\tlearn: 0.4686388\ttest: 0.4686388\ttest1: 0.4634588\tbest: 0.4647913 (9)\ttotal: 10.1s\tremaining: 46m 41s\n",
      "18:\tlearn: 0.4687679\ttest: 0.4687679\ttest1: 0.4635044\tbest: 0.4647913 (9)\ttotal: 10.7s\tremaining: 46m 46s\n",
      "19:\tlearn: 0.4691348\ttest: 0.4691348\ttest1: 0.4634588\tbest: 0.4647913 (9)\ttotal: 11.3s\tremaining: 46m 45s\n",
      "20:\tlearn: 0.4694234\ttest: 0.4694234\ttest1: 0.4630944\tbest: 0.4647913 (9)\ttotal: 11.8s\tremaining: 46m 47s\n",
      "21:\tlearn: 0.4693234\ttest: 0.4693234\ttest1: 0.4617163\tbest: 0.4647913 (9)\ttotal: 12.4s\tremaining: 46m 38s\n",
      "22:\tlearn: 0.4693221\ttest: 0.4693221\ttest1: 0.4616821\tbest: 0.4647913 (9)\ttotal: 12.9s\tremaining: 46m 37s\n",
      "23:\tlearn: 0.4693221\ttest: 0.4693221\ttest1: 0.4614430\tbest: 0.4647913 (9)\ttotal: 13.4s\tremaining: 46m 27s\n",
      "24:\tlearn: 0.4696486\ttest: 0.4696486\ttest1: 0.4604635\tbest: 0.4647913 (9)\ttotal: 14s\tremaining: 46m 31s\n",
      "25:\tlearn: 0.4694740\ttest: 0.4694740\ttest1: 0.4598485\tbest: 0.4647913 (9)\ttotal: 14.5s\tremaining: 46m 22s\n",
      "26:\tlearn: 0.4696549\ttest: 0.4696549\ttest1: 0.4598827\tbest: 0.4647913 (9)\ttotal: 15.1s\tremaining: 46m 23s\n",
      "27:\tlearn: 0.4695322\ttest: 0.4695322\ttest1: 0.4593702\tbest: 0.4647913 (9)\ttotal: 15.6s\tremaining: 46m 17s\n",
      "28:\tlearn: 0.4697435\ttest: 0.4697435\ttest1: 0.4593019\tbest: 0.4647913 (9)\ttotal: 16.2s\tremaining: 46m 17s\n",
      "29:\tlearn: 0.4705205\ttest: 0.4705205\ttest1: 0.4593133\tbest: 0.4647913 (9)\ttotal: 16.8s\tremaining: 46m 19s\n",
      "30:\tlearn: 0.4704800\ttest: 0.4704800\ttest1: 0.4592791\tbest: 0.4647913 (9)\ttotal: 17.3s\tremaining: 46m 17s\n",
      "31:\tlearn: 0.4705243\ttest: 0.4705243\ttest1: 0.4594955\tbest: 0.4647913 (9)\ttotal: 17.9s\tremaining: 46m 18s\n",
      "32:\tlearn: 0.4709647\ttest: 0.4709647\ttest1: 0.4596321\tbest: 0.4647913 (9)\ttotal: 18.5s\tremaining: 46m 21s\n",
      "33:\tlearn: 0.4712114\ttest: 0.4712114\ttest1: 0.4595980\tbest: 0.4647913 (9)\ttotal: 19s\tremaining: 46m 19s\n",
      "34:\tlearn: 0.4714961\ttest: 0.4714961\ttest1: 0.4595183\tbest: 0.4647913 (9)\ttotal: 19.6s\tremaining: 46m 19s\n",
      "35:\tlearn: 0.4715923\ttest: 0.4715923\ttest1: 0.4581288\tbest: 0.4647913 (9)\ttotal: 20.1s\tremaining: 46m 18s\n",
      "36:\tlearn: 0.4716847\ttest: 0.4716847\ttest1: 0.4576733\tbest: 0.4647913 (9)\ttotal: 20.7s\tremaining: 46m 18s\n",
      "37:\tlearn: 0.4717771\ttest: 0.4717771\ttest1: 0.4576619\tbest: 0.4647913 (9)\ttotal: 21.3s\tremaining: 46m 14s\n",
      "38:\tlearn: 0.4718922\ttest: 0.4718922\ttest1: 0.4575594\tbest: 0.4647913 (9)\ttotal: 21.8s\tremaining: 46m 14s\n",
      "39:\tlearn: 0.4718745\ttest: 0.4718745\ttest1: 0.4578327\tbest: 0.4647913 (9)\ttotal: 22.4s\tremaining: 46m 17s\n",
      "40:\tlearn: 0.4721592\ttest: 0.4721592\ttest1: 0.4510677\tbest: 0.4647913 (9)\ttotal: 22.9s\tremaining: 46m 13s\n",
      "41:\tlearn: 0.4724857\ttest: 0.4724857\ttest1: 0.4506577\tbest: 0.4647913 (9)\ttotal: 23.5s\tremaining: 46m 15s\n",
      "42:\tlearn: 0.4726528\ttest: 0.4726528\ttest1: 0.4509197\tbest: 0.4647913 (9)\ttotal: 24.1s\tremaining: 46m 16s\n",
      "43:\tlearn: 0.4728944\ttest: 0.4728944\ttest1: 0.4508855\tbest: 0.4647913 (9)\ttotal: 24.6s\tremaining: 46m 15s\n",
      "44:\tlearn: 0.4730374\ttest: 0.4730374\ttest1: 0.4510905\tbest: 0.4647913 (9)\ttotal: 25.2s\tremaining: 46m 11s\n",
      "45:\tlearn: 0.4731020\ttest: 0.4731020\ttest1: 0.4509538\tbest: 0.4647913 (9)\ttotal: 25.8s\tremaining: 46m 13s\n",
      "46:\tlearn: 0.4731526\ttest: 0.4731526\ttest1: 0.4507033\tbest: 0.4647913 (9)\ttotal: 26.3s\tremaining: 46m 9s\n",
      "47:\tlearn: 0.4733475\ttest: 0.4733475\ttest1: 0.4507602\tbest: 0.4647913 (9)\ttotal: 26.9s\tremaining: 46m 11s\n",
      "48:\tlearn: 0.4735348\ttest: 0.4735348\ttest1: 0.4506235\tbest: 0.4647913 (9)\ttotal: 27.4s\tremaining: 46m 12s\n",
      "49:\tlearn: 0.4735474\ttest: 0.4735474\ttest1: 0.4507830\tbest: 0.4647913 (9)\ttotal: 28s\tremaining: 46m 12s\n",
      "50:\tlearn: 0.4736259\ttest: 0.4736259\ttest1: 0.4509083\tbest: 0.4647913 (9)\ttotal: 28.5s\tremaining: 46m 7s\n",
      "51:\tlearn: 0.4737195\ttest: 0.4737195\ttest1: 0.4505894\tbest: 0.4647913 (9)\ttotal: 29s\tremaining: 46m 3s\n",
      "52:\tlearn: 0.4738929\ttest: 0.4738929\ttest1: 0.4506691\tbest: 0.4647913 (9)\ttotal: 29.6s\tremaining: 46m 4s\n",
      "53:\tlearn: 0.4739372\ttest: 0.4739372\ttest1: 0.4505552\tbest: 0.4647913 (9)\ttotal: 30.2s\tremaining: 46m 5s\n",
      "54:\tlearn: 0.4740093\ttest: 0.4740093\ttest1: 0.4505210\tbest: 0.4647913 (9)\ttotal: 30.7s\tremaining: 46m 1s\n",
      "55:\tlearn: 0.4741232\ttest: 0.4741232\ttest1: 0.4504869\tbest: 0.4647913 (9)\ttotal: 31.3s\tremaining: 45m 59s\n",
      "56:\tlearn: 0.4741422\ttest: 0.4741422\ttest1: 0.4506235\tbest: 0.4647913 (9)\ttotal: 31.8s\tremaining: 45m 58s\n",
      "57:\tlearn: 0.4744256\ttest: 0.4744256\ttest1: 0.4506691\tbest: 0.4647913 (9)\ttotal: 32.4s\tremaining: 45m 59s\n",
      "58:\tlearn: 0.4745041\ttest: 0.4745041\ttest1: 0.4507260\tbest: 0.4647913 (9)\ttotal: 32.9s\tremaining: 45m 56s\n",
      "59:\tlearn: 0.4746471\ttest: 0.4746471\ttest1: 0.4477535\tbest: 0.4647913 (9)\ttotal: 33.4s\tremaining: 45m 52s\n",
      "Stopped by overfitting detector  (50 iterations wait)\n",
      "\n",
      "bestTest = 0.4647912989\n",
      "bestIteration = 9\n",
      "\n",
      "Shrink model to first 10 iterations.\n",
      "================================Fold9====================================\n",
      "0:\tlearn: 0.4672804\ttest: 0.4672804\ttest1: 0.4644208\tbest: 0.4644208 (0)\ttotal: 580ms\tremaining: 48m 17s\n",
      "1:\tlearn: 0.4670387\ttest: 0.4670387\ttest1: 0.4644208\tbest: 0.4644208 (0)\ttotal: 1.14s\tremaining: 47m 21s\n",
      "2:\tlearn: 0.4668970\ttest: 0.4668970\ttest1: 0.4644208\tbest: 0.4644208 (0)\ttotal: 1.71s\tremaining: 47m 29s\n",
      "3:\tlearn: 0.4674689\ttest: 0.4674689\ttest1: 0.4644208\tbest: 0.4644208 (0)\ttotal: 2.28s\tremaining: 47m 23s\n",
      "4:\tlearn: 0.4678068\ttest: 0.4678068\ttest1: 0.4644208\tbest: 0.4644208 (0)\ttotal: 2.85s\tremaining: 47m 22s\n",
      "5:\tlearn: 0.4681586\ttest: 0.4681586\ttest1: 0.4653888\tbest: 0.4653888 (5)\ttotal: 3.43s\tremaining: 47m 35s\n",
      "6:\tlearn: 0.4686572\ttest: 0.4686572\ttest1: 0.4659469\tbest: 0.4659469 (6)\ttotal: 3.99s\tremaining: 47m 26s\n",
      "7:\tlearn: 0.4683737\ttest: 0.4683737\ttest1: 0.4650130\tbest: 0.4659469 (6)\ttotal: 4.55s\tremaining: 47m 22s\n",
      "8:\tlearn: 0.4685648\ttest: 0.4685648\ttest1: 0.4655027\tbest: 0.4659469 (6)\ttotal: 5.12s\tremaining: 47m 16s\n",
      "9:\tlearn: 0.4692810\ttest: 0.4692810\ttest1: 0.4669149\tbest: 0.4669149 (9)\ttotal: 5.69s\tremaining: 47m 18s\n",
      "10:\tlearn: 0.4691052\ttest: 0.4691052\ttest1: 0.4655027\tbest: 0.4669149 (9)\ttotal: 6.24s\tremaining: 47m 8s\n",
      "11:\tlearn: 0.4703921\ttest: 0.4703921\ttest1: 0.4654002\tbest: 0.4669149 (9)\ttotal: 6.8s\tremaining: 47m 6s\n",
      "12:\tlearn: 0.4690672\ttest: 0.4690672\ttest1: 0.4649105\tbest: 0.4669149 (9)\ttotal: 7.37s\tremaining: 47m 7s\n",
      "13:\tlearn: 0.4700049\ttest: 0.4700049\ttest1: 0.4649219\tbest: 0.4669149 (9)\ttotal: 7.94s\tremaining: 47m 6s\n",
      "14:\tlearn: 0.4699644\ttest: 0.4699644\ttest1: 0.4649219\tbest: 0.4669149 (9)\ttotal: 8.51s\tremaining: 47m 8s\n",
      "15:\tlearn: 0.4700947\ttest: 0.4700947\ttest1: 0.4644208\tbest: 0.4669149 (9)\ttotal: 9.07s\tremaining: 47m 5s\n",
      "16:\tlearn: 0.4696872\ttest: 0.4696872\ttest1: 0.4644208\tbest: 0.4669149 (9)\ttotal: 9.62s\tremaining: 46m 59s\n",
      "17:\tlearn: 0.4689432\ttest: 0.4689432\ttest1: 0.4644208\tbest: 0.4669149 (9)\ttotal: 10.2s\tremaining: 46m 58s\n",
      "18:\tlearn: 0.4694848\ttest: 0.4694848\ttest1: 0.4644208\tbest: 0.4669149 (9)\ttotal: 10.7s\tremaining: 46m 57s\n",
      "19:\tlearn: 0.4702162\ttest: 0.4702162\ttest1: 0.4646144\tbest: 0.4669149 (9)\ttotal: 11.3s\tremaining: 46m 51s\n",
      "20:\tlearn: 0.4706616\ttest: 0.4706616\ttest1: 0.4649560\tbest: 0.4669149 (9)\ttotal: 11.9s\tremaining: 46m 51s\n",
      "21:\tlearn: 0.4705705\ttest: 0.4705705\ttest1: 0.4649446\tbest: 0.4669149 (9)\ttotal: 12.4s\tremaining: 46m 51s\n",
      "22:\tlearn: 0.4704237\ttest: 0.4704237\ttest1: 0.4648421\tbest: 0.4669149 (9)\ttotal: 13s\tremaining: 46m 48s\n",
      "23:\tlearn: 0.4704199\ttest: 0.4704199\ttest1: 0.4645916\tbest: 0.4669149 (9)\ttotal: 13.5s\tremaining: 46m 41s\n",
      "24:\tlearn: 0.4705655\ttest: 0.4705655\ttest1: 0.4649446\tbest: 0.4669149 (9)\ttotal: 14.1s\tremaining: 46m 48s\n",
      "25:\tlearn: 0.4708818\ttest: 0.4708818\ttest1: 0.4646371\tbest: 0.4669149 (9)\ttotal: 14.7s\tremaining: 46m 47s\n",
      "26:\tlearn: 0.4708110\ttest: 0.4708110\ttest1: 0.4645916\tbest: 0.4669149 (9)\ttotal: 15.2s\tremaining: 46m 42s\n",
      "27:\tlearn: 0.4710501\ttest: 0.4710501\ttest1: 0.4649333\tbest: 0.4669149 (9)\ttotal: 15.8s\tremaining: 46m 45s\n",
      "28:\tlearn: 0.4711311\ttest: 0.4711311\ttest1: 0.4649333\tbest: 0.4669149 (9)\ttotal: 16.4s\tremaining: 46m 44s\n",
      "29:\tlearn: 0.4714095\ttest: 0.4714095\ttest1: 0.4649333\tbest: 0.4669149 (9)\ttotal: 16.9s\tremaining: 46m 35s\n",
      "30:\tlearn: 0.4713652\ttest: 0.4713652\ttest1: 0.4649333\tbest: 0.4669149 (9)\ttotal: 17.4s\tremaining: 46m 31s\n",
      "31:\tlearn: 0.4712539\ttest: 0.4712539\ttest1: 0.4648535\tbest: 0.4669149 (9)\ttotal: 18s\tremaining: 46m 35s\n",
      "32:\tlearn: 0.4712665\ttest: 0.4712665\ttest1: 0.4649333\tbest: 0.4669149 (9)\ttotal: 18.6s\tremaining: 46m 35s\n",
      "33:\tlearn: 0.4715892\ttest: 0.4715892\ttest1: 0.4649333\tbest: 0.4669149 (9)\ttotal: 19.2s\tremaining: 46m 37s\n",
      "34:\tlearn: 0.4716423\ttest: 0.4716423\ttest1: 0.4649333\tbest: 0.4669149 (9)\ttotal: 19.7s\tremaining: 46m 36s\n",
      "35:\tlearn: 0.4716322\ttest: 0.4716322\ttest1: 0.4649333\tbest: 0.4669149 (9)\ttotal: 20.3s\tremaining: 46m 35s\n",
      "36:\tlearn: 0.4717828\ttest: 0.4717828\ttest1: 0.4649105\tbest: 0.4669149 (9)\ttotal: 20.8s\tremaining: 46m 35s\n",
      "37:\tlearn: 0.4718258\ttest: 0.4718258\ttest1: 0.4649219\tbest: 0.4669149 (9)\ttotal: 21.4s\tremaining: 46m 29s\n",
      "38:\tlearn: 0.4716423\ttest: 0.4716423\ttest1: 0.4648877\tbest: 0.4669149 (9)\ttotal: 21.9s\tremaining: 46m 27s\n",
      "39:\tlearn: 0.4715588\ttest: 0.4715588\ttest1: 0.4648308\tbest: 0.4669149 (9)\ttotal: 22.5s\tremaining: 46m 28s\n",
      "40:\tlearn: 0.4716575\ttest: 0.4716575\ttest1: 0.4648308\tbest: 0.4669149 (9)\ttotal: 23s\tremaining: 46m 26s\n",
      "41:\tlearn: 0.4719587\ttest: 0.4719587\ttest1: 0.4648763\tbest: 0.4669149 (9)\ttotal: 23.6s\tremaining: 46m 28s\n",
      "42:\tlearn: 0.4720840\ttest: 0.4720840\ttest1: 0.4649333\tbest: 0.4669149 (9)\ttotal: 24.2s\tremaining: 46m 24s\n",
      "43:\tlearn: 0.4723839\ttest: 0.4723839\ttest1: 0.4649105\tbest: 0.4669149 (9)\ttotal: 24.7s\tremaining: 46m 24s\n",
      "44:\tlearn: 0.4726749\ttest: 0.4726749\ttest1: 0.4649219\tbest: 0.4669149 (9)\ttotal: 25.3s\tremaining: 46m 24s\n",
      "45:\tlearn: 0.4726635\ttest: 0.4726635\ttest1: 0.4649105\tbest: 0.4669149 (9)\ttotal: 25.8s\tremaining: 46m 22s\n",
      "46:\tlearn: 0.4726686\ttest: 0.4726686\ttest1: 0.4649105\tbest: 0.4669149 (9)\ttotal: 26.4s\tremaining: 46m 19s\n",
      "47:\tlearn: 0.4728622\ttest: 0.4728622\ttest1: 0.4649333\tbest: 0.4669149 (9)\ttotal: 27s\tremaining: 46m 20s\n",
      "48:\tlearn: 0.4729913\ttest: 0.4729913\ttest1: 0.4649333\tbest: 0.4669149 (9)\ttotal: 27.5s\tremaining: 46m 22s\n",
      "49:\tlearn: 0.4731343\ttest: 0.4731343\ttest1: 0.4649446\tbest: 0.4669149 (9)\ttotal: 28.1s\tremaining: 46m 20s\n",
      "50:\tlearn: 0.4732216\ttest: 0.4732216\ttest1: 0.4649219\tbest: 0.4669149 (9)\ttotal: 28.6s\tremaining: 46m 18s\n",
      "51:\tlearn: 0.4733203\ttest: 0.4733203\ttest1: 0.4648194\tbest: 0.4669149 (9)\ttotal: 29.2s\tremaining: 46m 15s\n",
      "52:\tlearn: 0.4733722\ttest: 0.4733722\ttest1: 0.4649446\tbest: 0.4669149 (9)\ttotal: 29.7s\tremaining: 46m 13s\n",
      "53:\tlearn: 0.4735164\ttest: 0.4735164\ttest1: 0.4648991\tbest: 0.4669149 (9)\ttotal: 30.3s\tremaining: 46m 12s\n",
      "54:\tlearn: 0.4736253\ttest: 0.4736253\ttest1: 0.4649788\tbest: 0.4669149 (9)\ttotal: 30.8s\tremaining: 46m 11s\n",
      "55:\tlearn: 0.4736442\ttest: 0.4736442\ttest1: 0.4649788\tbest: 0.4669149 (9)\ttotal: 31.4s\tremaining: 46m 9s\n",
      "56:\tlearn: 0.4736923\ttest: 0.4736923\ttest1: 0.4649788\tbest: 0.4669149 (9)\ttotal: 31.9s\tremaining: 46m 7s\n",
      "57:\tlearn: 0.4738771\ttest: 0.4738771\ttest1: 0.4649560\tbest: 0.4669149 (9)\ttotal: 32.5s\tremaining: 46m 7s\n",
      "58:\tlearn: 0.4739555\ttest: 0.4739555\ttest1: 0.4649674\tbest: 0.4669149 (9)\ttotal: 33s\tremaining: 46m 7s\n",
      "59:\tlearn: 0.4740226\ttest: 0.4740226\ttest1: 0.4649560\tbest: 0.4669149 (9)\ttotal: 33.6s\tremaining: 46m 3s\n",
      "Stopped by overfitting detector  (50 iterations wait)\n",
      "\n",
      "bestTest = 0.4669149469\n",
      "bestIteration = 9\n",
      "\n",
      "Shrink model to first 10 iterations.\n"
     ]
    }
   ],
   "source": [
    "scores = []\n",
    "for fold,(tr_in,te_in) in enumerate(kf.split(data, target)):\n",
    "    print(f\"================================Fold{fold}====================================\")\n",
    "    X_train,X_test = data.iloc[tr_in],data.iloc[te_in]\n",
    "    y_train,y_test = target.iloc[tr_in],target.iloc[te_in]\n",
    "    cat.fit(X_train,y_train,eval_set=[(X_train,y_train),(X_test,y_test)],early_stopping_rounds=50,use_best_model=True)\n",
    "    y_pred = cat.predict(X_test)\n",
    "    scores.append(accuracy_score(y_test,y_pred))"
   ]
  },
  {
   "cell_type": "code",
   "execution_count": null,
   "metadata": {
    "colab": {
     "base_uri": "https://localhost:8080/",
     "height": 36
    },
    "colab_type": "code",
    "id": "HxMVQ90vVRCH",
    "outputId": "bda43c40-ab5e-4814-d7c0-66c62fed4879"
   },
   "outputs": [
    {
     "name": "stdout",
     "output_type": "stream",
     "text": [
      "ACCURACY:  0.42676210570576495 0.08063321681722731\n"
     ]
    }
   ],
   "source": [
    "print('ACCURACY: ', mean(scores), (std(scores)))"
   ]
  },
  {
   "cell_type": "code",
   "execution_count": null,
   "metadata": {
    "colab": {},
    "colab_type": "code",
    "id": "jFCbGG9sVRCM"
   },
   "outputs": [],
   "source": [
    "xgb = XGBClassifier(max_depth= 5, learning_rate=0.05, n_estimators= 5000,n_jobs= -1,random_state= 1)"
   ]
  },
  {
   "cell_type": "code",
   "execution_count": 26,
   "metadata": {
    "colab": {
     "base_uri": "https://localhost:8080/",
     "height": 1000
    },
    "colab_type": "code",
    "id": "bqQljcEqVRCR",
    "outputId": "fce032bc-591a-4299-9870-797d2864ad2c"
   },
   "outputs": [
    {
     "name": "stdout",
     "output_type": "stream",
     "text": [
      "================================Fold0====================================\n",
      "[0]\tvalidation_0-merror:0.517374\tvalidation_1-merror:0.79664\n",
      "Multiple eval metrics have been passed: 'validation_1-merror' will be used for early stopping.\n",
      "\n",
      "Will train until validation_1-merror hasn't improved in 50 rounds.\n",
      "[1]\tvalidation_0-merror:0.517422\tvalidation_1-merror:0.796481\n",
      "[2]\tvalidation_0-merror:0.517919\tvalidation_1-merror:0.796413\n",
      "[3]\tvalidation_0-merror:0.515867\tvalidation_1-merror:0.796515\n",
      "[4]\tvalidation_0-merror:0.51756\tvalidation_1-merror:0.796492\n",
      "[5]\tvalidation_0-merror:0.517722\tvalidation_1-merror:0.796435\n",
      "[6]\tvalidation_0-merror:0.516776\tvalidation_1-merror:0.796481\n",
      "[7]\tvalidation_0-merror:0.516988\tvalidation_1-merror:0.796526\n",
      "[8]\tvalidation_0-merror:0.516996\tvalidation_1-merror:0.796458\n",
      "[9]\tvalidation_0-merror:0.516732\tvalidation_1-merror:0.796538\n",
      "[10]\tvalidation_0-merror:0.516747\tvalidation_1-merror:0.796526\n",
      "[11]\tvalidation_0-merror:0.516856\tvalidation_1-merror:0.796526\n",
      "[12]\tvalidation_0-merror:0.517376\tvalidation_1-merror:0.796481\n",
      "[13]\tvalidation_0-merror:0.517398\tvalidation_1-merror:0.796458\n",
      "[14]\tvalidation_0-merror:0.517229\tvalidation_1-merror:0.796447\n",
      "[15]\tvalidation_0-merror:0.516963\tvalidation_1-merror:0.796469\n",
      "[16]\tvalidation_0-merror:0.516838\tvalidation_1-merror:0.796458\n",
      "[17]\tvalidation_0-merror:0.516792\tvalidation_1-merror:0.796287\n",
      "[18]\tvalidation_0-merror:0.516243\tvalidation_1-merror:0.796071\n",
      "[19]\tvalidation_0-merror:0.516155\tvalidation_1-merror:0.796128\n",
      "[20]\tvalidation_0-merror:0.51568\tvalidation_1-merror:0.796185\n",
      "[21]\tvalidation_0-merror:0.515367\tvalidation_1-merror:0.796082\n",
      "[22]\tvalidation_0-merror:0.515505\tvalidation_1-merror:0.796173\n",
      "[23]\tvalidation_0-merror:0.515524\tvalidation_1-merror:0.79623\n",
      "[24]\tvalidation_0-merror:0.515327\tvalidation_1-merror:0.796242\n",
      "[25]\tvalidation_0-merror:0.515254\tvalidation_1-merror:0.796321\n",
      "[26]\tvalidation_0-merror:0.515357\tvalidation_1-merror:0.796185\n",
      "[27]\tvalidation_0-merror:0.515324\tvalidation_1-merror:0.796162\n",
      "[28]\tvalidation_0-merror:0.515386\tvalidation_1-merror:0.796128\n",
      "[29]\tvalidation_0-merror:0.515484\tvalidation_1-merror:0.796128\n",
      "[30]\tvalidation_0-merror:0.515246\tvalidation_1-merror:0.796162\n",
      "[31]\tvalidation_0-merror:0.515261\tvalidation_1-merror:0.796162\n",
      "[32]\tvalidation_0-merror:0.515148\tvalidation_1-merror:0.796162\n",
      "[33]\tvalidation_0-merror:0.515184\tvalidation_1-merror:0.796173\n",
      "[34]\tvalidation_0-merror:0.515095\tvalidation_1-merror:0.796185\n",
      "[35]\tvalidation_0-merror:0.515076\tvalidation_1-merror:0.796173\n",
      "[36]\tvalidation_0-merror:0.515043\tvalidation_1-merror:0.796196\n",
      "[37]\tvalidation_0-merror:0.515045\tvalidation_1-merror:0.796139\n",
      "[38]\tvalidation_0-merror:0.514974\tvalidation_1-merror:0.796162\n",
      "[39]\tvalidation_0-merror:0.514903\tvalidation_1-merror:0.796219\n",
      "[40]\tvalidation_0-merror:0.514817\tvalidation_1-merror:0.796059\n",
      "[41]\tvalidation_0-merror:0.514827\tvalidation_1-merror:0.796082\n",
      "[42]\tvalidation_0-merror:0.514825\tvalidation_1-merror:0.796059\n",
      "[43]\tvalidation_0-merror:0.514771\tvalidation_1-merror:0.796048\n",
      "[44]\tvalidation_0-merror:0.514771\tvalidation_1-merror:0.796003\n",
      "[45]\tvalidation_0-merror:0.514732\tvalidation_1-merror:0.795946\n",
      "[46]\tvalidation_0-merror:0.514703\tvalidation_1-merror:0.795991\n",
      "[47]\tvalidation_0-merror:0.514684\tvalidation_1-merror:0.795957\n",
      "[48]\tvalidation_0-merror:0.514674\tvalidation_1-merror:0.795923\n",
      "[49]\tvalidation_0-merror:0.514626\tvalidation_1-merror:0.795946\n",
      "[50]\tvalidation_0-merror:0.514704\tvalidation_1-merror:0.795889\n",
      "[51]\tvalidation_0-merror:0.514661\tvalidation_1-merror:0.795946\n",
      "[52]\tvalidation_0-merror:0.51456\tvalidation_1-merror:0.795934\n",
      "[53]\tvalidation_0-merror:0.514532\tvalidation_1-merror:0.795877\n",
      "[54]\tvalidation_0-merror:0.514497\tvalidation_1-merror:0.7959\n",
      "[55]\tvalidation_0-merror:0.514442\tvalidation_1-merror:0.795786\n",
      "[56]\tvalidation_0-merror:0.514372\tvalidation_1-merror:0.795889\n",
      "[57]\tvalidation_0-merror:0.514361\tvalidation_1-merror:0.79582\n",
      "[58]\tvalidation_0-merror:0.514344\tvalidation_1-merror:0.795843\n",
      "[59]\tvalidation_0-merror:0.514317\tvalidation_1-merror:0.795854\n",
      "[60]\tvalidation_0-merror:0.514344\tvalidation_1-merror:0.795866\n",
      "[61]\tvalidation_0-merror:0.514299\tvalidation_1-merror:0.79582\n",
      "[62]\tvalidation_0-merror:0.514303\tvalidation_1-merror:0.795889\n",
      "[63]\tvalidation_0-merror:0.514251\tvalidation_1-merror:0.795786\n",
      "[64]\tvalidation_0-merror:0.514256\tvalidation_1-merror:0.795832\n",
      "[65]\tvalidation_0-merror:0.514165\tvalidation_1-merror:0.795649\n",
      "[66]\tvalidation_0-merror:0.51403\tvalidation_1-merror:0.795433\n",
      "[67]\tvalidation_0-merror:0.513951\tvalidation_1-merror:0.795251\n",
      "[68]\tvalidation_0-merror:0.513872\tvalidation_1-merror:0.795262\n",
      "[69]\tvalidation_0-merror:0.513829\tvalidation_1-merror:0.795239\n",
      "[70]\tvalidation_0-merror:0.513812\tvalidation_1-merror:0.795217\n",
      "[71]\tvalidation_0-merror:0.51377\tvalidation_1-merror:0.795308\n",
      "[72]\tvalidation_0-merror:0.513753\tvalidation_1-merror:0.79516\n",
      "[73]\tvalidation_0-merror:0.513713\tvalidation_1-merror:0.795251\n",
      "[74]\tvalidation_0-merror:0.513681\tvalidation_1-merror:0.795103\n",
      "[75]\tvalidation_0-merror:0.513677\tvalidation_1-merror:0.795183\n",
      "[76]\tvalidation_0-merror:0.513663\tvalidation_1-merror:0.795114\n",
      "[77]\tvalidation_0-merror:0.513624\tvalidation_1-merror:0.795069\n",
      "[78]\tvalidation_0-merror:0.513489\tvalidation_1-merror:0.795023\n",
      "[79]\tvalidation_0-merror:0.513439\tvalidation_1-merror:0.795057\n",
      "[80]\tvalidation_0-merror:0.513357\tvalidation_1-merror:0.795126\n",
      "[81]\tvalidation_0-merror:0.513319\tvalidation_1-merror:0.795069\n",
      "[82]\tvalidation_0-merror:0.513244\tvalidation_1-merror:0.795034\n",
      "[83]\tvalidation_0-merror:0.513216\tvalidation_1-merror:0.795057\n",
      "[84]\tvalidation_0-merror:0.513148\tvalidation_1-merror:0.795091\n",
      "[85]\tvalidation_0-merror:0.51313\tvalidation_1-merror:0.79508\n",
      "[86]\tvalidation_0-merror:0.513087\tvalidation_1-merror:0.795103\n",
      "[87]\tvalidation_0-merror:0.513052\tvalidation_1-merror:0.795069\n",
      "[88]\tvalidation_0-merror:0.513066\tvalidation_1-merror:0.795114\n",
      "[89]\tvalidation_0-merror:0.512978\tvalidation_1-merror:0.795148\n",
      "[90]\tvalidation_0-merror:0.512901\tvalidation_1-merror:0.795091\n",
      "[91]\tvalidation_0-merror:0.512914\tvalidation_1-merror:0.795023\n",
      "[92]\tvalidation_0-merror:0.512902\tvalidation_1-merror:0.795046\n",
      "[93]\tvalidation_0-merror:0.512842\tvalidation_1-merror:0.795069\n",
      "[94]\tvalidation_0-merror:0.512814\tvalidation_1-merror:0.795034\n",
      "[95]\tvalidation_0-merror:0.512738\tvalidation_1-merror:0.794852\n",
      "[96]\tvalidation_0-merror:0.51274\tvalidation_1-merror:0.794898\n",
      "[97]\tvalidation_0-merror:0.512723\tvalidation_1-merror:0.794989\n",
      "[98]\tvalidation_0-merror:0.512692\tvalidation_1-merror:0.794852\n",
      "[99]\tvalidation_0-merror:0.512672\tvalidation_1-merror:0.794829\n",
      "[100]\tvalidation_0-merror:0.512647\tvalidation_1-merror:0.794784\n",
      "[101]\tvalidation_0-merror:0.512568\tvalidation_1-merror:0.794807\n",
      "[102]\tvalidation_0-merror:0.512568\tvalidation_1-merror:0.794807\n",
      "[103]\tvalidation_0-merror:0.512492\tvalidation_1-merror:0.794693\n",
      "[104]\tvalidation_0-merror:0.512477\tvalidation_1-merror:0.794659\n",
      "[105]\tvalidation_0-merror:0.512419\tvalidation_1-merror:0.794704\n",
      "[106]\tvalidation_0-merror:0.512402\tvalidation_1-merror:0.794636\n",
      "[107]\tvalidation_0-merror:0.51231\tvalidation_1-merror:0.79467\n",
      "[108]\tvalidation_0-merror:0.51229\tvalidation_1-merror:0.794659\n",
      "[109]\tvalidation_0-merror:0.512242\tvalidation_1-merror:0.79459\n",
      "[110]\tvalidation_0-merror:0.512149\tvalidation_1-merror:0.794556\n",
      "[111]\tvalidation_0-merror:0.512124\tvalidation_1-merror:0.794511\n",
      "[112]\tvalidation_0-merror:0.512075\tvalidation_1-merror:0.794431\n",
      "[113]\tvalidation_0-merror:0.512063\tvalidation_1-merror:0.794442\n",
      "[114]\tvalidation_0-merror:0.512006\tvalidation_1-merror:0.794454\n",
      "[115]\tvalidation_0-merror:0.511994\tvalidation_1-merror:0.79434\n",
      "[116]\tvalidation_0-merror:0.511967\tvalidation_1-merror:0.794328\n",
      "[117]\tvalidation_0-merror:0.511932\tvalidation_1-merror:0.794317\n",
      "[118]\tvalidation_0-merror:0.511912\tvalidation_1-merror:0.794283\n",
      "[119]\tvalidation_0-merror:0.51191\tvalidation_1-merror:0.794249\n",
      "[120]\tvalidation_0-merror:0.511881\tvalidation_1-merror:0.79426\n",
      "[121]\tvalidation_0-merror:0.511843\tvalidation_1-merror:0.794055\n",
      "[122]\tvalidation_0-merror:0.511825\tvalidation_1-merror:0.794089\n",
      "[123]\tvalidation_0-merror:0.511798\tvalidation_1-merror:0.794066\n",
      "[124]\tvalidation_0-merror:0.511791\tvalidation_1-merror:0.794089\n",
      "[125]\tvalidation_0-merror:0.511765\tvalidation_1-merror:0.794055\n",
      "[126]\tvalidation_0-merror:0.511712\tvalidation_1-merror:0.794021\n",
      "[127]\tvalidation_0-merror:0.511615\tvalidation_1-merror:0.794021\n",
      "[128]\tvalidation_0-merror:0.511598\tvalidation_1-merror:0.793964\n",
      "[129]\tvalidation_0-merror:0.511567\tvalidation_1-merror:0.793975\n",
      "[130]\tvalidation_0-merror:0.511555\tvalidation_1-merror:0.794066\n",
      "[131]\tvalidation_0-merror:0.51151\tvalidation_1-merror:0.794009\n",
      "[132]\tvalidation_0-merror:0.511433\tvalidation_1-merror:0.794009\n",
      "[133]\tvalidation_0-merror:0.511403\tvalidation_1-merror:0.794009\n",
      "[134]\tvalidation_0-merror:0.511398\tvalidation_1-merror:0.794135\n",
      "[135]\tvalidation_0-merror:0.511385\tvalidation_1-merror:0.794055\n",
      "[136]\tvalidation_0-merror:0.511369\tvalidation_1-merror:0.794055\n",
      "[137]\tvalidation_0-merror:0.511295\tvalidation_1-merror:0.794009\n",
      "[138]\tvalidation_0-merror:0.511276\tvalidation_1-merror:0.793975\n",
      "[139]\tvalidation_0-merror:0.511188\tvalidation_1-merror:0.793998\n",
      "[140]\tvalidation_0-merror:0.511127\tvalidation_1-merror:0.794044\n",
      "[141]\tvalidation_0-merror:0.511079\tvalidation_1-merror:0.794146\n",
      "[142]\tvalidation_0-merror:0.510964\tvalidation_1-merror:0.794078\n",
      "[143]\tvalidation_0-merror:0.51094\tvalidation_1-merror:0.794021\n",
      "[144]\tvalidation_0-merror:0.510919\tvalidation_1-merror:0.794032\n",
      "[145]\tvalidation_0-merror:0.5109\tvalidation_1-merror:0.794009\n",
      "[146]\tvalidation_0-merror:0.51088\tvalidation_1-merror:0.794101\n",
      "[147]\tvalidation_0-merror:0.510871\tvalidation_1-merror:0.794101\n",
      "[148]\tvalidation_0-merror:0.510854\tvalidation_1-merror:0.794169\n",
      "[149]\tvalidation_0-merror:0.510822\tvalidation_1-merror:0.794146\n",
      "[150]\tvalidation_0-merror:0.510764\tvalidation_1-merror:0.794169\n",
      "[151]\tvalidation_0-merror:0.510731\tvalidation_1-merror:0.794112\n",
      "[152]\tvalidation_0-merror:0.510725\tvalidation_1-merror:0.794078\n",
      "[153]\tvalidation_0-merror:0.510678\tvalidation_1-merror:0.794135\n",
      "[154]\tvalidation_0-merror:0.510637\tvalidation_1-merror:0.794169\n",
      "[155]\tvalidation_0-merror:0.510612\tvalidation_1-merror:0.794271\n",
      "[156]\tvalidation_0-merror:0.510527\tvalidation_1-merror:0.79418\n",
      "[157]\tvalidation_0-merror:0.510502\tvalidation_1-merror:0.794169\n",
      "[158]\tvalidation_0-merror:0.510501\tvalidation_1-merror:0.794397\n",
      "[159]\tvalidation_0-merror:0.510478\tvalidation_1-merror:0.794362\n",
      "[160]\tvalidation_0-merror:0.510455\tvalidation_1-merror:0.794362\n",
      "[161]\tvalidation_0-merror:0.510323\tvalidation_1-merror:0.794408\n",
      "[162]\tvalidation_0-merror:0.510304\tvalidation_1-merror:0.794419\n",
      "[163]\tvalidation_0-merror:0.510247\tvalidation_1-merror:0.794374\n",
      "[164]\tvalidation_0-merror:0.510229\tvalidation_1-merror:0.794374\n",
      "[165]\tvalidation_0-merror:0.510203\tvalidation_1-merror:0.794294\n",
      "[166]\tvalidation_0-merror:0.510187\tvalidation_1-merror:0.79434\n",
      "[167]\tvalidation_0-merror:0.510182\tvalidation_1-merror:0.79434\n",
      "[168]\tvalidation_0-merror:0.510126\tvalidation_1-merror:0.794374\n",
      "[169]\tvalidation_0-merror:0.510083\tvalidation_1-merror:0.794294\n",
      "[170]\tvalidation_0-merror:0.510063\tvalidation_1-merror:0.79426\n",
      "[171]\tvalidation_0-merror:0.509999\tvalidation_1-merror:0.794203\n",
      "[172]\tvalidation_0-merror:0.509988\tvalidation_1-merror:0.794306\n",
      "[173]\tvalidation_0-merror:0.50996\tvalidation_1-merror:0.794328\n",
      "[174]\tvalidation_0-merror:0.509927\tvalidation_1-merror:0.794362\n",
      "[175]\tvalidation_0-merror:0.509889\tvalidation_1-merror:0.794317\n",
      "[176]\tvalidation_0-merror:0.509858\tvalidation_1-merror:0.794203\n",
      "[177]\tvalidation_0-merror:0.50984\tvalidation_1-merror:0.794214\n",
      "[178]\tvalidation_0-merror:0.509764\tvalidation_1-merror:0.794294\n",
      "Stopping. Best iteration:\n",
      "[128]\tvalidation_0-merror:0.511598\tvalidation_1-merror:0.793964\n",
      "\n",
      "================================Fold1====================================\n",
      "[0]\tvalidation_0-merror:0.511253\tvalidation_1-merror:0.854701\n",
      "Multiple eval metrics have been passed: 'validation_1-merror' will be used for early stopping.\n",
      "\n",
      "Will train until validation_1-merror hasn't improved in 50 rounds.\n",
      "[1]\tvalidation_0-merror:0.511846\tvalidation_1-merror:0.8556\n",
      "[2]\tvalidation_0-merror:0.511523\tvalidation_1-merror:0.855134\n",
      "[3]\tvalidation_0-merror:0.511852\tvalidation_1-merror:0.8556\n",
      "[4]\tvalidation_0-merror:0.511813\tvalidation_1-merror:0.855487\n",
      "[5]\tvalidation_0-merror:0.511763\tvalidation_1-merror:0.855578\n",
      "[6]\tvalidation_0-merror:0.511278\tvalidation_1-merror:0.855452\n",
      "[7]\tvalidation_0-merror:0.511118\tvalidation_1-merror:0.855031\n",
      "[8]\tvalidation_0-merror:0.510541\tvalidation_1-merror:0.855099\n",
      "[9]\tvalidation_0-merror:0.509288\tvalidation_1-merror:0.85584\n",
      "[10]\tvalidation_0-merror:0.508681\tvalidation_1-merror:0.858152\n",
      "[11]\tvalidation_0-merror:0.50849\tvalidation_1-merror:0.85912\n",
      "[12]\tvalidation_0-merror:0.508557\tvalidation_1-merror:0.85863\n",
      "[13]\tvalidation_0-merror:0.508452\tvalidation_1-merror:0.858402\n",
      "[14]\tvalidation_0-merror:0.508109\tvalidation_1-merror:0.858357\n",
      "[15]\tvalidation_0-merror:0.508103\tvalidation_1-merror:0.85904\n",
      "[16]\tvalidation_0-merror:0.507653\tvalidation_1-merror:0.85896\n",
      "[17]\tvalidation_0-merror:0.507438\tvalidation_1-merror:0.859222\n",
      "[18]\tvalidation_0-merror:0.507242\tvalidation_1-merror:0.859199\n",
      "[19]\tvalidation_0-merror:0.507095\tvalidation_1-merror:0.858994\n",
      "[20]\tvalidation_0-merror:0.506861\tvalidation_1-merror:0.859017\n",
      "[21]\tvalidation_0-merror:0.50673\tvalidation_1-merror:0.858983\n",
      "[22]\tvalidation_0-merror:0.506812\tvalidation_1-merror:0.859188\n",
      "[23]\tvalidation_0-merror:0.506599\tvalidation_1-merror:0.858892\n",
      "[24]\tvalidation_0-merror:0.506578\tvalidation_1-merror:0.859177\n",
      "[25]\tvalidation_0-merror:0.506633\tvalidation_1-merror:0.859177\n",
      "[26]\tvalidation_0-merror:0.506751\tvalidation_1-merror:0.859256\n",
      "[27]\tvalidation_0-merror:0.506589\tvalidation_1-merror:0.858789\n",
      "[28]\tvalidation_0-merror:0.506493\tvalidation_1-merror:0.859416\n",
      "[29]\tvalidation_0-merror:0.506396\tvalidation_1-merror:0.859074\n",
      "[30]\tvalidation_0-merror:0.506336\tvalidation_1-merror:0.858824\n",
      "[31]\tvalidation_0-merror:0.506092\tvalidation_1-merror:0.859108\n",
      "[32]\tvalidation_0-merror:0.506061\tvalidation_1-merror:0.859735\n",
      "[33]\tvalidation_0-merror:0.506031\tvalidation_1-merror:0.859347\n",
      "[34]\tvalidation_0-merror:0.506013\tvalidation_1-merror:0.859313\n",
      "[35]\tvalidation_0-merror:0.505941\tvalidation_1-merror:0.859393\n",
      "[36]\tvalidation_0-merror:0.505924\tvalidation_1-merror:0.859621\n",
      "[37]\tvalidation_0-merror:0.505941\tvalidation_1-merror:0.859621\n",
      "[38]\tvalidation_0-merror:0.505773\tvalidation_1-merror:0.859484\n",
      "[39]\tvalidation_0-merror:0.50575\tvalidation_1-merror:0.859473\n",
      "[40]\tvalidation_0-merror:0.505823\tvalidation_1-merror:0.859336\n",
      "[41]\tvalidation_0-merror:0.505687\tvalidation_1-merror:0.859382\n",
      "[42]\tvalidation_0-merror:0.505715\tvalidation_1-merror:0.859507\n",
      "[43]\tvalidation_0-merror:0.505646\tvalidation_1-merror:0.859393\n",
      "[44]\tvalidation_0-merror:0.505678\tvalidation_1-merror:0.859495\n",
      "[45]\tvalidation_0-merror:0.505339\tvalidation_1-merror:0.860088\n",
      "[46]\tvalidation_0-merror:0.505188\tvalidation_1-merror:0.860019\n",
      "[47]\tvalidation_0-merror:0.50514\tvalidation_1-merror:0.860065\n",
      "[48]\tvalidation_0-merror:0.505184\tvalidation_1-merror:0.860145\n",
      "[49]\tvalidation_0-merror:0.505076\tvalidation_1-merror:0.860099\n",
      "[50]\tvalidation_0-merror:0.504979\tvalidation_1-merror:0.860042\n",
      "Stopping. Best iteration:\n",
      "[0]\tvalidation_0-merror:0.511253\tvalidation_1-merror:0.854701\n",
      "\n",
      "================================Fold2====================================\n",
      "[0]\tvalidation_0-merror:0.512489\tvalidation_1-merror:0.962496\n",
      "Multiple eval metrics have been passed: 'validation_1-merror' will be used for early stopping.\n",
      "\n",
      "Will train until validation_1-merror hasn't improved in 50 rounds.\n",
      "[1]\tvalidation_0-merror:0.512089\tvalidation_1-merror:0.962588\n",
      "[2]\tvalidation_0-merror:0.512491\tvalidation_1-merror:0.962462\n",
      "[3]\tvalidation_0-merror:0.512152\tvalidation_1-merror:0.962531\n",
      "[4]\tvalidation_0-merror:0.512176\tvalidation_1-merror:0.962542\n",
      "[5]\tvalidation_0-merror:0.511977\tvalidation_1-merror:0.962417\n",
      "[6]\tvalidation_0-merror:0.511744\tvalidation_1-merror:0.962439\n",
      "[7]\tvalidation_0-merror:0.511817\tvalidation_1-merror:0.962439\n",
      "[8]\tvalidation_0-merror:0.511581\tvalidation_1-merror:0.962314\n",
      "[9]\tvalidation_0-merror:0.511024\tvalidation_1-merror:0.962838\n",
      "[10]\tvalidation_0-merror:0.510957\tvalidation_1-merror:0.96277\n",
      "[11]\tvalidation_0-merror:0.510813\tvalidation_1-merror:0.962827\n",
      "[12]\tvalidation_0-merror:0.510449\tvalidation_1-merror:0.962417\n",
      "[13]\tvalidation_0-merror:0.510263\tvalidation_1-merror:0.962348\n",
      "[14]\tvalidation_0-merror:0.510089\tvalidation_1-merror:0.962326\n",
      "[15]\tvalidation_0-merror:0.50962\tvalidation_1-merror:0.962212\n",
      "[16]\tvalidation_0-merror:0.509531\tvalidation_1-merror:0.96228\n",
      "[17]\tvalidation_0-merror:0.509272\tvalidation_1-merror:0.96187\n",
      "[18]\tvalidation_0-merror:0.509155\tvalidation_1-merror:0.96187\n",
      "[19]\tvalidation_0-merror:0.508863\tvalidation_1-merror:0.96138\n",
      "[20]\tvalidation_0-merror:0.508335\tvalidation_1-merror:0.961323\n",
      "[21]\tvalidation_0-merror:0.508097\tvalidation_1-merror:0.961118\n",
      "[22]\tvalidation_0-merror:0.507651\tvalidation_1-merror:0.960765\n",
      "[23]\tvalidation_0-merror:0.50748\tvalidation_1-merror:0.960082\n",
      "[24]\tvalidation_0-merror:0.507219\tvalidation_1-merror:0.959911\n",
      "[25]\tvalidation_0-merror:0.507338\tvalidation_1-merror:0.959877\n",
      "[26]\tvalidation_0-merror:0.507113\tvalidation_1-merror:0.9599\n",
      "[27]\tvalidation_0-merror:0.507079\tvalidation_1-merror:0.959831\n",
      "[28]\tvalidation_0-merror:0.507124\tvalidation_1-merror:0.957337\n",
      "[29]\tvalidation_0-merror:0.507085\tvalidation_1-merror:0.958613\n",
      "[30]\tvalidation_0-merror:0.506578\tvalidation_1-merror:0.957303\n",
      "[31]\tvalidation_0-merror:0.506444\tvalidation_1-merror:0.95539\n",
      "[32]\tvalidation_0-merror:0.50633\tvalidation_1-merror:0.954501\n",
      "[33]\tvalidation_0-merror:0.506218\tvalidation_1-merror:0.954103\n",
      "[34]\tvalidation_0-merror:0.506168\tvalidation_1-merror:0.953328\n",
      "[35]\tvalidation_0-merror:0.506207\tvalidation_1-merror:0.95359\n",
      "[36]\tvalidation_0-merror:0.50594\tvalidation_1-merror:0.95326\n",
      "[37]\tvalidation_0-merror:0.505805\tvalidation_1-merror:0.95342\n",
      "[38]\tvalidation_0-merror:0.505625\tvalidation_1-merror:0.954194\n",
      "[39]\tvalidation_0-merror:0.505565\tvalidation_1-merror:0.954433\n",
      "[40]\tvalidation_0-merror:0.505505\tvalidation_1-merror:0.955321\n",
      "[41]\tvalidation_0-merror:0.505219\tvalidation_1-merror:0.955321\n",
      "[42]\tvalidation_0-merror:0.505102\tvalidation_1-merror:0.955287\n",
      "[43]\tvalidation_0-merror:0.505272\tvalidation_1-merror:0.955151\n",
      "[44]\tvalidation_0-merror:0.505016\tvalidation_1-merror:0.955458\n",
      "[45]\tvalidation_0-merror:0.505062\tvalidation_1-merror:0.955982\n",
      "[46]\tvalidation_0-merror:0.504652\tvalidation_1-merror:0.955902\n",
      "[47]\tvalidation_0-merror:0.504415\tvalidation_1-merror:0.956927\n",
      "[48]\tvalidation_0-merror:0.504277\tvalidation_1-merror:0.956711\n",
      "[49]\tvalidation_0-merror:0.504209\tvalidation_1-merror:0.956392\n",
      "[50]\tvalidation_0-merror:0.503962\tvalidation_1-merror:0.956335\n",
      "[51]\tvalidation_0-merror:0.503775\tvalidation_1-merror:0.956119\n",
      "[52]\tvalidation_0-merror:0.50347\tvalidation_1-merror:0.956062\n",
      "[53]\tvalidation_0-merror:0.503353\tvalidation_1-merror:0.955823\n",
      "[54]\tvalidation_0-merror:0.503234\tvalidation_1-merror:0.955572\n",
      "[55]\tvalidation_0-merror:0.502935\tvalidation_1-merror:0.955481\n",
      "[56]\tvalidation_0-merror:0.502945\tvalidation_1-merror:0.955333\n",
      "[57]\tvalidation_0-merror:0.502803\tvalidation_1-merror:0.954991\n",
      "[58]\tvalidation_0-merror:0.502724\tvalidation_1-merror:0.955788\n",
      "[59]\tvalidation_0-merror:0.502668\tvalidation_1-merror:0.956244\n",
      "[60]\tvalidation_0-merror:0.502661\tvalidation_1-merror:0.955914\n",
      "[61]\tvalidation_0-merror:0.50256\tvalidation_1-merror:0.956312\n",
      "[62]\tvalidation_0-merror:0.502465\tvalidation_1-merror:0.956221\n",
      "[63]\tvalidation_0-merror:0.502406\tvalidation_1-merror:0.95629\n",
      "[64]\tvalidation_0-merror:0.502309\tvalidation_1-merror:0.956495\n",
      "[65]\tvalidation_0-merror:0.502206\tvalidation_1-merror:0.956517\n",
      "[66]\tvalidation_0-merror:0.502156\tvalidation_1-merror:0.956563\n",
      "[67]\tvalidation_0-merror:0.502061\tvalidation_1-merror:0.957451\n",
      "[68]\tvalidation_0-merror:0.501993\tvalidation_1-merror:0.95728\n",
      "[69]\tvalidation_0-merror:0.501975\tvalidation_1-merror:0.957611\n",
      "[70]\tvalidation_0-merror:0.501922\tvalidation_1-merror:0.957463\n",
      "[71]\tvalidation_0-merror:0.501812\tvalidation_1-merror:0.957702\n",
      "[72]\tvalidation_0-merror:0.501775\tvalidation_1-merror:0.95769\n",
      "[73]\tvalidation_0-merror:0.501755\tvalidation_1-merror:0.957645\n",
      "[74]\tvalidation_0-merror:0.501729\tvalidation_1-merror:0.957668\n",
      "[75]\tvalidation_0-merror:0.501663\tvalidation_1-merror:0.957736\n",
      "[76]\tvalidation_0-merror:0.501588\tvalidation_1-merror:0.957827\n",
      "[77]\tvalidation_0-merror:0.501579\tvalidation_1-merror:0.957929\n",
      "[78]\tvalidation_0-merror:0.501422\tvalidation_1-merror:0.958305\n",
      "[79]\tvalidation_0-merror:0.50143\tvalidation_1-merror:0.958191\n",
      "[80]\tvalidation_0-merror:0.501359\tvalidation_1-merror:0.958328\n",
      "[81]\tvalidation_0-merror:0.501291\tvalidation_1-merror:0.958283\n",
      "[82]\tvalidation_0-merror:0.501236\tvalidation_1-merror:0.958556\n",
      "[83]\tvalidation_0-merror:0.501196\tvalidation_1-merror:0.959\n",
      "[84]\tvalidation_0-merror:0.501141\tvalidation_1-merror:0.959068\n",
      "[85]\tvalidation_0-merror:0.501053\tvalidation_1-merror:0.958909\n",
      "[86]\tvalidation_0-merror:0.501007\tvalidation_1-merror:0.958898\n",
      "Stopping. Best iteration:\n",
      "[36]\tvalidation_0-merror:0.50594\tvalidation_1-merror:0.95326\n",
      "\n",
      "================================Fold3====================================\n",
      "[0]\tvalidation_0-merror:0.510806\tvalidation_1-merror:0.959968\n",
      "Multiple eval metrics have been passed: 'validation_1-merror' will be used for early stopping.\n",
      "\n",
      "Will train until validation_1-merror hasn't improved in 50 rounds.\n",
      "[1]\tvalidation_0-merror:0.510175\tvalidation_1-merror:0.959968\n",
      "[2]\tvalidation_0-merror:0.509808\tvalidation_1-merror:0.960276\n",
      "[3]\tvalidation_0-merror:0.510378\tvalidation_1-merror:0.960276\n",
      "[4]\tvalidation_0-merror:0.510908\tvalidation_1-merror:0.960276\n",
      "[5]\tvalidation_0-merror:0.510466\tvalidation_1-merror:0.960333\n",
      "[6]\tvalidation_0-merror:0.510388\tvalidation_1-merror:0.960071\n",
      "[7]\tvalidation_0-merror:0.51017\tvalidation_1-merror:0.960253\n",
      "[8]\tvalidation_0-merror:0.509565\tvalidation_1-merror:0.960287\n",
      "[9]\tvalidation_0-merror:0.509958\tvalidation_1-merror:0.960503\n",
      "[10]\tvalidation_0-merror:0.509964\tvalidation_1-merror:0.960606\n",
      "[11]\tvalidation_0-merror:0.510084\tvalidation_1-merror:0.960606\n",
      "[12]\tvalidation_0-merror:0.50976\tvalidation_1-merror:0.960572\n",
      "[13]\tvalidation_0-merror:0.509837\tvalidation_1-merror:0.960629\n",
      "[14]\tvalidation_0-merror:0.509691\tvalidation_1-merror:0.960606\n",
      "[15]\tvalidation_0-merror:0.509608\tvalidation_1-merror:0.960594\n",
      "[16]\tvalidation_0-merror:0.509429\tvalidation_1-merror:0.960549\n",
      "[17]\tvalidation_0-merror:0.509334\tvalidation_1-merror:0.960093\n",
      "[18]\tvalidation_0-merror:0.509359\tvalidation_1-merror:0.959877\n",
      "[19]\tvalidation_0-merror:0.509143\tvalidation_1-merror:0.959706\n",
      "[20]\tvalidation_0-merror:0.508864\tvalidation_1-merror:0.959615\n",
      "[21]\tvalidation_0-merror:0.508883\tvalidation_1-merror:0.959604\n",
      "[22]\tvalidation_0-merror:0.508686\tvalidation_1-merror:0.959513\n",
      "[23]\tvalidation_0-merror:0.508262\tvalidation_1-merror:0.959387\n",
      "[24]\tvalidation_0-merror:0.507641\tvalidation_1-merror:0.959216\n",
      "[25]\tvalidation_0-merror:0.507629\tvalidation_1-merror:0.95908\n",
      "[26]\tvalidation_0-merror:0.507646\tvalidation_1-merror:0.958875\n",
      "[27]\tvalidation_0-merror:0.507539\tvalidation_1-merror:0.958806\n",
      "[28]\tvalidation_0-merror:0.5073\tvalidation_1-merror:0.958396\n",
      "[29]\tvalidation_0-merror:0.507041\tvalidation_1-merror:0.956882\n",
      "[30]\tvalidation_0-merror:0.506992\tvalidation_1-merror:0.95055\n",
      "[31]\tvalidation_0-merror:0.50673\tvalidation_1-merror:0.943511\n",
      "[32]\tvalidation_0-merror:0.506823\tvalidation_1-merror:0.933728\n",
      "[33]\tvalidation_0-merror:0.506974\tvalidation_1-merror:0.923751\n",
      "[34]\tvalidation_0-merror:0.506965\tvalidation_1-merror:0.919071\n",
      "[35]\tvalidation_0-merror:0.506961\tvalidation_1-merror:0.911577\n",
      "[36]\tvalidation_0-merror:0.507131\tvalidation_1-merror:0.904368\n",
      "[37]\tvalidation_0-merror:0.507318\tvalidation_1-merror:0.901053\n",
      "[38]\tvalidation_0-merror:0.507234\tvalidation_1-merror:0.898844\n",
      "[39]\tvalidation_0-merror:0.507138\tvalidation_1-merror:0.89807\n",
      "[40]\tvalidation_0-merror:0.507085\tvalidation_1-merror:0.895165\n",
      "[41]\tvalidation_0-merror:0.506755\tvalidation_1-merror:0.901703\n",
      "[42]\tvalidation_0-merror:0.5068\tvalidation_1-merror:0.899972\n",
      "[43]\tvalidation_0-merror:0.506732\tvalidation_1-merror:0.899505\n",
      "[44]\tvalidation_0-merror:0.506498\tvalidation_1-merror:0.90463\n",
      "[45]\tvalidation_0-merror:0.505912\tvalidation_1-merror:0.911679\n",
      "[46]\tvalidation_0-merror:0.505778\tvalidation_1-merror:0.909675\n",
      "[47]\tvalidation_0-merror:0.505596\tvalidation_1-merror:0.907363\n",
      "[48]\tvalidation_0-merror:0.505512\tvalidation_1-merror:0.905791\n",
      "[49]\tvalidation_0-merror:0.505035\tvalidation_1-merror:0.911941\n",
      "[50]\tvalidation_0-merror:0.50452\tvalidation_1-merror:0.91423\n",
      "[51]\tvalidation_0-merror:0.504428\tvalidation_1-merror:0.913536\n",
      "[52]\tvalidation_0-merror:0.504044\tvalidation_1-merror:0.915551\n",
      "[53]\tvalidation_0-merror:0.503986\tvalidation_1-merror:0.914618\n",
      "[54]\tvalidation_0-merror:0.503704\tvalidation_1-merror:0.917818\n",
      "[55]\tvalidation_0-merror:0.50371\tvalidation_1-merror:0.915597\n",
      "[56]\tvalidation_0-merror:0.50356\tvalidation_1-merror:0.916075\n",
      "[57]\tvalidation_0-merror:0.503432\tvalidation_1-merror:0.918034\n",
      "[58]\tvalidation_0-merror:0.503358\tvalidation_1-merror:0.919207\n",
      "[59]\tvalidation_0-merror:0.503145\tvalidation_1-merror:0.921257\n",
      "[60]\tvalidation_0-merror:0.503074\tvalidation_1-merror:0.922362\n",
      "[61]\tvalidation_0-merror:0.503127\tvalidation_1-merror:0.921952\n",
      "[62]\tvalidation_0-merror:0.503045\tvalidation_1-merror:0.92341\n",
      "[63]\tvalidation_0-merror:0.502955\tvalidation_1-merror:0.924879\n",
      "[64]\tvalidation_0-merror:0.502914\tvalidation_1-merror:0.925984\n",
      "[65]\tvalidation_0-merror:0.502862\tvalidation_1-merror:0.925938\n",
      "[66]\tvalidation_0-merror:0.502713\tvalidation_1-merror:0.927441\n",
      "[67]\tvalidation_0-merror:0.50258\tvalidation_1-merror:0.9271\n",
      "[68]\tvalidation_0-merror:0.502425\tvalidation_1-merror:0.929662\n",
      "[69]\tvalidation_0-merror:0.502347\tvalidation_1-merror:0.928968\n",
      "[70]\tvalidation_0-merror:0.502293\tvalidation_1-merror:0.932145\n",
      "[71]\tvalidation_0-merror:0.502216\tvalidation_1-merror:0.933102\n",
      "[72]\tvalidation_0-merror:0.502107\tvalidation_1-merror:0.934947\n",
      "[73]\tvalidation_0-merror:0.502077\tvalidation_1-merror:0.934878\n",
      "[74]\tvalidation_0-merror:0.50193\tvalidation_1-merror:0.936723\n",
      "[75]\tvalidation_0-merror:0.501875\tvalidation_1-merror:0.936678\n",
      "[76]\tvalidation_0-merror:0.50178\tvalidation_1-merror:0.93858\n",
      "[77]\tvalidation_0-merror:0.501724\tvalidation_1-merror:0.938432\n",
      "[78]\tvalidation_0-merror:0.501682\tvalidation_1-merror:0.940277\n",
      "[79]\tvalidation_0-merror:0.501532\tvalidation_1-merror:0.941211\n",
      "[80]\tvalidation_0-merror:0.501522\tvalidation_1-merror:0.94071\n",
      "[81]\tvalidation_0-merror:0.501424\tvalidation_1-merror:0.942475\n",
      "[82]\tvalidation_0-merror:0.501321\tvalidation_1-merror:0.942338\n",
      "[83]\tvalidation_0-merror:0.501281\tvalidation_1-merror:0.94342\n",
      "[84]\tvalidation_0-merror:0.501239\tvalidation_1-merror:0.943648\n",
      "[85]\tvalidation_0-merror:0.501102\tvalidation_1-merror:0.944582\n",
      "[86]\tvalidation_0-merror:0.500988\tvalidation_1-merror:0.945721\n",
      "[87]\tvalidation_0-merror:0.500917\tvalidation_1-merror:0.946131\n",
      "[88]\tvalidation_0-merror:0.500864\tvalidation_1-merror:0.9458\n",
      "[89]\tvalidation_0-merror:0.500879\tvalidation_1-merror:0.94555\n",
      "[90]\tvalidation_0-merror:0.500888\tvalidation_1-merror:0.947429\n",
      "Stopping. Best iteration:\n",
      "[40]\tvalidation_0-merror:0.507085\tvalidation_1-merror:0.895165\n",
      "\n",
      "================================Fold4====================================\n",
      "[0]\tvalidation_0-merror:0.519024\tvalidation_1-merror:0.772371\n",
      "Multiple eval metrics have been passed: 'validation_1-merror' will be used for early stopping.\n",
      "\n",
      "Will train until validation_1-merror hasn't improved in 50 rounds.\n",
      "[1]\tvalidation_0-merror:0.51486\tvalidation_1-merror:0.89635\n",
      "[2]\tvalidation_0-merror:0.514938\tvalidation_1-merror:0.865292\n",
      "[3]\tvalidation_0-merror:0.513083\tvalidation_1-merror:0.929981\n",
      "[4]\tvalidation_0-merror:0.513563\tvalidation_1-merror:0.890826\n",
      "[5]\tvalidation_0-merror:0.512263\tvalidation_1-merror:0.936006\n",
      "[6]\tvalidation_0-merror:0.511739\tvalidation_1-merror:0.946654\n",
      "[7]\tvalidation_0-merror:0.511667\tvalidation_1-merror:0.955151\n",
      "[8]\tvalidation_0-merror:0.511914\tvalidation_1-merror:0.946541\n",
      "[9]\tvalidation_0-merror:0.512463\tvalidation_1-merror:0.936871\n",
      "[10]\tvalidation_0-merror:0.511818\tvalidation_1-merror:0.949388\n",
      "[11]\tvalidation_0-merror:0.511914\tvalidation_1-merror:0.943056\n",
      "[12]\tvalidation_0-merror:0.51168\tvalidation_1-merror:0.948351\n",
      "[13]\tvalidation_0-merror:0.51169\tvalidation_1-merror:0.952805\n",
      "[14]\tvalidation_0-merror:0.511036\tvalidation_1-merror:0.956381\n",
      "[15]\tvalidation_0-merror:0.510673\tvalidation_1-merror:0.965571\n",
      "[16]\tvalidation_0-merror:0.510459\tvalidation_1-merror:0.964057\n",
      "[17]\tvalidation_0-merror:0.51037\tvalidation_1-merror:0.965845\n",
      "[18]\tvalidation_0-merror:0.509997\tvalidation_1-merror:0.970457\n",
      "[19]\tvalidation_0-merror:0.509916\tvalidation_1-merror:0.970389\n",
      "[20]\tvalidation_0-merror:0.509854\tvalidation_1-merror:0.973145\n",
      "[21]\tvalidation_0-merror:0.50941\tvalidation_1-merror:0.969854\n",
      "[22]\tvalidation_0-merror:0.508861\tvalidation_1-merror:0.968191\n",
      "[23]\tvalidation_0-merror:0.508204\tvalidation_1-merror:0.968715\n",
      "[24]\tvalidation_0-merror:0.507957\tvalidation_1-merror:0.964501\n",
      "[25]\tvalidation_0-merror:0.508153\tvalidation_1-merror:0.961654\n",
      "[26]\tvalidation_0-merror:0.507706\tvalidation_1-merror:0.961187\n",
      "[27]\tvalidation_0-merror:0.507629\tvalidation_1-merror:0.958066\n",
      "[28]\tvalidation_0-merror:0.507214\tvalidation_1-merror:0.959888\n",
      "[29]\tvalidation_0-merror:0.506993\tvalidation_1-merror:0.961665\n",
      "[30]\tvalidation_0-merror:0.506493\tvalidation_1-merror:0.967496\n",
      "[31]\tvalidation_0-merror:0.506302\tvalidation_1-merror:0.967861\n",
      "[32]\tvalidation_0-merror:0.506209\tvalidation_1-merror:0.967849\n",
      "[33]\tvalidation_0-merror:0.505898\tvalidation_1-merror:0.969717\n",
      "[34]\tvalidation_0-merror:0.505683\tvalidation_1-merror:0.970822\n",
      "[35]\tvalidation_0-merror:0.505643\tvalidation_1-merror:0.969933\n",
      "[36]\tvalidation_0-merror:0.505268\tvalidation_1-merror:0.972052\n",
      "[37]\tvalidation_0-merror:0.505168\tvalidation_1-merror:0.972484\n",
      "[38]\tvalidation_0-merror:0.505025\tvalidation_1-merror:0.972006\n",
      "[39]\tvalidation_0-merror:0.505047\tvalidation_1-merror:0.971027\n",
      "[40]\tvalidation_0-merror:0.504952\tvalidation_1-merror:0.969854\n",
      "[41]\tvalidation_0-merror:0.504793\tvalidation_1-merror:0.971733\n",
      "[42]\tvalidation_0-merror:0.504743\tvalidation_1-merror:0.971528\n",
      "[43]\tvalidation_0-merror:0.504569\tvalidation_1-merror:0.972792\n",
      "[44]\tvalidation_0-merror:0.504486\tvalidation_1-merror:0.974329\n",
      "[45]\tvalidation_0-merror:0.504357\tvalidation_1-merror:0.973885\n",
      "[46]\tvalidation_0-merror:0.504181\tvalidation_1-merror:0.974375\n",
      "[47]\tvalidation_0-merror:0.504124\tvalidation_1-merror:0.974922\n",
      "[48]\tvalidation_0-merror:0.504087\tvalidation_1-merror:0.976174\n",
      "[49]\tvalidation_0-merror:0.504011\tvalidation_1-merror:0.975673\n",
      "[50]\tvalidation_0-merror:0.503975\tvalidation_1-merror:0.976106\n",
      "Stopping. Best iteration:\n",
      "[0]\tvalidation_0-merror:0.519024\tvalidation_1-merror:0.772371\n",
      "\n",
      "================================Fold5====================================\n",
      "[0]\tvalidation_0-merror:0.523975\tvalidation_1-merror:0.61263\n",
      "Multiple eval metrics have been passed: 'validation_1-merror' will be used for early stopping.\n",
      "\n",
      "Will train until validation_1-merror hasn't improved in 50 rounds.\n",
      "[1]\tvalidation_0-merror:0.52268\tvalidation_1-merror:0.608895\n",
      "[2]\tvalidation_0-merror:0.522711\tvalidation_1-merror:0.610854\n",
      "[3]\tvalidation_0-merror:0.521607\tvalidation_1-merror:0.611093\n",
      "[4]\tvalidation_0-merror:0.521817\tvalidation_1-merror:0.612961\n",
      "[5]\tvalidation_0-merror:0.521244\tvalidation_1-merror:0.616457\n",
      "[6]\tvalidation_0-merror:0.521428\tvalidation_1-merror:0.611822\n",
      "[7]\tvalidation_0-merror:0.521719\tvalidation_1-merror:0.607323\n",
      "[8]\tvalidation_0-merror:0.521669\tvalidation_1-merror:0.601686\n",
      "[9]\tvalidation_0-merror:0.521162\tvalidation_1-merror:0.619111\n",
      "[10]\tvalidation_0-merror:0.521052\tvalidation_1-merror:0.625773\n",
      "[11]\tvalidation_0-merror:0.520853\tvalidation_1-merror:0.62665\n",
      "[12]\tvalidation_0-merror:0.519634\tvalidation_1-merror:0.663595\n",
      "[13]\tvalidation_0-merror:0.518861\tvalidation_1-merror:0.67585\n",
      "[14]\tvalidation_0-merror:0.517755\tvalidation_1-merror:0.697113\n",
      "[15]\tvalidation_0-merror:0.516881\tvalidation_1-merror:0.742076\n",
      "[16]\tvalidation_0-merror:0.515126\tvalidation_1-merror:0.823974\n",
      "[17]\tvalidation_0-merror:0.515224\tvalidation_1-merror:0.826126\n",
      "[18]\tvalidation_0-merror:0.514277\tvalidation_1-merror:0.850373\n",
      "[19]\tvalidation_0-merror:0.514583\tvalidation_1-merror:0.83108\n",
      "[20]\tvalidation_0-merror:0.514635\tvalidation_1-merror:0.826035\n",
      "[21]\tvalidation_0-merror:0.514247\tvalidation_1-merror:0.826308\n",
      "[22]\tvalidation_0-merror:0.514211\tvalidation_1-merror:0.823917\n",
      "[23]\tvalidation_0-merror:0.51425\tvalidation_1-merror:0.820807\n",
      "[24]\tvalidation_0-merror:0.514244\tvalidation_1-merror:0.800547\n",
      "[25]\tvalidation_0-merror:0.514554\tvalidation_1-merror:0.784477\n",
      "[26]\tvalidation_0-merror:0.515197\tvalidation_1-merror:0.740812\n",
      "[27]\tvalidation_0-merror:0.515394\tvalidation_1-merror:0.732327\n",
      "[28]\tvalidation_0-merror:0.515709\tvalidation_1-merror:0.71234\n",
      "[29]\tvalidation_0-merror:0.514441\tvalidation_1-merror:0.775355\n",
      "[30]\tvalidation_0-merror:0.514727\tvalidation_1-merror:0.748682\n",
      "[31]\tvalidation_0-merror:0.513959\tvalidation_1-merror:0.789386\n",
      "[32]\tvalidation_0-merror:0.513153\tvalidation_1-merror:0.807585\n",
      "[33]\tvalidation_0-merror:0.51261\tvalidation_1-merror:0.823359\n",
      "[34]\tvalidation_0-merror:0.512816\tvalidation_1-merror:0.811309\n",
      "[35]\tvalidation_0-merror:0.51212\tvalidation_1-merror:0.827755\n",
      "[36]\tvalidation_0-merror:0.511546\tvalidation_1-merror:0.847788\n",
      "[37]\tvalidation_0-merror:0.510978\tvalidation_1-merror:0.858903\n",
      "[38]\tvalidation_0-merror:0.510774\tvalidation_1-merror:0.850305\n",
      "[39]\tvalidation_0-merror:0.510264\tvalidation_1-merror:0.864005\n",
      "[40]\tvalidation_0-merror:0.509932\tvalidation_1-merror:0.870805\n",
      "[41]\tvalidation_0-merror:0.509744\tvalidation_1-merror:0.870315\n",
      "[42]\tvalidation_0-merror:0.50924\tvalidation_1-merror:0.883036\n",
      "[43]\tvalidation_0-merror:0.508733\tvalidation_1-merror:0.893172\n",
      "[44]\tvalidation_0-merror:0.508523\tvalidation_1-merror:0.900712\n",
      "[45]\tvalidation_0-merror:0.508158\tvalidation_1-merror:0.905803\n",
      "[46]\tvalidation_0-merror:0.507936\tvalidation_1-merror:0.903787\n",
      "[47]\tvalidation_0-merror:0.507534\tvalidation_1-merror:0.908923\n",
      "[48]\tvalidation_0-merror:0.507037\tvalidation_1-merror:0.914139\n",
      "[49]\tvalidation_0-merror:0.506682\tvalidation_1-merror:0.916941\n",
      "[50]\tvalidation_0-merror:0.506525\tvalidation_1-merror:0.916292\n",
      "[51]\tvalidation_0-merror:0.506183\tvalidation_1-merror:0.918444\n",
      "[52]\tvalidation_0-merror:0.506006\tvalidation_1-merror:0.920608\n",
      "[53]\tvalidation_0-merror:0.505818\tvalidation_1-merror:0.922066\n",
      "[54]\tvalidation_0-merror:0.50581\tvalidation_1-merror:0.92185\n",
      "[55]\tvalidation_0-merror:0.505611\tvalidation_1-merror:0.924697\n",
      "[56]\tvalidation_0-merror:0.505448\tvalidation_1-merror:0.926678\n",
      "[57]\tvalidation_0-merror:0.505219\tvalidation_1-merror:0.926792\n",
      "[58]\tvalidation_0-merror:0.505138\tvalidation_1-merror:0.928876\n",
      "Stopping. Best iteration:\n",
      "[8]\tvalidation_0-merror:0.521669\tvalidation_1-merror:0.601686\n",
      "\n",
      "================================Fold6====================================\n",
      "[0]\tvalidation_0-merror:0.523175\tvalidation_1-merror:0.608906\n",
      "Multiple eval metrics have been passed: 'validation_1-merror' will be used for early stopping.\n",
      "\n",
      "Will train until validation_1-merror hasn't improved in 50 rounds.\n",
      "[1]\tvalidation_0-merror:0.524142\tvalidation_1-merror:0.549263\n",
      "[2]\tvalidation_0-merror:0.520405\tvalidation_1-merror:0.641285\n",
      "[3]\tvalidation_0-merror:0.514674\tvalidation_1-merror:0.78393\n",
      "[4]\tvalidation_0-merror:0.516907\tvalidation_1-merror:0.701828\n",
      "[5]\tvalidation_0-merror:0.514475\tvalidation_1-merror:0.786743\n",
      "[6]\tvalidation_0-merror:0.514689\tvalidation_1-merror:0.797301\n",
      "[7]\tvalidation_0-merror:0.514148\tvalidation_1-merror:0.788418\n",
      "[8]\tvalidation_0-merror:0.51531\tvalidation_1-merror:0.70947\n",
      "[9]\tvalidation_0-merror:0.513601\tvalidation_1-merror:0.791162\n",
      "[10]\tvalidation_0-merror:0.513665\tvalidation_1-merror:0.796435\n",
      "[11]\tvalidation_0-merror:0.513438\tvalidation_1-merror:0.805751\n",
      "[12]\tvalidation_0-merror:0.513238\tvalidation_1-merror:0.865167\n",
      "[13]\tvalidation_0-merror:0.513055\tvalidation_1-merror:0.883355\n",
      "[14]\tvalidation_0-merror:0.512749\tvalidation_1-merror:0.883868\n",
      "[15]\tvalidation_0-merror:0.513019\tvalidation_1-merror:0.883982\n",
      "[16]\tvalidation_0-merror:0.512847\tvalidation_1-merror:0.884494\n",
      "[17]\tvalidation_0-merror:0.512483\tvalidation_1-merror:0.885234\n",
      "[18]\tvalidation_0-merror:0.512386\tvalidation_1-merror:0.885462\n",
      "[19]\tvalidation_0-merror:0.512373\tvalidation_1-merror:0.886157\n",
      "[20]\tvalidation_0-merror:0.511877\tvalidation_1-merror:0.88618\n",
      "[21]\tvalidation_0-merror:0.51157\tvalidation_1-merror:0.885792\n",
      "[22]\tvalidation_0-merror:0.511512\tvalidation_1-merror:0.885815\n",
      "[23]\tvalidation_0-merror:0.511584\tvalidation_1-merror:0.883925\n",
      "[24]\tvalidation_0-merror:0.511438\tvalidation_1-merror:0.883879\n",
      "[25]\tvalidation_0-merror:0.51141\tvalidation_1-merror:0.883947\n",
      "[26]\tvalidation_0-merror:0.51136\tvalidation_1-merror:0.883093\n",
      "[27]\tvalidation_0-merror:0.511226\tvalidation_1-merror:0.882524\n",
      "[28]\tvalidation_0-merror:0.511186\tvalidation_1-merror:0.882057\n",
      "[29]\tvalidation_0-merror:0.511069\tvalidation_1-merror:0.881476\n",
      "[30]\tvalidation_0-merror:0.511081\tvalidation_1-merror:0.881613\n",
      "[31]\tvalidation_0-merror:0.5109\tvalidation_1-merror:0.881055\n",
      "[32]\tvalidation_0-merror:0.510743\tvalidation_1-merror:0.881009\n",
      "[33]\tvalidation_0-merror:0.510717\tvalidation_1-merror:0.880804\n",
      "[34]\tvalidation_0-merror:0.510417\tvalidation_1-merror:0.880269\n",
      "[35]\tvalidation_0-merror:0.510464\tvalidation_1-merror:0.880052\n",
      "[36]\tvalidation_0-merror:0.51032\tvalidation_1-merror:0.879961\n",
      "[37]\tvalidation_0-merror:0.510092\tvalidation_1-merror:0.88003\n",
      "[38]\tvalidation_0-merror:0.510075\tvalidation_1-merror:0.879665\n",
      "[39]\tvalidation_0-merror:0.509824\tvalidation_1-merror:0.879426\n",
      "[40]\tvalidation_0-merror:0.509721\tvalidation_1-merror:0.878914\n",
      "[41]\tvalidation_0-merror:0.509727\tvalidation_1-merror:0.878731\n",
      "[42]\tvalidation_0-merror:0.509522\tvalidation_1-merror:0.878435\n",
      "[43]\tvalidation_0-merror:0.509381\tvalidation_1-merror:0.87815\n",
      "[44]\tvalidation_0-merror:0.509301\tvalidation_1-merror:0.878355\n",
      "[45]\tvalidation_0-merror:0.509215\tvalidation_1-merror:0.877991\n",
      "[46]\tvalidation_0-merror:0.50922\tvalidation_1-merror:0.877604\n",
      "[47]\tvalidation_0-merror:0.509181\tvalidation_1-merror:0.877581\n",
      "[48]\tvalidation_0-merror:0.509135\tvalidation_1-merror:0.877262\n",
      "[49]\tvalidation_0-merror:0.50904\tvalidation_1-merror:0.876829\n",
      "[50]\tvalidation_0-merror:0.508953\tvalidation_1-merror:0.876784\n",
      "[51]\tvalidation_0-merror:0.508793\tvalidation_1-merror:0.876397\n",
      "Stopping. Best iteration:\n",
      "[1]\tvalidation_0-merror:0.524142\tvalidation_1-merror:0.549263\n",
      "\n",
      "================================Fold7====================================\n",
      "[0]\tvalidation_0-merror:0.524735\tvalidation_1-merror:0.529662\n",
      "Multiple eval metrics have been passed: 'validation_1-merror' will be used for early stopping.\n",
      "\n",
      "Will train until validation_1-merror hasn't improved in 50 rounds.\n",
      "[1]\tvalidation_0-merror:0.524377\tvalidation_1-merror:0.527635\n",
      "[2]\tvalidation_0-merror:0.521616\tvalidation_1-merror:0.562975\n",
      "[3]\tvalidation_0-merror:0.519151\tvalidation_1-merror:0.651261\n",
      "[4]\tvalidation_0-merror:0.520167\tvalidation_1-merror:0.630454\n",
      "[5]\tvalidation_0-merror:0.518111\tvalidation_1-merror:0.662309\n",
      "[6]\tvalidation_0-merror:0.516305\tvalidation_1-merror:0.73973\n",
      "[7]\tvalidation_0-merror:0.516711\tvalidation_1-merror:0.710096\n",
      "[8]\tvalidation_0-merror:0.517617\tvalidation_1-merror:0.675292\n",
      "[9]\tvalidation_0-merror:0.516387\tvalidation_1-merror:0.724389\n",
      "[10]\tvalidation_0-merror:0.515474\tvalidation_1-merror:0.750834\n",
      "[11]\tvalidation_0-merror:0.515882\tvalidation_1-merror:0.740789\n",
      "[12]\tvalidation_0-merror:0.516778\tvalidation_1-merror:0.713832\n",
      "[13]\tvalidation_0-merror:0.515809\tvalidation_1-merror:0.74826\n",
      "[14]\tvalidation_0-merror:0.515178\tvalidation_1-merror:0.759945\n",
      "[15]\tvalidation_0-merror:0.515383\tvalidation_1-merror:0.771858\n",
      "[16]\tvalidation_0-merror:0.515095\tvalidation_1-merror:0.777211\n",
      "[17]\tvalidation_0-merror:0.514759\tvalidation_1-merror:0.790331\n",
      "[18]\tvalidation_0-merror:0.514866\tvalidation_1-merror:0.808006\n",
      "[19]\tvalidation_0-merror:0.51442\tvalidation_1-merror:0.809157\n",
      "[20]\tvalidation_0-merror:0.514388\tvalidation_1-merror:0.810512\n",
      "[21]\tvalidation_0-merror:0.514439\tvalidation_1-merror:0.811799\n",
      "[22]\tvalidation_0-merror:0.514336\tvalidation_1-merror:0.812653\n",
      "[23]\tvalidation_0-merror:0.514373\tvalidation_1-merror:0.812596\n",
      "[24]\tvalidation_0-merror:0.514407\tvalidation_1-merror:0.812699\n",
      "[25]\tvalidation_0-merror:0.51431\tvalidation_1-merror:0.812687\n",
      "[26]\tvalidation_0-merror:0.514359\tvalidation_1-merror:0.812995\n",
      "[27]\tvalidation_0-merror:0.514311\tvalidation_1-merror:0.812915\n",
      "[28]\tvalidation_0-merror:0.514172\tvalidation_1-merror:0.813052\n",
      "[29]\tvalidation_0-merror:0.514256\tvalidation_1-merror:0.813177\n",
      "[30]\tvalidation_0-merror:0.514182\tvalidation_1-merror:0.813222\n",
      "[31]\tvalidation_0-merror:0.514197\tvalidation_1-merror:0.813177\n",
      "[32]\tvalidation_0-merror:0.514225\tvalidation_1-merror:0.813268\n",
      "[33]\tvalidation_0-merror:0.513993\tvalidation_1-merror:0.813302\n",
      "[34]\tvalidation_0-merror:0.513773\tvalidation_1-merror:0.813268\n",
      "[35]\tvalidation_0-merror:0.513805\tvalidation_1-merror:0.813177\n",
      "[36]\tvalidation_0-merror:0.513669\tvalidation_1-merror:0.812995\n",
      "[37]\tvalidation_0-merror:0.51361\tvalidation_1-merror:0.813029\n",
      "[38]\tvalidation_0-merror:0.513621\tvalidation_1-merror:0.8132\n",
      "[39]\tvalidation_0-merror:0.513463\tvalidation_1-merror:0.813143\n",
      "[40]\tvalidation_0-merror:0.513362\tvalidation_1-merror:0.812938\n",
      "[41]\tvalidation_0-merror:0.513319\tvalidation_1-merror:0.812983\n",
      "[42]\tvalidation_0-merror:0.513306\tvalidation_1-merror:0.812551\n",
      "[43]\tvalidation_0-merror:0.513334\tvalidation_1-merror:0.811526\n",
      "[44]\tvalidation_0-merror:0.513293\tvalidation_1-merror:0.811469\n",
      "[45]\tvalidation_0-merror:0.513392\tvalidation_1-merror:0.811309\n",
      "[46]\tvalidation_0-merror:0.513381\tvalidation_1-merror:0.811548\n",
      "[47]\tvalidation_0-merror:0.513319\tvalidation_1-merror:0.811321\n",
      "[48]\tvalidation_0-merror:0.513266\tvalidation_1-merror:0.811093\n",
      "[49]\tvalidation_0-merror:0.513216\tvalidation_1-merror:0.811024\n",
      "[50]\tvalidation_0-merror:0.513166\tvalidation_1-merror:0.810808\n",
      "[51]\tvalidation_0-merror:0.513098\tvalidation_1-merror:0.81074\n",
      "Stopping. Best iteration:\n",
      "[1]\tvalidation_0-merror:0.524377\tvalidation_1-merror:0.527635\n",
      "\n",
      "================================Fold8====================================\n",
      "[0]\tvalidation_0-merror:0.524566\tvalidation_1-merror:0.52669\n",
      "Multiple eval metrics have been passed: 'validation_1-merror' will be used for early stopping.\n",
      "\n",
      "Will train until validation_1-merror hasn't improved in 50 rounds.\n",
      "[1]\tvalidation_0-merror:0.525305\tvalidation_1-merror:0.527339\n",
      "[2]\tvalidation_0-merror:0.524101\tvalidation_1-merror:0.527453\n",
      "[3]\tvalidation_0-merror:0.522225\tvalidation_1-merror:0.569432\n",
      "[4]\tvalidation_0-merror:0.52207\tvalidation_1-merror:0.628962\n",
      "[5]\tvalidation_0-merror:0.521736\tvalidation_1-merror:0.654074\n",
      "[6]\tvalidation_0-merror:0.520735\tvalidation_1-merror:0.681009\n",
      "[7]\tvalidation_0-merror:0.52012\tvalidation_1-merror:0.70816\n",
      "[8]\tvalidation_0-merror:0.519731\tvalidation_1-merror:0.743716\n",
      "[9]\tvalidation_0-merror:0.519567\tvalidation_1-merror:0.757485\n",
      "[10]\tvalidation_0-merror:0.519827\tvalidation_1-merror:0.760014\n",
      "[11]\tvalidation_0-merror:0.520034\tvalidation_1-merror:0.780195\n",
      "[12]\tvalidation_0-merror:0.520093\tvalidation_1-merror:0.787449\n",
      "[13]\tvalidation_0-merror:0.520057\tvalidation_1-merror:0.788588\n",
      "[14]\tvalidation_0-merror:0.51997\tvalidation_1-merror:0.794192\n",
      "[15]\tvalidation_0-merror:0.519807\tvalidation_1-merror:0.796606\n",
      "[16]\tvalidation_0-merror:0.519536\tvalidation_1-merror:0.798827\n",
      "[17]\tvalidation_0-merror:0.519509\tvalidation_1-merror:0.800011\n",
      "[18]\tvalidation_0-merror:0.519373\tvalidation_1-merror:0.806093\n",
      "[19]\tvalidation_0-merror:0.519336\tvalidation_1-merror:0.805341\n",
      "[20]\tvalidation_0-merror:0.51914\tvalidation_1-merror:0.805273\n",
      "[21]\tvalidation_0-merror:0.519028\tvalidation_1-merror:0.804829\n",
      "[22]\tvalidation_0-merror:0.51895\tvalidation_1-merror:0.804954\n",
      "[23]\tvalidation_0-merror:0.51876\tvalidation_1-merror:0.804499\n",
      "[24]\tvalidation_0-merror:0.518652\tvalidation_1-merror:0.804567\n",
      "[25]\tvalidation_0-merror:0.518627\tvalidation_1-merror:0.804533\n",
      "[26]\tvalidation_0-merror:0.518617\tvalidation_1-merror:0.805\n",
      "[27]\tvalidation_0-merror:0.518437\tvalidation_1-merror:0.804886\n",
      "[28]\tvalidation_0-merror:0.518577\tvalidation_1-merror:0.804601\n",
      "[29]\tvalidation_0-merror:0.518565\tvalidation_1-merror:0.804897\n",
      "[30]\tvalidation_0-merror:0.518535\tvalidation_1-merror:0.804817\n",
      "[31]\tvalidation_0-merror:0.518454\tvalidation_1-merror:0.805751\n",
      "[32]\tvalidation_0-merror:0.518394\tvalidation_1-merror:0.805273\n",
      "[33]\tvalidation_0-merror:0.518291\tvalidation_1-merror:0.805262\n",
      "[34]\tvalidation_0-merror:0.518496\tvalidation_1-merror:0.805376\n",
      "[35]\tvalidation_0-merror:0.518504\tvalidation_1-merror:0.805216\n",
      "[36]\tvalidation_0-merror:0.518231\tvalidation_1-merror:0.805489\n",
      "[37]\tvalidation_0-merror:0.518098\tvalidation_1-merror:0.805364\n",
      "[38]\tvalidation_0-merror:0.518122\tvalidation_1-merror:0.805\n",
      "[39]\tvalidation_0-merror:0.518105\tvalidation_1-merror:0.805148\n",
      "[40]\tvalidation_0-merror:0.518043\tvalidation_1-merror:0.804988\n",
      "[41]\tvalidation_0-merror:0.517956\tvalidation_1-merror:0.804874\n",
      "[42]\tvalidation_0-merror:0.517931\tvalidation_1-merror:0.805079\n",
      "[43]\tvalidation_0-merror:0.517924\tvalidation_1-merror:0.804806\n",
      "[44]\tvalidation_0-merror:0.517831\tvalidation_1-merror:0.804704\n",
      "[45]\tvalidation_0-merror:0.517726\tvalidation_1-merror:0.804658\n",
      "[46]\tvalidation_0-merror:0.517545\tvalidation_1-merror:0.804647\n",
      "[47]\tvalidation_0-merror:0.517414\tvalidation_1-merror:0.804453\n",
      "[48]\tvalidation_0-merror:0.517352\tvalidation_1-merror:0.804806\n",
      "[49]\tvalidation_0-merror:0.517297\tvalidation_1-merror:0.804487\n",
      "[50]\tvalidation_0-merror:0.517244\tvalidation_1-merror:0.805182\n",
      "Stopping. Best iteration:\n",
      "[0]\tvalidation_0-merror:0.524566\tvalidation_1-merror:0.52669\n",
      "\n",
      "================================Fold9====================================\n",
      "[0]\tvalidation_0-merror:0.525359\tvalidation_1-merror:0.534235\n",
      "Multiple eval metrics have been passed: 'validation_1-merror' will be used for early stopping.\n",
      "\n",
      "Will train until validation_1-merror hasn't improved in 50 rounds.\n",
      "[1]\tvalidation_0-merror:0.524756\tvalidation_1-merror:0.534156\n",
      "[2]\tvalidation_0-merror:0.525179\tvalidation_1-merror:0.528609\n",
      "[3]\tvalidation_0-merror:0.52453\tvalidation_1-merror:0.528472\n",
      "[4]\tvalidation_0-merror:0.523372\tvalidation_1-merror:0.53173\n",
      "[5]\tvalidation_0-merror:0.523366\tvalidation_1-merror:0.531958\n",
      "[6]\tvalidation_0-merror:0.523087\tvalidation_1-merror:0.531946\n",
      "[7]\tvalidation_0-merror:0.522914\tvalidation_1-merror:0.532219\n",
      "[8]\tvalidation_0-merror:0.522628\tvalidation_1-merror:0.532447\n",
      "[9]\tvalidation_0-merror:0.522615\tvalidation_1-merror:0.532481\n",
      "[10]\tvalidation_0-merror:0.522595\tvalidation_1-merror:0.532527\n",
      "[11]\tvalidation_0-merror:0.522829\tvalidation_1-merror:0.53296\n",
      "[12]\tvalidation_0-merror:0.522905\tvalidation_1-merror:0.533461\n",
      "[13]\tvalidation_0-merror:0.522942\tvalidation_1-merror:0.533506\n",
      "[14]\tvalidation_0-merror:0.522935\tvalidation_1-merror:0.533415\n",
      "[15]\tvalidation_0-merror:0.523012\tvalidation_1-merror:0.5337\n",
      "[16]\tvalidation_0-merror:0.522914\tvalidation_1-merror:0.533871\n",
      "[17]\tvalidation_0-merror:0.522806\tvalidation_1-merror:0.534008\n",
      "[18]\tvalidation_0-merror:0.522814\tvalidation_1-merror:0.534042\n",
      "[19]\tvalidation_0-merror:0.522826\tvalidation_1-merror:0.534019\n",
      "[20]\tvalidation_0-merror:0.522599\tvalidation_1-merror:0.534076\n",
      "[21]\tvalidation_0-merror:0.522514\tvalidation_1-merror:0.534076\n",
      "[22]\tvalidation_0-merror:0.522434\tvalidation_1-merror:0.533859\n",
      "[23]\tvalidation_0-merror:0.522346\tvalidation_1-merror:0.534087\n",
      "[24]\tvalidation_0-merror:0.522156\tvalidation_1-merror:0.533871\n",
      "[25]\tvalidation_0-merror:0.522141\tvalidation_1-merror:0.533768\n",
      "[26]\tvalidation_0-merror:0.521999\tvalidation_1-merror:0.533803\n",
      "[27]\tvalidation_0-merror:0.522031\tvalidation_1-merror:0.533837\n",
      "[28]\tvalidation_0-merror:0.521994\tvalidation_1-merror:0.533905\n",
      "[29]\tvalidation_0-merror:0.522103\tvalidation_1-merror:0.533848\n",
      "[30]\tvalidation_0-merror:0.521875\tvalidation_1-merror:0.533848\n",
      "[31]\tvalidation_0-merror:0.52179\tvalidation_1-merror:0.533814\n",
      "[32]\tvalidation_0-merror:0.521855\tvalidation_1-merror:0.533894\n",
      "[33]\tvalidation_0-merror:0.521915\tvalidation_1-merror:0.53378\n",
      "[34]\tvalidation_0-merror:0.52169\tvalidation_1-merror:0.533837\n",
      "[35]\tvalidation_0-merror:0.521757\tvalidation_1-merror:0.533871\n",
      "[36]\tvalidation_0-merror:0.5217\tvalidation_1-merror:0.533973\n",
      "[37]\tvalidation_0-merror:0.521709\tvalidation_1-merror:0.533951\n",
      "[38]\tvalidation_0-merror:0.521478\tvalidation_1-merror:0.533894\n",
      "[39]\tvalidation_0-merror:0.521479\tvalidation_1-merror:0.533916\n",
      "[40]\tvalidation_0-merror:0.521428\tvalidation_1-merror:0.533814\n",
      "[41]\tvalidation_0-merror:0.521488\tvalidation_1-merror:0.533859\n",
      "[42]\tvalidation_0-merror:0.521409\tvalidation_1-merror:0.533837\n",
      "[43]\tvalidation_0-merror:0.521372\tvalidation_1-merror:0.533791\n",
      "[44]\tvalidation_0-merror:0.521369\tvalidation_1-merror:0.533939\n",
      "[45]\tvalidation_0-merror:0.521304\tvalidation_1-merror:0.534065\n",
      "[46]\tvalidation_0-merror:0.521188\tvalidation_1-merror:0.53403\n",
      "[47]\tvalidation_0-merror:0.521171\tvalidation_1-merror:0.534178\n",
      "[48]\tvalidation_0-merror:0.521127\tvalidation_1-merror:0.534235\n",
      "[49]\tvalidation_0-merror:0.521068\tvalidation_1-merror:0.534292\n",
      "[50]\tvalidation_0-merror:0.520994\tvalidation_1-merror:0.53419\n",
      "[51]\tvalidation_0-merror:0.520922\tvalidation_1-merror:0.53419\n",
      "[52]\tvalidation_0-merror:0.520792\tvalidation_1-merror:0.534452\n",
      "[53]\tvalidation_0-merror:0.520807\tvalidation_1-merror:0.534418\n",
      "Stopping. Best iteration:\n",
      "[3]\tvalidation_0-merror:0.52453\tvalidation_1-merror:0.528472\n",
      "\n"
     ]
    }
   ],
   "source": [
    "scores1 = []\n",
    "for fold,(tr_in,te_in) in enumerate(kf.split(data, target)):\n",
    "    print(f\"================================Fold{fold}====================================\")\n",
    "    X_train,X_test = data.iloc[tr_in],data.iloc[te_in]\n",
    "    y_train,y_test = target.iloc[tr_in],target.iloc[te_in]\n",
    "    xgb.fit(X_train,y_train,eval_set=[(X_train,y_train),(X_test,y_test)],early_stopping_rounds=50)\n",
    "    y_pred = xgb.predict(X_test)\n",
    "    scores1.append(accuracy_score(y_test,y_pred))"
   ]
  },
  {
   "cell_type": "code",
   "execution_count": 27,
   "metadata": {
    "colab": {
     "base_uri": "https://localhost:8080/",
     "height": 36
    },
    "colab_type": "code",
    "id": "YQRkgwFlVRCV",
    "outputId": "32d6b5ef-b2de-46eb-dff7-9ec2898629ba"
   },
   "outputs": [
    {
     "name": "stdout",
     "output_type": "stream",
     "text": [
      "ACCURACY:  0.2996793707960744 0.16179724217914315\n"
     ]
    }
   ],
   "source": [
    "print('ACCURACY: ', mean(scores1), (std(scores1)))"
   ]
  },
  {
   "cell_type": "code",
   "execution_count": 28,
   "metadata": {
    "colab": {},
    "colab_type": "code",
    "id": "tpd3nK_Pqxzn"
   },
   "outputs": [],
   "source": [
    "lgbm = LGBMClassifier(boosting_type='gbdt', objective='multiclass', num_leaves=50,\n",
    "                                learning_rate=0.05, n_estimators=100, max_depth=5,\n",
    "                                bagging_fraction=0.9, feature_fraction=0.9, reg_lambda=0.2)"
   ]
  },
  {
   "cell_type": "code",
   "execution_count": 29,
   "metadata": {
    "colab": {
     "base_uri": "https://localhost:8080/",
     "height": 1000
    },
    "colab_type": "code",
    "id": "wCmiNE_Oq0Lc",
    "outputId": "458dc6b3-9597-4fe5-ae48-8638a6fa2e95"
   },
   "outputs": [
    {
     "name": "stdout",
     "output_type": "stream",
     "text": [
      "================================Fold0====================================\n",
      "[1]\ttraining's multi_logloss: 1.40271\tvalid_1's multi_logloss: 1.40715\n",
      "Training until validation scores don't improve for 50 rounds.\n",
      "[2]\ttraining's multi_logloss: 1.39965\tvalid_1's multi_logloss: 1.41065\n",
      "[3]\ttraining's multi_logloss: 1.3967\tvalid_1's multi_logloss: 1.41506\n",
      "[4]\ttraining's multi_logloss: 1.39378\tvalid_1's multi_logloss: 1.42257\n",
      "[5]\ttraining's multi_logloss: 1.39127\tvalid_1's multi_logloss: 1.42823\n",
      "[6]\ttraining's multi_logloss: 1.38863\tvalid_1's multi_logloss: 1.4363\n",
      "[7]\ttraining's multi_logloss: 1.38621\tvalid_1's multi_logloss: 1.44748\n",
      "[8]\ttraining's multi_logloss: 1.38389\tvalid_1's multi_logloss: 1.45979\n",
      "[9]\ttraining's multi_logloss: 1.38171\tvalid_1's multi_logloss: 1.46522\n",
      "[10]\ttraining's multi_logloss: 1.37966\tvalid_1's multi_logloss: 1.47899\n",
      "[11]\ttraining's multi_logloss: 1.37791\tvalid_1's multi_logloss: 1.48767\n",
      "[12]\ttraining's multi_logloss: 1.37607\tvalid_1's multi_logloss: 1.50285\n",
      "[13]\ttraining's multi_logloss: 1.37437\tvalid_1's multi_logloss: 1.51586\n",
      "[14]\ttraining's multi_logloss: 1.37265\tvalid_1's multi_logloss: 1.53146\n",
      "[15]\ttraining's multi_logloss: 1.37096\tvalid_1's multi_logloss: 1.54746\n",
      "[16]\ttraining's multi_logloss: 1.36942\tvalid_1's multi_logloss: 1.55886\n",
      "[17]\ttraining's multi_logloss: 1.36799\tvalid_1's multi_logloss: 1.57566\n",
      "[18]\ttraining's multi_logloss: 1.36653\tvalid_1's multi_logloss: 1.58827\n",
      "[19]\ttraining's multi_logloss: 1.36514\tvalid_1's multi_logloss: 1.60126\n",
      "[20]\ttraining's multi_logloss: 1.36384\tvalid_1's multi_logloss: 1.61486\n",
      "[21]\ttraining's multi_logloss: 1.36264\tvalid_1's multi_logloss: 1.6325\n",
      "[22]\ttraining's multi_logloss: 1.36165\tvalid_1's multi_logloss: 1.65233\n",
      "[23]\ttraining's multi_logloss: 1.36046\tvalid_1's multi_logloss: 1.66514\n",
      "[24]\ttraining's multi_logloss: 1.35937\tvalid_1's multi_logloss: 1.67876\n",
      "[25]\ttraining's multi_logloss: 1.35825\tvalid_1's multi_logloss: 1.68858\n",
      "[26]\ttraining's multi_logloss: 1.35713\tvalid_1's multi_logloss: 1.6992\n",
      "[27]\ttraining's multi_logloss: 1.35627\tvalid_1's multi_logloss: 1.70846\n",
      "[28]\ttraining's multi_logloss: 1.35529\tvalid_1's multi_logloss: 1.72202\n",
      "[29]\ttraining's multi_logloss: 1.35436\tvalid_1's multi_logloss: 1.73684\n",
      "[30]\ttraining's multi_logloss: 1.35351\tvalid_1's multi_logloss: 1.74957\n",
      "[31]\ttraining's multi_logloss: 1.3526\tvalid_1's multi_logloss: 1.77029\n",
      "[32]\ttraining's multi_logloss: 1.3518\tvalid_1's multi_logloss: 1.78598\n",
      "[33]\ttraining's multi_logloss: 1.35106\tvalid_1's multi_logloss: 1.79844\n",
      "[34]\ttraining's multi_logloss: 1.35024\tvalid_1's multi_logloss: 1.81103\n",
      "[35]\ttraining's multi_logloss: 1.34953\tvalid_1's multi_logloss: 1.83123\n",
      "[36]\ttraining's multi_logloss: 1.34879\tvalid_1's multi_logloss: 1.84349\n",
      "[37]\ttraining's multi_logloss: 1.3481\tvalid_1's multi_logloss: 1.86454\n",
      "[38]\ttraining's multi_logloss: 1.34747\tvalid_1's multi_logloss: 1.88564\n",
      "[39]\ttraining's multi_logloss: 1.34692\tvalid_1's multi_logloss: 1.89722\n",
      "[40]\ttraining's multi_logloss: 1.34632\tvalid_1's multi_logloss: 1.91895\n",
      "[41]\ttraining's multi_logloss: 1.34574\tvalid_1's multi_logloss: 1.93871\n",
      "[42]\ttraining's multi_logloss: 1.34519\tvalid_1's multi_logloss: 1.96063\n",
      "[43]\ttraining's multi_logloss: 1.34464\tvalid_1's multi_logloss: 1.98278\n",
      "[44]\ttraining's multi_logloss: 1.34417\tvalid_1's multi_logloss: 1.99248\n",
      "[45]\ttraining's multi_logloss: 1.3437\tvalid_1's multi_logloss: 2.01467\n",
      "[46]\ttraining's multi_logloss: 1.34324\tvalid_1's multi_logloss: 2.0385\n",
      "[47]\ttraining's multi_logloss: 1.34277\tvalid_1's multi_logloss: 2.05859\n",
      "[48]\ttraining's multi_logloss: 1.34227\tvalid_1's multi_logloss: 2.07938\n",
      "[49]\ttraining's multi_logloss: 1.3418\tvalid_1's multi_logloss: 2.10157\n",
      "[50]\ttraining's multi_logloss: 1.34137\tvalid_1's multi_logloss: 2.11645\n",
      "[51]\ttraining's multi_logloss: 1.34095\tvalid_1's multi_logloss: 2.13366\n",
      "Early stopping, best iteration is:\n",
      "[1]\ttraining's multi_logloss: 1.40271\tvalid_1's multi_logloss: 1.40715\n",
      "================================Fold1====================================\n",
      "[1]\ttraining's multi_logloss: 1.40227\tvalid_1's multi_logloss: 1.41533\n",
      "Training until validation scores don't improve for 50 rounds.\n",
      "[2]\ttraining's multi_logloss: 1.39815\tvalid_1's multi_logloss: 1.43266\n",
      "[3]\ttraining's multi_logloss: 1.39488\tvalid_1's multi_logloss: 1.43856\n",
      "[4]\ttraining's multi_logloss: 1.39133\tvalid_1's multi_logloss: 1.44838\n",
      "[5]\ttraining's multi_logloss: 1.38867\tvalid_1's multi_logloss: 1.45041\n",
      "[6]\ttraining's multi_logloss: 1.38556\tvalid_1's multi_logloss: 1.46064\n",
      "[7]\ttraining's multi_logloss: 1.38265\tvalid_1's multi_logloss: 1.47098\n",
      "[8]\ttraining's multi_logloss: 1.37988\tvalid_1's multi_logloss: 1.48153\n",
      "[9]\ttraining's multi_logloss: 1.3773\tvalid_1's multi_logloss: 1.49265\n",
      "[10]\ttraining's multi_logloss: 1.3746\tvalid_1's multi_logloss: 1.50842\n",
      "[11]\ttraining's multi_logloss: 1.37255\tvalid_1's multi_logloss: 1.51481\n",
      "[12]\ttraining's multi_logloss: 1.37018\tvalid_1's multi_logloss: 1.53042\n",
      "[13]\ttraining's multi_logloss: 1.36803\tvalid_1's multi_logloss: 1.54552\n",
      "[14]\ttraining's multi_logloss: 1.36586\tvalid_1's multi_logloss: 1.55781\n",
      "[15]\ttraining's multi_logloss: 1.3637\tvalid_1's multi_logloss: 1.57606\n",
      "[16]\ttraining's multi_logloss: 1.36192\tvalid_1's multi_logloss: 1.58417\n",
      "[17]\ttraining's multi_logloss: 1.36004\tvalid_1's multi_logloss: 1.60081\n",
      "[18]\ttraining's multi_logloss: 1.35841\tvalid_1's multi_logloss: 1.60946\n",
      "[19]\ttraining's multi_logloss: 1.35677\tvalid_1's multi_logloss: 1.62014\n",
      "[20]\ttraining's multi_logloss: 1.35515\tvalid_1's multi_logloss: 1.63529\n",
      "[21]\ttraining's multi_logloss: 1.35364\tvalid_1's multi_logloss: 1.6488\n",
      "[22]\ttraining's multi_logloss: 1.35217\tvalid_1's multi_logloss: 1.6669\n",
      "[23]\ttraining's multi_logloss: 1.35077\tvalid_1's multi_logloss: 1.68012\n",
      "[24]\ttraining's multi_logloss: 1.34941\tvalid_1's multi_logloss: 1.69116\n",
      "[25]\ttraining's multi_logloss: 1.34832\tvalid_1's multi_logloss: 1.69935\n",
      "[26]\ttraining's multi_logloss: 1.34711\tvalid_1's multi_logloss: 1.70949\n",
      "[27]\ttraining's multi_logloss: 1.34618\tvalid_1's multi_logloss: 1.71435\n",
      "[28]\ttraining's multi_logloss: 1.34522\tvalid_1's multi_logloss: 1.72256\n",
      "[29]\ttraining's multi_logloss: 1.34411\tvalid_1's multi_logloss: 1.73366\n",
      "[30]\ttraining's multi_logloss: 1.34297\tvalid_1's multi_logloss: 1.74607\n",
      "[31]\ttraining's multi_logloss: 1.34195\tvalid_1's multi_logloss: 1.75422\n",
      "[32]\ttraining's multi_logloss: 1.34108\tvalid_1's multi_logloss: 1.75728\n",
      "[33]\ttraining's multi_logloss: 1.34016\tvalid_1's multi_logloss: 1.76477\n",
      "[34]\ttraining's multi_logloss: 1.3392\tvalid_1's multi_logloss: 1.77617\n",
      "[35]\ttraining's multi_logloss: 1.33842\tvalid_1's multi_logloss: 1.7771\n",
      "[36]\ttraining's multi_logloss: 1.33754\tvalid_1's multi_logloss: 1.78865\n",
      "[37]\ttraining's multi_logloss: 1.33654\tvalid_1's multi_logloss: 1.80496\n",
      "[38]\ttraining's multi_logloss: 1.33587\tvalid_1's multi_logloss: 1.8082\n",
      "[39]\ttraining's multi_logloss: 1.33532\tvalid_1's multi_logloss: 1.80956\n",
      "[40]\ttraining's multi_logloss: 1.33471\tvalid_1's multi_logloss: 1.81243\n",
      "[41]\ttraining's multi_logloss: 1.33402\tvalid_1's multi_logloss: 1.82312\n",
      "[42]\ttraining's multi_logloss: 1.33327\tvalid_1's multi_logloss: 1.83757\n",
      "[43]\ttraining's multi_logloss: 1.33269\tvalid_1's multi_logloss: 1.83784\n",
      "[44]\ttraining's multi_logloss: 1.33227\tvalid_1's multi_logloss: 1.83732\n",
      "[45]\ttraining's multi_logloss: 1.33158\tvalid_1's multi_logloss: 1.85073\n",
      "[46]\ttraining's multi_logloss: 1.3311\tvalid_1's multi_logloss: 1.85244\n",
      "[47]\ttraining's multi_logloss: 1.33049\tvalid_1's multi_logloss: 1.86505\n",
      "[48]\ttraining's multi_logloss: 1.32983\tvalid_1's multi_logloss: 1.87408\n",
      "[49]\ttraining's multi_logloss: 1.32902\tvalid_1's multi_logloss: 1.89082\n",
      "[50]\ttraining's multi_logloss: 1.32852\tvalid_1's multi_logloss: 1.89873\n",
      "[51]\ttraining's multi_logloss: 1.32803\tvalid_1's multi_logloss: 1.90676\n",
      "Early stopping, best iteration is:\n",
      "[1]\ttraining's multi_logloss: 1.40227\tvalid_1's multi_logloss: 1.41533\n",
      "================================Fold2====================================\n",
      "[1]\ttraining's multi_logloss: 1.402\tvalid_1's multi_logloss: 1.41795\n",
      "Training until validation scores don't improve for 50 rounds.\n",
      "[2]\ttraining's multi_logloss: 1.3982\tvalid_1's multi_logloss: 1.43\n",
      "[3]\ttraining's multi_logloss: 1.3949\tvalid_1's multi_logloss: 1.4365\n",
      "[4]\ttraining's multi_logloss: 1.39122\tvalid_1's multi_logloss: 1.44863\n",
      "[5]\ttraining's multi_logloss: 1.38845\tvalid_1's multi_logloss: 1.45243\n",
      "[6]\ttraining's multi_logloss: 1.38517\tvalid_1's multi_logloss: 1.46488\n",
      "[7]\ttraining's multi_logloss: 1.38212\tvalid_1's multi_logloss: 1.4772\n",
      "[8]\ttraining's multi_logloss: 1.37921\tvalid_1's multi_logloss: 1.48969\n",
      "[9]\ttraining's multi_logloss: 1.37665\tvalid_1's multi_logloss: 1.50018\n",
      "[10]\ttraining's multi_logloss: 1.37418\tvalid_1's multi_logloss: 1.51228\n",
      "[11]\ttraining's multi_logloss: 1.37227\tvalid_1's multi_logloss: 1.51425\n",
      "[12]\ttraining's multi_logloss: 1.36995\tvalid_1's multi_logloss: 1.52588\n",
      "[13]\ttraining's multi_logloss: 1.36794\tvalid_1's multi_logloss: 1.53378\n",
      "[14]\ttraining's multi_logloss: 1.36583\tvalid_1's multi_logloss: 1.54637\n",
      "[15]\ttraining's multi_logloss: 1.36382\tvalid_1's multi_logloss: 1.55874\n",
      "[16]\ttraining's multi_logloss: 1.36205\tvalid_1's multi_logloss: 1.56691\n",
      "[17]\ttraining's multi_logloss: 1.36009\tvalid_1's multi_logloss: 1.58298\n",
      "[18]\ttraining's multi_logloss: 1.35868\tvalid_1's multi_logloss: 1.58579\n",
      "[19]\ttraining's multi_logloss: 1.35715\tvalid_1's multi_logloss: 1.59463\n",
      "[20]\ttraining's multi_logloss: 1.3555\tvalid_1's multi_logloss: 1.60746\n",
      "[21]\ttraining's multi_logloss: 1.35375\tvalid_1's multi_logloss: 1.62268\n",
      "[22]\ttraining's multi_logloss: 1.35208\tvalid_1's multi_logloss: 1.64191\n",
      "[23]\ttraining's multi_logloss: 1.35084\tvalid_1's multi_logloss: 1.65086\n",
      "[24]\ttraining's multi_logloss: 1.3495\tvalid_1's multi_logloss: 1.66353\n",
      "[25]\ttraining's multi_logloss: 1.34848\tvalid_1's multi_logloss: 1.66581\n",
      "[26]\ttraining's multi_logloss: 1.34726\tvalid_1's multi_logloss: 1.67489\n",
      "[27]\ttraining's multi_logloss: 1.34631\tvalid_1's multi_logloss: 1.68043\n",
      "[28]\ttraining's multi_logloss: 1.3454\tvalid_1's multi_logloss: 1.6832\n",
      "[29]\ttraining's multi_logloss: 1.34433\tvalid_1's multi_logloss: 1.69282\n",
      "[30]\ttraining's multi_logloss: 1.34339\tvalid_1's multi_logloss: 1.70231\n",
      "[31]\ttraining's multi_logloss: 1.34245\tvalid_1's multi_logloss: 1.70747\n",
      "[32]\ttraining's multi_logloss: 1.34153\tvalid_1's multi_logloss: 1.7178\n",
      "[33]\ttraining's multi_logloss: 1.34064\tvalid_1's multi_logloss: 1.72633\n",
      "[34]\ttraining's multi_logloss: 1.34\tvalid_1's multi_logloss: 1.7272\n",
      "[35]\ttraining's multi_logloss: 1.33931\tvalid_1's multi_logloss: 1.72969\n",
      "[36]\ttraining's multi_logloss: 1.33852\tvalid_1's multi_logloss: 1.73081\n",
      "[37]\ttraining's multi_logloss: 1.33755\tvalid_1's multi_logloss: 1.74456\n",
      "[38]\ttraining's multi_logloss: 1.33643\tvalid_1's multi_logloss: 1.76035\n",
      "[39]\ttraining's multi_logloss: 1.33594\tvalid_1's multi_logloss: 1.76104\n",
      "[40]\ttraining's multi_logloss: 1.33544\tvalid_1's multi_logloss: 1.7609\n",
      "[41]\ttraining's multi_logloss: 1.33463\tvalid_1's multi_logloss: 1.77219\n",
      "[42]\ttraining's multi_logloss: 1.33356\tvalid_1's multi_logloss: 1.7898\n",
      "[43]\ttraining's multi_logloss: 1.33273\tvalid_1's multi_logloss: 1.80286\n",
      "[44]\ttraining's multi_logloss: 1.33228\tvalid_1's multi_logloss: 1.80297\n",
      "[45]\ttraining's multi_logloss: 1.33182\tvalid_1's multi_logloss: 1.80476\n",
      "[46]\ttraining's multi_logloss: 1.33136\tvalid_1's multi_logloss: 1.80513\n",
      "[47]\ttraining's multi_logloss: 1.33055\tvalid_1's multi_logloss: 1.81857\n",
      "[48]\ttraining's multi_logloss: 1.32989\tvalid_1's multi_logloss: 1.82985\n",
      "[49]\ttraining's multi_logloss: 1.3286\tvalid_1's multi_logloss: 1.8515\n",
      "[50]\ttraining's multi_logloss: 1.328\tvalid_1's multi_logloss: 1.86336\n",
      "[51]\ttraining's multi_logloss: 1.32696\tvalid_1's multi_logloss: 1.88366\n",
      "Early stopping, best iteration is:\n",
      "[1]\ttraining's multi_logloss: 1.402\tvalid_1's multi_logloss: 1.41795\n",
      "================================Fold3====================================\n",
      "[1]\ttraining's multi_logloss: 1.40182\tvalid_1's multi_logloss: 1.42066\n",
      "Training until validation scores don't improve for 50 rounds.\n",
      "[2]\ttraining's multi_logloss: 1.39783\tvalid_1's multi_logloss: 1.43532\n",
      "[3]\ttraining's multi_logloss: 1.39444\tvalid_1's multi_logloss: 1.44339\n",
      "[4]\ttraining's multi_logloss: 1.39058\tvalid_1's multi_logloss: 1.458\n",
      "[5]\ttraining's multi_logloss: 1.38782\tvalid_1's multi_logloss: 1.46215\n",
      "[6]\ttraining's multi_logloss: 1.3844\tvalid_1's multi_logloss: 1.47684\n",
      "[7]\ttraining's multi_logloss: 1.38127\tvalid_1's multi_logloss: 1.49155\n",
      "[8]\ttraining's multi_logloss: 1.37819\tvalid_1's multi_logloss: 1.50621\n",
      "[9]\ttraining's multi_logloss: 1.37529\tvalid_1's multi_logloss: 1.52126\n",
      "[10]\ttraining's multi_logloss: 1.37259\tvalid_1's multi_logloss: 1.53641\n",
      "[11]\ttraining's multi_logloss: 1.37061\tvalid_1's multi_logloss: 1.54037\n",
      "[12]\ttraining's multi_logloss: 1.3682\tvalid_1's multi_logloss: 1.55427\n",
      "[13]\ttraining's multi_logloss: 1.36617\tvalid_1's multi_logloss: 1.56223\n",
      "[14]\ttraining's multi_logloss: 1.36394\tvalid_1's multi_logloss: 1.57609\n",
      "[15]\ttraining's multi_logloss: 1.36184\tvalid_1's multi_logloss: 1.58951\n",
      "[16]\ttraining's multi_logloss: 1.36012\tvalid_1's multi_logloss: 1.59772\n",
      "[17]\ttraining's multi_logloss: 1.35824\tvalid_1's multi_logloss: 1.61369\n",
      "[18]\ttraining's multi_logloss: 1.35646\tvalid_1's multi_logloss: 1.62629\n",
      "[19]\ttraining's multi_logloss: 1.35477\tvalid_1's multi_logloss: 1.63968\n",
      "[20]\ttraining's multi_logloss: 1.35323\tvalid_1's multi_logloss: 1.65205\n",
      "[21]\ttraining's multi_logloss: 1.35162\tvalid_1's multi_logloss: 1.66641\n",
      "[22]\ttraining's multi_logloss: 1.35\tvalid_1's multi_logloss: 1.68405\n",
      "[23]\ttraining's multi_logloss: 1.34857\tvalid_1's multi_logloss: 1.69763\n",
      "[24]\ttraining's multi_logloss: 1.34731\tvalid_1's multi_logloss: 1.70729\n",
      "[25]\ttraining's multi_logloss: 1.34609\tvalid_1's multi_logloss: 1.71585\n",
      "[26]\ttraining's multi_logloss: 1.34491\tvalid_1's multi_logloss: 1.72486\n",
      "[27]\ttraining's multi_logloss: 1.34397\tvalid_1's multi_logloss: 1.72863\n",
      "[28]\ttraining's multi_logloss: 1.34297\tvalid_1's multi_logloss: 1.73605\n",
      "[29]\ttraining's multi_logloss: 1.34195\tvalid_1's multi_logloss: 1.74515\n",
      "[30]\ttraining's multi_logloss: 1.341\tvalid_1's multi_logloss: 1.75426\n",
      "[31]\ttraining's multi_logloss: 1.33964\tvalid_1's multi_logloss: 1.77073\n",
      "[32]\ttraining's multi_logloss: 1.33865\tvalid_1's multi_logloss: 1.78043\n",
      "[33]\ttraining's multi_logloss: 1.33779\tvalid_1's multi_logloss: 1.78917\n",
      "[34]\ttraining's multi_logloss: 1.33686\tvalid_1's multi_logloss: 1.80051\n",
      "[35]\ttraining's multi_logloss: 1.3362\tvalid_1's multi_logloss: 1.8004\n",
      "[36]\ttraining's multi_logloss: 1.33527\tvalid_1's multi_logloss: 1.81067\n",
      "[37]\ttraining's multi_logloss: 1.33436\tvalid_1's multi_logloss: 1.81611\n",
      "[38]\ttraining's multi_logloss: 1.33369\tvalid_1's multi_logloss: 1.81806\n",
      "[39]\ttraining's multi_logloss: 1.33321\tvalid_1's multi_logloss: 1.81811\n",
      "[40]\ttraining's multi_logloss: 1.33244\tvalid_1's multi_logloss: 1.82708\n",
      "[41]\ttraining's multi_logloss: 1.33174\tvalid_1's multi_logloss: 1.83634\n",
      "[42]\ttraining's multi_logloss: 1.33091\tvalid_1's multi_logloss: 1.84974\n",
      "[43]\ttraining's multi_logloss: 1.33015\tvalid_1's multi_logloss: 1.8633\n",
      "[44]\ttraining's multi_logloss: 1.32965\tvalid_1's multi_logloss: 1.86258\n",
      "[45]\ttraining's multi_logloss: 1.32895\tvalid_1's multi_logloss: 1.87319\n",
      "[46]\ttraining's multi_logloss: 1.32855\tvalid_1's multi_logloss: 1.87291\n",
      "[47]\ttraining's multi_logloss: 1.32792\tvalid_1's multi_logloss: 1.88198\n",
      "[48]\ttraining's multi_logloss: 1.32738\tvalid_1's multi_logloss: 1.89198\n",
      "[49]\ttraining's multi_logloss: 1.32672\tvalid_1's multi_logloss: 1.90178\n",
      "[50]\ttraining's multi_logloss: 1.32608\tvalid_1's multi_logloss: 1.91214\n",
      "[51]\ttraining's multi_logloss: 1.32548\tvalid_1's multi_logloss: 1.92261\n",
      "Early stopping, best iteration is:\n",
      "[1]\ttraining's multi_logloss: 1.40182\tvalid_1's multi_logloss: 1.42066\n",
      "================================Fold4====================================\n",
      "[1]\ttraining's multi_logloss: 1.40248\tvalid_1's multi_logloss: 1.41674\n",
      "Training until validation scores don't improve for 50 rounds.\n",
      "[2]\ttraining's multi_logloss: 1.39877\tvalid_1's multi_logloss: 1.43268\n",
      "[3]\ttraining's multi_logloss: 1.39597\tvalid_1's multi_logloss: 1.43482\n",
      "[4]\ttraining's multi_logloss: 1.39218\tvalid_1's multi_logloss: 1.45172\n",
      "[5]\ttraining's multi_logloss: 1.38955\tvalid_1's multi_logloss: 1.45681\n",
      "[6]\ttraining's multi_logloss: 1.3861\tvalid_1's multi_logloss: 1.47431\n",
      "[7]\ttraining's multi_logloss: 1.38289\tvalid_1's multi_logloss: 1.49162\n",
      "[8]\ttraining's multi_logloss: 1.37973\tvalid_1's multi_logloss: 1.50932\n",
      "[9]\ttraining's multi_logloss: 1.37677\tvalid_1's multi_logloss: 1.5271\n",
      "[10]\ttraining's multi_logloss: 1.37399\tvalid_1's multi_logloss: 1.54498\n",
      "[11]\ttraining's multi_logloss: 1.37214\tvalid_1's multi_logloss: 1.54881\n",
      "[12]\ttraining's multi_logloss: 1.36972\tvalid_1's multi_logloss: 1.56389\n",
      "[13]\ttraining's multi_logloss: 1.36757\tvalid_1's multi_logloss: 1.57483\n",
      "[14]\ttraining's multi_logloss: 1.36538\tvalid_1's multi_logloss: 1.59047\n",
      "[15]\ttraining's multi_logloss: 1.36321\tvalid_1's multi_logloss: 1.60622\n",
      "[16]\ttraining's multi_logloss: 1.3612\tvalid_1's multi_logloss: 1.61749\n",
      "[17]\ttraining's multi_logloss: 1.3588\tvalid_1's multi_logloss: 1.64217\n",
      "[18]\ttraining's multi_logloss: 1.35702\tvalid_1's multi_logloss: 1.65591\n",
      "[19]\ttraining's multi_logloss: 1.35522\tvalid_1's multi_logloss: 1.6711\n",
      "[20]\ttraining's multi_logloss: 1.35345\tvalid_1's multi_logloss: 1.68702\n",
      "[21]\ttraining's multi_logloss: 1.3517\tvalid_1's multi_logloss: 1.70511\n",
      "[22]\ttraining's multi_logloss: 1.34992\tvalid_1's multi_logloss: 1.72757\n",
      "[23]\ttraining's multi_logloss: 1.34827\tvalid_1's multi_logloss: 1.74563\n",
      "[24]\ttraining's multi_logloss: 1.34691\tvalid_1's multi_logloss: 1.75771\n",
      "[25]\ttraining's multi_logloss: 1.34571\tvalid_1's multi_logloss: 1.76751\n",
      "[26]\ttraining's multi_logloss: 1.34429\tvalid_1's multi_logloss: 1.7818\n",
      "[27]\ttraining's multi_logloss: 1.34318\tvalid_1's multi_logloss: 1.79015\n",
      "[28]\ttraining's multi_logloss: 1.34206\tvalid_1's multi_logloss: 1.79498\n",
      "[29]\ttraining's multi_logloss: 1.34081\tvalid_1's multi_logloss: 1.80975\n",
      "[30]\ttraining's multi_logloss: 1.33963\tvalid_1's multi_logloss: 1.82473\n",
      "[31]\ttraining's multi_logloss: 1.33842\tvalid_1's multi_logloss: 1.836\n",
      "[32]\ttraining's multi_logloss: 1.3372\tvalid_1's multi_logloss: 1.85087\n",
      "[33]\ttraining's multi_logloss: 1.33614\tvalid_1's multi_logloss: 1.86517\n",
      "[34]\ttraining's multi_logloss: 1.33519\tvalid_1's multi_logloss: 1.8784\n",
      "[35]\ttraining's multi_logloss: 1.33424\tvalid_1's multi_logloss: 1.89106\n",
      "[36]\ttraining's multi_logloss: 1.33314\tvalid_1's multi_logloss: 1.9071\n",
      "[37]\ttraining's multi_logloss: 1.33198\tvalid_1's multi_logloss: 1.92726\n",
      "[38]\ttraining's multi_logloss: 1.33109\tvalid_1's multi_logloss: 1.93645\n",
      "[39]\ttraining's multi_logloss: 1.33048\tvalid_1's multi_logloss: 1.94015\n",
      "[40]\ttraining's multi_logloss: 1.32968\tvalid_1's multi_logloss: 1.95218\n",
      "[41]\ttraining's multi_logloss: 1.32892\tvalid_1's multi_logloss: 1.96389\n",
      "[42]\ttraining's multi_logloss: 1.3279\tvalid_1's multi_logloss: 1.98564\n",
      "[43]\ttraining's multi_logloss: 1.32706\tvalid_1's multi_logloss: 2.00055\n",
      "[44]\ttraining's multi_logloss: 1.32659\tvalid_1's multi_logloss: 1.99985\n",
      "[45]\ttraining's multi_logloss: 1.32581\tvalid_1's multi_logloss: 2.01216\n",
      "[46]\ttraining's multi_logloss: 1.32506\tvalid_1's multi_logloss: 2.02693\n",
      "[47]\ttraining's multi_logloss: 1.32424\tvalid_1's multi_logloss: 2.04146\n",
      "[48]\ttraining's multi_logloss: 1.32363\tvalid_1's multi_logloss: 2.05283\n",
      "[49]\ttraining's multi_logloss: 1.32274\tvalid_1's multi_logloss: 2.07374\n",
      "[50]\ttraining's multi_logloss: 1.32214\tvalid_1's multi_logloss: 2.08557\n",
      "[51]\ttraining's multi_logloss: 1.32138\tvalid_1's multi_logloss: 2.10195\n",
      "Early stopping, best iteration is:\n",
      "[1]\ttraining's multi_logloss: 1.40248\tvalid_1's multi_logloss: 1.41674\n",
      "================================Fold5====================================\n",
      "[1]\ttraining's multi_logloss: 1.40291\tvalid_1's multi_logloss: 1.41254\n",
      "Training until validation scores don't improve for 50 rounds.\n",
      "[2]\ttraining's multi_logloss: 1.39992\tvalid_1's multi_logloss: 1.42048\n",
      "[3]\ttraining's multi_logloss: 1.39731\tvalid_1's multi_logloss: 1.42056\n",
      "[4]\ttraining's multi_logloss: 1.39436\tvalid_1's multi_logloss: 1.42709\n",
      "[5]\ttraining's multi_logloss: 1.39186\tvalid_1's multi_logloss: 1.4315\n",
      "[6]\ttraining's multi_logloss: 1.38925\tvalid_1's multi_logloss: 1.43788\n",
      "[7]\ttraining's multi_logloss: 1.38663\tvalid_1's multi_logloss: 1.44701\n",
      "[8]\ttraining's multi_logloss: 1.38423\tvalid_1's multi_logloss: 1.45316\n",
      "[9]\ttraining's multi_logloss: 1.38122\tvalid_1's multi_logloss: 1.47033\n",
      "[10]\ttraining's multi_logloss: 1.37833\tvalid_1's multi_logloss: 1.48759\n",
      "[11]\ttraining's multi_logloss: 1.37644\tvalid_1's multi_logloss: 1.49277\n",
      "[12]\ttraining's multi_logloss: 1.37384\tvalid_1's multi_logloss: 1.51026\n",
      "[13]\ttraining's multi_logloss: 1.37163\tvalid_1's multi_logloss: 1.52131\n",
      "[14]\ttraining's multi_logloss: 1.36928\tvalid_1's multi_logloss: 1.53982\n",
      "[15]\ttraining's multi_logloss: 1.36754\tvalid_1's multi_logloss: 1.54548\n",
      "[16]\ttraining's multi_logloss: 1.36556\tvalid_1's multi_logloss: 1.55714\n",
      "[17]\ttraining's multi_logloss: 1.36393\tvalid_1's multi_logloss: 1.56679\n",
      "[18]\ttraining's multi_logloss: 1.36255\tvalid_1's multi_logloss: 1.57416\n",
      "[19]\ttraining's multi_logloss: 1.36109\tvalid_1's multi_logloss: 1.5801\n",
      "[20]\ttraining's multi_logloss: 1.35913\tvalid_1's multi_logloss: 1.59914\n",
      "[21]\ttraining's multi_logloss: 1.35788\tvalid_1's multi_logloss: 1.60114\n",
      "[22]\ttraining's multi_logloss: 1.35631\tvalid_1's multi_logloss: 1.61741\n",
      "[23]\ttraining's multi_logloss: 1.35459\tvalid_1's multi_logloss: 1.63751\n",
      "[24]\ttraining's multi_logloss: 1.3535\tvalid_1's multi_logloss: 1.64169\n",
      "[25]\ttraining's multi_logloss: 1.35247\tvalid_1's multi_logloss: 1.64551\n",
      "[26]\ttraining's multi_logloss: 1.35158\tvalid_1's multi_logloss: 1.64463\n",
      "[27]\ttraining's multi_logloss: 1.35063\tvalid_1's multi_logloss: 1.65026\n",
      "[28]\ttraining's multi_logloss: 1.34968\tvalid_1's multi_logloss: 1.65137\n",
      "[29]\ttraining's multi_logloss: 1.3488\tvalid_1's multi_logloss: 1.65197\n",
      "[30]\ttraining's multi_logloss: 1.34794\tvalid_1's multi_logloss: 1.65576\n",
      "[31]\ttraining's multi_logloss: 1.34697\tvalid_1's multi_logloss: 1.66443\n",
      "[32]\ttraining's multi_logloss: 1.3461\tvalid_1's multi_logloss: 1.66836\n",
      "[33]\ttraining's multi_logloss: 1.34531\tvalid_1's multi_logloss: 1.67083\n",
      "[34]\ttraining's multi_logloss: 1.34445\tvalid_1's multi_logloss: 1.67551\n",
      "[35]\ttraining's multi_logloss: 1.34376\tvalid_1's multi_logloss: 1.67659\n",
      "[36]\ttraining's multi_logloss: 1.34243\tvalid_1's multi_logloss: 1.69217\n",
      "[37]\ttraining's multi_logloss: 1.34172\tvalid_1's multi_logloss: 1.69419\n",
      "[38]\ttraining's multi_logloss: 1.34079\tvalid_1's multi_logloss: 1.70165\n",
      "[39]\ttraining's multi_logloss: 1.34003\tvalid_1's multi_logloss: 1.70624\n",
      "[40]\ttraining's multi_logloss: 1.33894\tvalid_1's multi_logloss: 1.72203\n",
      "[41]\ttraining's multi_logloss: 1.33787\tvalid_1's multi_logloss: 1.73749\n",
      "[42]\ttraining's multi_logloss: 1.33674\tvalid_1's multi_logloss: 1.75427\n",
      "[43]\ttraining's multi_logloss: 1.33559\tvalid_1's multi_logloss: 1.77055\n",
      "[44]\ttraining's multi_logloss: 1.33513\tvalid_1's multi_logloss: 1.76991\n",
      "[45]\ttraining's multi_logloss: 1.33418\tvalid_1's multi_logloss: 1.77908\n",
      "[46]\ttraining's multi_logloss: 1.3331\tvalid_1's multi_logloss: 1.7933\n",
      "[47]\ttraining's multi_logloss: 1.33219\tvalid_1's multi_logloss: 1.8036\n",
      "[48]\ttraining's multi_logloss: 1.33118\tvalid_1's multi_logloss: 1.81794\n",
      "[49]\ttraining's multi_logloss: 1.33011\tvalid_1's multi_logloss: 1.8352\n",
      "[50]\ttraining's multi_logloss: 1.32929\tvalid_1's multi_logloss: 1.8471\n",
      "[51]\ttraining's multi_logloss: 1.32846\tvalid_1's multi_logloss: 1.85867\n",
      "Early stopping, best iteration is:\n",
      "[1]\ttraining's multi_logloss: 1.40291\tvalid_1's multi_logloss: 1.41254\n",
      "================================Fold6====================================\n",
      "[1]\ttraining's multi_logloss: 1.40286\tvalid_1's multi_logloss: 1.41086\n",
      "Training until validation scores don't improve for 50 rounds.\n",
      "[2]\ttraining's multi_logloss: 1.39988\tvalid_1's multi_logloss: 1.41615\n",
      "[3]\ttraining's multi_logloss: 1.39628\tvalid_1's multi_logloss: 1.42613\n",
      "[4]\ttraining's multi_logloss: 1.39328\tvalid_1's multi_logloss: 1.43108\n",
      "[5]\ttraining's multi_logloss: 1.39087\tvalid_1's multi_logloss: 1.43134\n",
      "[6]\ttraining's multi_logloss: 1.38748\tvalid_1's multi_logloss: 1.44437\n",
      "[7]\ttraining's multi_logloss: 1.38484\tvalid_1's multi_logloss: 1.4507\n",
      "[8]\ttraining's multi_logloss: 1.38181\tvalid_1's multi_logloss: 1.46415\n",
      "[9]\ttraining's multi_logloss: 1.37948\tvalid_1's multi_logloss: 1.46938\n",
      "[10]\ttraining's multi_logloss: 1.37669\tvalid_1's multi_logloss: 1.48328\n",
      "[11]\ttraining's multi_logloss: 1.37498\tvalid_1's multi_logloss: 1.4831\n",
      "[12]\ttraining's multi_logloss: 1.37236\tvalid_1's multi_logloss: 1.49705\n",
      "[13]\ttraining's multi_logloss: 1.37006\tvalid_1's multi_logloss: 1.5085\n",
      "[14]\ttraining's multi_logloss: 1.36774\tvalid_1's multi_logloss: 1.52177\n",
      "[15]\ttraining's multi_logloss: 1.36554\tvalid_1's multi_logloss: 1.53635\n",
      "[16]\ttraining's multi_logloss: 1.36355\tvalid_1's multi_logloss: 1.54842\n",
      "[17]\ttraining's multi_logloss: 1.36154\tvalid_1's multi_logloss: 1.56429\n",
      "[18]\ttraining's multi_logloss: 1.35986\tvalid_1's multi_logloss: 1.57234\n",
      "[19]\ttraining's multi_logloss: 1.35798\tvalid_1's multi_logloss: 1.58698\n",
      "[20]\ttraining's multi_logloss: 1.35618\tvalid_1's multi_logloss: 1.60268\n",
      "[21]\ttraining's multi_logloss: 1.35443\tvalid_1's multi_logloss: 1.61727\n",
      "[22]\ttraining's multi_logloss: 1.35305\tvalid_1's multi_logloss: 1.63063\n",
      "[23]\ttraining's multi_logloss: 1.35194\tvalid_1's multi_logloss: 1.63145\n",
      "[24]\ttraining's multi_logloss: 1.35047\tvalid_1's multi_logloss: 1.64557\n",
      "[25]\ttraining's multi_logloss: 1.34923\tvalid_1's multi_logloss: 1.65156\n",
      "[26]\ttraining's multi_logloss: 1.3482\tvalid_1's multi_logloss: 1.65145\n",
      "[27]\ttraining's multi_logloss: 1.34732\tvalid_1's multi_logloss: 1.65271\n",
      "[28]\ttraining's multi_logloss: 1.34623\tvalid_1's multi_logloss: 1.65682\n",
      "[29]\ttraining's multi_logloss: 1.34538\tvalid_1's multi_logloss: 1.65688\n",
      "[30]\ttraining's multi_logloss: 1.34417\tvalid_1's multi_logloss: 1.66973\n",
      "[31]\ttraining's multi_logloss: 1.3433\tvalid_1's multi_logloss: 1.67191\n",
      "[32]\ttraining's multi_logloss: 1.34209\tvalid_1's multi_logloss: 1.68606\n",
      "[33]\ttraining's multi_logloss: 1.341\tvalid_1's multi_logloss: 1.69896\n",
      "[34]\ttraining's multi_logloss: 1.33985\tvalid_1's multi_logloss: 1.71213\n",
      "[35]\ttraining's multi_logloss: 1.33906\tvalid_1's multi_logloss: 1.71624\n",
      "[36]\ttraining's multi_logloss: 1.33799\tvalid_1's multi_logloss: 1.73149\n",
      "[37]\ttraining's multi_logloss: 1.33702\tvalid_1's multi_logloss: 1.74452\n",
      "[38]\ttraining's multi_logloss: 1.33645\tvalid_1's multi_logloss: 1.74479\n",
      "[39]\ttraining's multi_logloss: 1.33586\tvalid_1's multi_logloss: 1.74678\n",
      "[40]\ttraining's multi_logloss: 1.33497\tvalid_1's multi_logloss: 1.76049\n",
      "[41]\ttraining's multi_logloss: 1.33441\tvalid_1's multi_logloss: 1.76218\n",
      "[42]\ttraining's multi_logloss: 1.33346\tvalid_1's multi_logloss: 1.77897\n",
      "[43]\ttraining's multi_logloss: 1.33255\tvalid_1's multi_logloss: 1.79503\n",
      "[44]\ttraining's multi_logloss: 1.33214\tvalid_1's multi_logloss: 1.79452\n",
      "[45]\ttraining's multi_logloss: 1.33135\tvalid_1's multi_logloss: 1.80814\n",
      "[46]\ttraining's multi_logloss: 1.33093\tvalid_1's multi_logloss: 1.80774\n",
      "[47]\ttraining's multi_logloss: 1.33015\tvalid_1's multi_logloss: 1.82283\n",
      "[48]\ttraining's multi_logloss: 1.32936\tvalid_1's multi_logloss: 1.83868\n",
      "[49]\ttraining's multi_logloss: 1.32887\tvalid_1's multi_logloss: 1.83982\n",
      "[50]\ttraining's multi_logloss: 1.32818\tvalid_1's multi_logloss: 1.85377\n",
      "[51]\ttraining's multi_logloss: 1.32749\tvalid_1's multi_logloss: 1.8694\n",
      "Early stopping, best iteration is:\n",
      "[1]\ttraining's multi_logloss: 1.40286\tvalid_1's multi_logloss: 1.41086\n",
      "================================Fold7====================================\n",
      "[1]\ttraining's multi_logloss: 1.40344\tvalid_1's multi_logloss: 1.40419\n",
      "Training until validation scores don't improve for 50 rounds.\n",
      "[2]\ttraining's multi_logloss: 1.40074\tvalid_1's multi_logloss: 1.40652\n",
      "[3]\ttraining's multi_logloss: 1.39737\tvalid_1's multi_logloss: 1.41508\n",
      "[4]\ttraining's multi_logloss: 1.39465\tvalid_1's multi_logloss: 1.41571\n",
      "[5]\ttraining's multi_logloss: 1.39235\tvalid_1's multi_logloss: 1.4138\n",
      "[6]\ttraining's multi_logloss: 1.38929\tvalid_1's multi_logloss: 1.42322\n",
      "[7]\ttraining's multi_logloss: 1.38639\tvalid_1's multi_logloss: 1.43296\n",
      "[8]\ttraining's multi_logloss: 1.38352\tvalid_1's multi_logloss: 1.4448\n",
      "[9]\ttraining's multi_logloss: 1.3813\tvalid_1's multi_logloss: 1.44768\n",
      "[10]\ttraining's multi_logloss: 1.37906\tvalid_1's multi_logloss: 1.45417\n",
      "[11]\ttraining's multi_logloss: 1.37724\tvalid_1's multi_logloss: 1.45454\n",
      "[12]\ttraining's multi_logloss: 1.37499\tvalid_1's multi_logloss: 1.46522\n",
      "[13]\ttraining's multi_logloss: 1.37287\tvalid_1's multi_logloss: 1.47582\n",
      "[14]\ttraining's multi_logloss: 1.37072\tvalid_1's multi_logloss: 1.48865\n",
      "[15]\ttraining's multi_logloss: 1.36913\tvalid_1's multi_logloss: 1.49024\n",
      "[16]\ttraining's multi_logloss: 1.36729\tvalid_1's multi_logloss: 1.50143\n",
      "[17]\ttraining's multi_logloss: 1.3654\tvalid_1's multi_logloss: 1.51611\n",
      "[18]\ttraining's multi_logloss: 1.36368\tvalid_1's multi_logloss: 1.52597\n",
      "[19]\ttraining's multi_logloss: 1.36192\tvalid_1's multi_logloss: 1.53905\n",
      "[20]\ttraining's multi_logloss: 1.36024\tvalid_1's multi_logloss: 1.5542\n",
      "[21]\ttraining's multi_logloss: 1.35862\tvalid_1's multi_logloss: 1.56616\n",
      "[22]\ttraining's multi_logloss: 1.35726\tvalid_1's multi_logloss: 1.58153\n",
      "[23]\ttraining's multi_logloss: 1.35585\tvalid_1's multi_logloss: 1.59572\n",
      "[24]\ttraining's multi_logloss: 1.3545\tvalid_1's multi_logloss: 1.60812\n",
      "[25]\ttraining's multi_logloss: 1.35326\tvalid_1's multi_logloss: 1.61838\n",
      "[26]\ttraining's multi_logloss: 1.35191\tvalid_1's multi_logloss: 1.6309\n",
      "[27]\ttraining's multi_logloss: 1.35108\tvalid_1's multi_logloss: 1.6307\n",
      "[28]\ttraining's multi_logloss: 1.35001\tvalid_1's multi_logloss: 1.63895\n",
      "[29]\ttraining's multi_logloss: 1.3489\tvalid_1's multi_logloss: 1.6516\n",
      "[30]\ttraining's multi_logloss: 1.34781\tvalid_1's multi_logloss: 1.66433\n",
      "[31]\ttraining's multi_logloss: 1.34675\tvalid_1's multi_logloss: 1.67931\n",
      "[32]\ttraining's multi_logloss: 1.34574\tvalid_1's multi_logloss: 1.69241\n",
      "[33]\ttraining's multi_logloss: 1.34481\tvalid_1's multi_logloss: 1.70534\n",
      "[34]\ttraining's multi_logloss: 1.3439\tvalid_1's multi_logloss: 1.71836\n",
      "[35]\ttraining's multi_logloss: 1.34315\tvalid_1's multi_logloss: 1.72666\n",
      "[36]\ttraining's multi_logloss: 1.3423\tvalid_1's multi_logloss: 1.73984\n",
      "[37]\ttraining's multi_logloss: 1.34143\tvalid_1's multi_logloss: 1.75454\n",
      "[38]\ttraining's multi_logloss: 1.34075\tvalid_1's multi_logloss: 1.76178\n",
      "[39]\ttraining's multi_logloss: 1.34024\tvalid_1's multi_logloss: 1.76193\n",
      "[40]\ttraining's multi_logloss: 1.33948\tvalid_1's multi_logloss: 1.77676\n",
      "[41]\ttraining's multi_logloss: 1.33871\tvalid_1's multi_logloss: 1.79012\n",
      "[42]\ttraining's multi_logloss: 1.33806\tvalid_1's multi_logloss: 1.80383\n",
      "[43]\ttraining's multi_logloss: 1.33733\tvalid_1's multi_logloss: 1.82113\n",
      "[44]\ttraining's multi_logloss: 1.33684\tvalid_1's multi_logloss: 1.8205\n",
      "[45]\ttraining's multi_logloss: 1.33637\tvalid_1's multi_logloss: 1.81997\n",
      "[46]\ttraining's multi_logloss: 1.33574\tvalid_1's multi_logloss: 1.83486\n",
      "[47]\ttraining's multi_logloss: 1.33508\tvalid_1's multi_logloss: 1.8484\n",
      "[48]\ttraining's multi_logloss: 1.33446\tvalid_1's multi_logloss: 1.86469\n",
      "[49]\ttraining's multi_logloss: 1.33387\tvalid_1's multi_logloss: 1.87854\n",
      "[50]\ttraining's multi_logloss: 1.33345\tvalid_1's multi_logloss: 1.87808\n",
      "[51]\ttraining's multi_logloss: 1.33292\tvalid_1's multi_logloss: 1.8918\n",
      "Early stopping, best iteration is:\n",
      "[1]\ttraining's multi_logloss: 1.40344\tvalid_1's multi_logloss: 1.40419\n",
      "================================Fold8====================================\n",
      "[1]\ttraining's multi_logloss: 1.40329\tvalid_1's multi_logloss: 1.40552\n",
      "Training until validation scores don't improve for 50 rounds.\n",
      "[2]\ttraining's multi_logloss: 1.40073\tvalid_1's multi_logloss: 1.40522\n",
      "[3]\ttraining's multi_logloss: 1.39814\tvalid_1's multi_logloss: 1.40436\n",
      "[4]\ttraining's multi_logloss: 1.39509\tvalid_1's multi_logloss: 1.4087\n",
      "[5]\ttraining's multi_logloss: 1.39276\tvalid_1's multi_logloss: 1.40653\n",
      "[6]\ttraining's multi_logloss: 1.39005\tvalid_1's multi_logloss: 1.41129\n",
      "[7]\ttraining's multi_logloss: 1.38754\tvalid_1's multi_logloss: 1.4162\n",
      "[8]\ttraining's multi_logloss: 1.38507\tvalid_1's multi_logloss: 1.42181\n",
      "[9]\ttraining's multi_logloss: 1.3827\tvalid_1's multi_logloss: 1.42773\n",
      "[10]\ttraining's multi_logloss: 1.38051\tvalid_1's multi_logloss: 1.4339\n",
      "[11]\ttraining's multi_logloss: 1.37863\tvalid_1's multi_logloss: 1.43448\n",
      "[12]\ttraining's multi_logloss: 1.37669\tvalid_1's multi_logloss: 1.44131\n",
      "[13]\ttraining's multi_logloss: 1.37491\tvalid_1's multi_logloss: 1.44825\n",
      "[14]\ttraining's multi_logloss: 1.37316\tvalid_1's multi_logloss: 1.45567\n",
      "[15]\ttraining's multi_logloss: 1.37147\tvalid_1's multi_logloss: 1.46382\n",
      "[16]\ttraining's multi_logloss: 1.36993\tvalid_1's multi_logloss: 1.47154\n",
      "[17]\ttraining's multi_logloss: 1.36831\tvalid_1's multi_logloss: 1.4822\n",
      "[18]\ttraining's multi_logloss: 1.36677\tvalid_1's multi_logloss: 1.48884\n",
      "[19]\ttraining's multi_logloss: 1.36538\tvalid_1's multi_logloss: 1.49763\n",
      "[20]\ttraining's multi_logloss: 1.36387\tvalid_1's multi_logloss: 1.50909\n",
      "[21]\ttraining's multi_logloss: 1.36248\tvalid_1's multi_logloss: 1.51769\n",
      "[22]\ttraining's multi_logloss: 1.36141\tvalid_1's multi_logloss: 1.52784\n",
      "[23]\ttraining's multi_logloss: 1.36014\tvalid_1's multi_logloss: 1.53708\n",
      "[24]\ttraining's multi_logloss: 1.35894\tvalid_1's multi_logloss: 1.54702\n",
      "[25]\ttraining's multi_logloss: 1.35787\tvalid_1's multi_logloss: 1.55125\n",
      "[26]\ttraining's multi_logloss: 1.3567\tvalid_1's multi_logloss: 1.56053\n",
      "[27]\ttraining's multi_logloss: 1.35594\tvalid_1's multi_logloss: 1.55993\n",
      "[28]\ttraining's multi_logloss: 1.355\tvalid_1's multi_logloss: 1.56429\n",
      "[29]\ttraining's multi_logloss: 1.35401\tvalid_1's multi_logloss: 1.57393\n",
      "[30]\ttraining's multi_logloss: 1.35313\tvalid_1's multi_logloss: 1.58351\n",
      "[31]\ttraining's multi_logloss: 1.35222\tvalid_1's multi_logloss: 1.59436\n",
      "[32]\ttraining's multi_logloss: 1.35136\tvalid_1's multi_logloss: 1.6047\n",
      "[33]\ttraining's multi_logloss: 1.35052\tvalid_1's multi_logloss: 1.61497\n",
      "[34]\ttraining's multi_logloss: 1.34974\tvalid_1's multi_logloss: 1.62748\n",
      "[35]\ttraining's multi_logloss: 1.34906\tvalid_1's multi_logloss: 1.63201\n",
      "[36]\ttraining's multi_logloss: 1.34831\tvalid_1's multi_logloss: 1.64249\n",
      "[37]\ttraining's multi_logloss: 1.34758\tvalid_1's multi_logloss: 1.65542\n",
      "[38]\ttraining's multi_logloss: 1.34689\tvalid_1's multi_logloss: 1.66651\n",
      "[39]\ttraining's multi_logloss: 1.34641\tvalid_1's multi_logloss: 1.66591\n",
      "[40]\ttraining's multi_logloss: 1.34573\tvalid_1's multi_logloss: 1.67732\n",
      "[41]\ttraining's multi_logloss: 1.34514\tvalid_1's multi_logloss: 1.68796\n",
      "[42]\ttraining's multi_logloss: 1.34454\tvalid_1's multi_logloss: 1.70143\n",
      "[43]\ttraining's multi_logloss: 1.34386\tvalid_1's multi_logloss: 1.71205\n",
      "[44]\ttraining's multi_logloss: 1.3434\tvalid_1's multi_logloss: 1.71155\n",
      "[45]\ttraining's multi_logloss: 1.34285\tvalid_1's multi_logloss: 1.72237\n",
      "[46]\ttraining's multi_logloss: 1.34231\tvalid_1's multi_logloss: 1.73331\n",
      "[47]\ttraining's multi_logloss: 1.34181\tvalid_1's multi_logloss: 1.74453\n",
      "[48]\ttraining's multi_logloss: 1.34125\tvalid_1's multi_logloss: 1.75793\n",
      "[49]\ttraining's multi_logloss: 1.34075\tvalid_1's multi_logloss: 1.76923\n",
      "[50]\ttraining's multi_logloss: 1.34028\tvalid_1's multi_logloss: 1.78064\n",
      "[51]\ttraining's multi_logloss: 1.33986\tvalid_1's multi_logloss: 1.79193\n",
      "[52]\ttraining's multi_logloss: 1.33941\tvalid_1's multi_logloss: 1.80326\n",
      "[53]\ttraining's multi_logloss: 1.33899\tvalid_1's multi_logloss: 1.80789\n",
      "Early stopping, best iteration is:\n",
      "[3]\ttraining's multi_logloss: 1.39814\tvalid_1's multi_logloss: 1.40436\n",
      "================================Fold9====================================\n",
      "[1]\ttraining's multi_logloss: 1.40339\tvalid_1's multi_logloss: 1.40398\n",
      "Training until validation scores don't improve for 50 rounds.\n",
      "[2]\ttraining's multi_logloss: 1.40084\tvalid_1's multi_logloss: 1.402\n",
      "[3]\ttraining's multi_logloss: 1.3983\tvalid_1's multi_logloss: 1.39989\n",
      "[4]\ttraining's multi_logloss: 1.39569\tvalid_1's multi_logloss: 1.39792\n",
      "[5]\ttraining's multi_logloss: 1.39336\tvalid_1's multi_logloss: 1.39589\n",
      "[6]\ttraining's multi_logloss: 1.39097\tvalid_1's multi_logloss: 1.39477\n",
      "[7]\ttraining's multi_logloss: 1.38876\tvalid_1's multi_logloss: 1.39405\n",
      "[8]\ttraining's multi_logloss: 1.38659\tvalid_1's multi_logloss: 1.39351\n",
      "[9]\ttraining's multi_logloss: 1.38457\tvalid_1's multi_logloss: 1.39274\n",
      "[10]\ttraining's multi_logloss: 1.38267\tvalid_1's multi_logloss: 1.39269\n",
      "[11]\ttraining's multi_logloss: 1.38092\tvalid_1's multi_logloss: 1.39119\n",
      "[12]\ttraining's multi_logloss: 1.37925\tvalid_1's multi_logloss: 1.39149\n",
      "[13]\ttraining's multi_logloss: 1.37777\tvalid_1's multi_logloss: 1.39196\n",
      "[14]\ttraining's multi_logloss: 1.37626\tvalid_1's multi_logloss: 1.39256\n",
      "[15]\ttraining's multi_logloss: 1.37478\tvalid_1's multi_logloss: 1.39281\n",
      "[16]\ttraining's multi_logloss: 1.37345\tvalid_1's multi_logloss: 1.3937\n",
      "[17]\ttraining's multi_logloss: 1.37219\tvalid_1's multi_logloss: 1.39434\n",
      "[18]\ttraining's multi_logloss: 1.37091\tvalid_1's multi_logloss: 1.39384\n",
      "[19]\ttraining's multi_logloss: 1.36963\tvalid_1's multi_logloss: 1.39519\n",
      "[20]\ttraining's multi_logloss: 1.36843\tvalid_1's multi_logloss: 1.39652\n",
      "[21]\ttraining's multi_logloss: 1.36737\tvalid_1's multi_logloss: 1.39796\n",
      "[22]\ttraining's multi_logloss: 1.3665\tvalid_1's multi_logloss: 1.3998\n",
      "[23]\ttraining's multi_logloss: 1.36554\tvalid_1's multi_logloss: 1.40146\n",
      "[24]\ttraining's multi_logloss: 1.36457\tvalid_1's multi_logloss: 1.40326\n",
      "[25]\ttraining's multi_logloss: 1.36364\tvalid_1's multi_logloss: 1.40301\n",
      "[26]\ttraining's multi_logloss: 1.36274\tvalid_1's multi_logloss: 1.40488\n",
      "[27]\ttraining's multi_logloss: 1.36197\tvalid_1's multi_logloss: 1.40443\n",
      "[28]\ttraining's multi_logloss: 1.36114\tvalid_1's multi_logloss: 1.40437\n",
      "[29]\ttraining's multi_logloss: 1.36032\tvalid_1's multi_logloss: 1.40633\n",
      "[30]\ttraining's multi_logloss: 1.35956\tvalid_1's multi_logloss: 1.40852\n",
      "[31]\ttraining's multi_logloss: 1.3588\tvalid_1's multi_logloss: 1.41078\n",
      "[32]\ttraining's multi_logloss: 1.35808\tvalid_1's multi_logloss: 1.41401\n",
      "[33]\ttraining's multi_logloss: 1.35741\tvalid_1's multi_logloss: 1.41614\n",
      "[34]\ttraining's multi_logloss: 1.35665\tvalid_1's multi_logloss: 1.41856\n",
      "[35]\ttraining's multi_logloss: 1.35607\tvalid_1's multi_logloss: 1.41856\n",
      "[36]\ttraining's multi_logloss: 1.35548\tvalid_1's multi_logloss: 1.42102\n",
      "[37]\ttraining's multi_logloss: 1.35486\tvalid_1's multi_logloss: 1.42343\n",
      "[38]\ttraining's multi_logloss: 1.35426\tvalid_1's multi_logloss: 1.42686\n",
      "[39]\ttraining's multi_logloss: 1.35379\tvalid_1's multi_logloss: 1.42682\n",
      "[40]\ttraining's multi_logloss: 1.35321\tvalid_1's multi_logloss: 1.43017\n",
      "[41]\ttraining's multi_logloss: 1.35272\tvalid_1's multi_logloss: 1.43275\n",
      "[42]\ttraining's multi_logloss: 1.35223\tvalid_1's multi_logloss: 1.43658\n",
      "[43]\ttraining's multi_logloss: 1.35163\tvalid_1's multi_logloss: 1.43933\n",
      "[44]\ttraining's multi_logloss: 1.35116\tvalid_1's multi_logloss: 1.43911\n",
      "[45]\ttraining's multi_logloss: 1.35066\tvalid_1's multi_logloss: 1.44276\n",
      "[46]\ttraining's multi_logloss: 1.35024\tvalid_1's multi_logloss: 1.44575\n",
      "[47]\ttraining's multi_logloss: 1.34982\tvalid_1's multi_logloss: 1.44818\n",
      "[48]\ttraining's multi_logloss: 1.34939\tvalid_1's multi_logloss: 1.45075\n",
      "[49]\ttraining's multi_logloss: 1.34901\tvalid_1's multi_logloss: 1.45444\n",
      "[50]\ttraining's multi_logloss: 1.34858\tvalid_1's multi_logloss: 1.4571\n",
      "[51]\ttraining's multi_logloss: 1.34823\tvalid_1's multi_logloss: 1.45694\n",
      "[52]\ttraining's multi_logloss: 1.34788\tvalid_1's multi_logloss: 1.46029\n",
      "[53]\ttraining's multi_logloss: 1.34743\tvalid_1's multi_logloss: 1.46069\n",
      "[54]\ttraining's multi_logloss: 1.3471\tvalid_1's multi_logloss: 1.46367\n",
      "[55]\ttraining's multi_logloss: 1.34675\tvalid_1's multi_logloss: 1.4657\n",
      "[56]\ttraining's multi_logloss: 1.34638\tvalid_1's multi_logloss: 1.46837\n",
      "[57]\ttraining's multi_logloss: 1.34607\tvalid_1's multi_logloss: 1.47395\n",
      "[58]\ttraining's multi_logloss: 1.34571\tvalid_1's multi_logloss: 1.47553\n",
      "[59]\ttraining's multi_logloss: 1.34534\tvalid_1's multi_logloss: 1.47546\n",
      "[60]\ttraining's multi_logloss: 1.34498\tvalid_1's multi_logloss: 1.47734\n",
      "[61]\ttraining's multi_logloss: 1.34468\tvalid_1's multi_logloss: 1.47839\n",
      "Early stopping, best iteration is:\n",
      "[11]\ttraining's multi_logloss: 1.38092\tvalid_1's multi_logloss: 1.39119\n"
     ]
    }
   ],
   "source": [
    "scores2 = []\n",
    "for fold,(tr_in,te_in) in enumerate(kf.split(data, target)):\n",
    "    print(f\"================================Fold{fold}====================================\")\n",
    "    X_train,X_test = data.iloc[tr_in],data.iloc[te_in]\n",
    "    y_train,y_test = target.iloc[tr_in],target.iloc[te_in]\n",
    "    lgbm.fit(X_train,y_train,eval_set=[(X_train,y_train),(X_test,y_test)],early_stopping_rounds=50)\n",
    "    y_pred = lgbm.predict(X_test)\n",
    "    scores2.append(accuracy_score(y_test,y_pred))"
   ]
  },
  {
   "cell_type": "code",
   "execution_count": 30,
   "metadata": {
    "colab": {
     "base_uri": "https://localhost:8080/",
     "height": 36
    },
    "colab_type": "code",
    "id": "BXmPKyarq0iI",
    "outputId": "fb763c0e-7288-4279-911f-c0fac8e198af"
   },
   "outputs": [
    {
     "name": "stdout",
     "output_type": "stream",
     "text": [
      "ACCURACY:  0.4644239672236835 4.617663377498001e-06\n"
     ]
    }
   ],
   "source": [
    "print('ACCURACY: ', mean(scores2), (std(scores2)))"
   ]
  }
 ],
 "metadata": {
  "accelerator": "TPU",
  "colab": {
   "collapsed_sections": [
    "VcwC1Je7VQ6X"
   ],
   "name": "Crime.ipynb",
   "provenance": []
  },
  "kernelspec": {
   "display_name": "Python 3",
   "language": "python",
   "name": "python3"
  },
  "language_info": {
   "codemirror_mode": {
    "name": "ipython",
    "version": 3
   },
   "file_extension": ".py",
   "mimetype": "text/x-python",
   "name": "python",
   "nbconvert_exporter": "python",
   "pygments_lexer": "ipython3",
   "version": "3.7.6"
  }
 },
 "nbformat": 4,
 "nbformat_minor": 1
}
